{
 "cells": [
  {
   "cell_type": "code",
   "execution_count": 3,
   "metadata": {},
   "outputs": [],
   "source": [
    "import pandas as pd\n",
    "from sklearn.tree import DecisionTreeClassifier\n",
    "from sklearn.ensemble import RandomForestClassifier\n",
    "from sklearn.linear_model import LogisticRegression\n",
    "from fast_ml.model_development import train_valid_test_split\n",
    "from sklearn.preprocessing import StandardScaler\n",
    "from sklearn.metrics import f1_score\n",
    "from sklearn.utils import shuffle\n",
    "from sklearn.metrics import roc_auc_score"
   ]
  },
  {
   "cell_type": "markdown",
   "metadata": {
    "toc": true
   },
   "source": [
    "<h1>Содержание<span class=\"tocSkip\"></span></h1>\n",
    "<div class=\"toc\"><ul class=\"toc-item\"><li><span><a href=\"#Подготовка-данных\" data-toc-modified-id=\"Подготовка-данных-1\"><span class=\"toc-item-num\">1&nbsp;&nbsp;</span>Подготовка данных</a></span><ul class=\"toc-item\"><li><span><a href=\"#Предобработка-данных\" data-toc-modified-id=\"Предобработка-данных-1.1\"><span class=\"toc-item-num\">1.1&nbsp;&nbsp;</span>Предобработка данных</a></span></li><li><span><a href=\"#Подготовка-выборок-для-моделей\" data-toc-modified-id=\"Подготовка-выборок-для-моделей-1.2\"><span class=\"toc-item-num\">1.2&nbsp;&nbsp;</span>Подготовка выборок для моделей</a></span></li></ul></li><li><span><a href=\"#Исследование-задачи\" data-toc-modified-id=\"Исследование-задачи-2\"><span class=\"toc-item-num\">2&nbsp;&nbsp;</span>Исследование задачи</a></span></li><li><span><a href=\"#Борьба-с-дисбалансом\" data-toc-modified-id=\"Борьба-с-дисбалансом-3\"><span class=\"toc-item-num\">3&nbsp;&nbsp;</span>Борьба с дисбалансом</a></span></li><li><span><a href=\"#Тестирование-модели\" data-toc-modified-id=\"Тестирование-модели-4\"><span class=\"toc-item-num\">4&nbsp;&nbsp;</span>Тестирование модели</a></span></li><li><span><a href=\"#Чек-лист-готовности-проекта\" data-toc-modified-id=\"Чек-лист-готовности-проекта-5\"><span class=\"toc-item-num\">5&nbsp;&nbsp;</span>Чек-лист готовности проекта</a></span></li></ul></div>"
   ]
  },
  {
   "cell_type": "markdown",
   "metadata": {},
   "source": [
    "# Отток клиентов"
   ]
  },
  {
   "cell_type": "markdown",
   "metadata": {},
   "source": [
    "Из «Бета-Банка» стали уходить клиенты. Каждый месяц. Немного, но заметно. Банковские маркетологи посчитали: сохранять текущих клиентов дешевле, чем привлекать новых.\n",
    "\n",
    "Нужно спрогнозировать, уйдёт клиент из банка в ближайшее время или нет. Вам предоставлены исторические данные о поведении клиентов и расторжении договоров с банком. \n",
    "\n",
    "Постройте модель с предельно большим значением *F1*-меры. Чтобы сдать проект успешно, нужно довести метрику до 0.59. Проверьте *F1*-меру на тестовой выборке самостоятельно.\n",
    "\n",
    "Дополнительно измеряйте *AUC-ROC*, сравнивайте её значение с *F1*-мерой.\n",
    "\n",
    "Источник данных: [https://www.kaggle.com/barelydedicated/bank-customer-churn-modeling](https://www.kaggle.com/barelydedicated/bank-customer-churn-modeling)"
   ]
  },
  {
   "cell_type": "markdown",
   "metadata": {},
   "source": [
    "## Подготовка данных"
   ]
  },
  {
   "cell_type": "markdown",
   "metadata": {},
   "source": [
    "### Предобработка данных"
   ]
  },
  {
   "cell_type": "code",
   "execution_count": 6,
   "metadata": {},
   "outputs": [],
   "source": [
    "df = pd.read_csv('Churn.csv')"
   ]
  },
  {
   "cell_type": "code",
   "execution_count": 7,
   "metadata": {
    "scrolled": true
   },
   "outputs": [
    {
     "data": {
      "text/html": [
       "<div>\n",
       "<style scoped>\n",
       "    .dataframe tbody tr th:only-of-type {\n",
       "        vertical-align: middle;\n",
       "    }\n",
       "\n",
       "    .dataframe tbody tr th {\n",
       "        vertical-align: top;\n",
       "    }\n",
       "\n",
       "    .dataframe thead th {\n",
       "        text-align: right;\n",
       "    }\n",
       "</style>\n",
       "<table border=\"1\" class=\"dataframe\">\n",
       "  <thead>\n",
       "    <tr style=\"text-align: right;\">\n",
       "      <th></th>\n",
       "      <th>RowNumber</th>\n",
       "      <th>CustomerId</th>\n",
       "      <th>Surname</th>\n",
       "      <th>CreditScore</th>\n",
       "      <th>Geography</th>\n",
       "      <th>Gender</th>\n",
       "      <th>Age</th>\n",
       "      <th>Tenure</th>\n",
       "      <th>Balance</th>\n",
       "      <th>NumOfProducts</th>\n",
       "      <th>HasCrCard</th>\n",
       "      <th>IsActiveMember</th>\n",
       "      <th>EstimatedSalary</th>\n",
       "      <th>Exited</th>\n",
       "    </tr>\n",
       "  </thead>\n",
       "  <tbody>\n",
       "    <tr>\n",
       "      <th>0</th>\n",
       "      <td>1</td>\n",
       "      <td>15634602</td>\n",
       "      <td>Hargrave</td>\n",
       "      <td>619</td>\n",
       "      <td>France</td>\n",
       "      <td>Female</td>\n",
       "      <td>42</td>\n",
       "      <td>2</td>\n",
       "      <td>0.00</td>\n",
       "      <td>1</td>\n",
       "      <td>1</td>\n",
       "      <td>1</td>\n",
       "      <td>101348.88</td>\n",
       "      <td>1</td>\n",
       "    </tr>\n",
       "    <tr>\n",
       "      <th>1</th>\n",
       "      <td>2</td>\n",
       "      <td>15647311</td>\n",
       "      <td>Hill</td>\n",
       "      <td>608</td>\n",
       "      <td>Spain</td>\n",
       "      <td>Female</td>\n",
       "      <td>41</td>\n",
       "      <td>1</td>\n",
       "      <td>83807.86</td>\n",
       "      <td>1</td>\n",
       "      <td>0</td>\n",
       "      <td>1</td>\n",
       "      <td>112542.58</td>\n",
       "      <td>0</td>\n",
       "    </tr>\n",
       "    <tr>\n",
       "      <th>2</th>\n",
       "      <td>3</td>\n",
       "      <td>15619304</td>\n",
       "      <td>Onio</td>\n",
       "      <td>502</td>\n",
       "      <td>France</td>\n",
       "      <td>Female</td>\n",
       "      <td>42</td>\n",
       "      <td>8</td>\n",
       "      <td>159660.80</td>\n",
       "      <td>3</td>\n",
       "      <td>1</td>\n",
       "      <td>0</td>\n",
       "      <td>113931.57</td>\n",
       "      <td>1</td>\n",
       "    </tr>\n",
       "    <tr>\n",
       "      <th>3</th>\n",
       "      <td>4</td>\n",
       "      <td>15701354</td>\n",
       "      <td>Boni</td>\n",
       "      <td>699</td>\n",
       "      <td>France</td>\n",
       "      <td>Female</td>\n",
       "      <td>39</td>\n",
       "      <td>1</td>\n",
       "      <td>0.00</td>\n",
       "      <td>2</td>\n",
       "      <td>0</td>\n",
       "      <td>0</td>\n",
       "      <td>93826.63</td>\n",
       "      <td>0</td>\n",
       "    </tr>\n",
       "    <tr>\n",
       "      <th>4</th>\n",
       "      <td>5</td>\n",
       "      <td>15737888</td>\n",
       "      <td>Mitchell</td>\n",
       "      <td>850</td>\n",
       "      <td>Spain</td>\n",
       "      <td>Female</td>\n",
       "      <td>43</td>\n",
       "      <td>2</td>\n",
       "      <td>125510.82</td>\n",
       "      <td>1</td>\n",
       "      <td>1</td>\n",
       "      <td>1</td>\n",
       "      <td>79084.10</td>\n",
       "      <td>0</td>\n",
       "    </tr>\n",
       "  </tbody>\n",
       "</table>\n",
       "</div>"
      ],
      "text/plain": [
       "   RowNumber  CustomerId   Surname  CreditScore Geography  Gender  Age  \\\n",
       "0          1    15634602  Hargrave          619    France  Female   42   \n",
       "1          2    15647311      Hill          608     Spain  Female   41   \n",
       "2          3    15619304      Onio          502    France  Female   42   \n",
       "3          4    15701354      Boni          699    France  Female   39   \n",
       "4          5    15737888  Mitchell          850     Spain  Female   43   \n",
       "\n",
       "   Tenure    Balance  NumOfProducts  HasCrCard  IsActiveMember  \\\n",
       "0       2       0.00              1          1               1   \n",
       "1       1   83807.86              1          0               1   \n",
       "2       8  159660.80              3          1               0   \n",
       "3       1       0.00              2          0               0   \n",
       "4       2  125510.82              1          1               1   \n",
       "\n",
       "   EstimatedSalary  Exited  \n",
       "0        101348.88       1  \n",
       "1        112542.58       0  \n",
       "2        113931.57       1  \n",
       "3         93826.63       0  \n",
       "4         79084.10       0  "
      ]
     },
     "execution_count": 7,
     "metadata": {},
     "output_type": "execute_result"
    }
   ],
   "source": [
    "df.head()"
   ]
  },
  {
   "cell_type": "code",
   "execution_count": 8,
   "metadata": {
    "scrolled": false
   },
   "outputs": [
    {
     "name": "stdout",
     "output_type": "stream",
     "text": [
      "<class 'pandas.core.frame.DataFrame'>\n",
      "RangeIndex: 10000 entries, 0 to 9999\n",
      "Data columns (total 14 columns):\n",
      " #   Column           Non-Null Count  Dtype  \n",
      "---  ------           --------------  -----  \n",
      " 0   RowNumber        10000 non-null  int64  \n",
      " 1   CustomerId       10000 non-null  int64  \n",
      " 2   Surname          10000 non-null  object \n",
      " 3   CreditScore      10000 non-null  int64  \n",
      " 4   Geography        10000 non-null  object \n",
      " 5   Gender           10000 non-null  object \n",
      " 6   Age              10000 non-null  int64  \n",
      " 7   Tenure           10000 non-null  int64  \n",
      " 8   Balance          10000 non-null  float64\n",
      " 9   NumOfProducts    10000 non-null  int64  \n",
      " 10  HasCrCard        10000 non-null  int64  \n",
      " 11  IsActiveMember   10000 non-null  int64  \n",
      " 12  EstimatedSalary  10000 non-null  float64\n",
      " 13  Exited           10000 non-null  int64  \n",
      "dtypes: float64(2), int64(9), object(3)\n",
      "memory usage: 1.1+ MB\n"
     ]
    }
   ],
   "source": [
    "df.info()"
   ]
  },
  {
   "cell_type": "markdown",
   "metadata": {},
   "source": [
    "С **типами данных** все в порядке.  \n",
    "Обнаружены **пустые значения** в столбце Tenure. Можно заполнить их медианным значением."
   ]
  },
  {
   "cell_type": "code",
   "execution_count": 9,
   "metadata": {},
   "outputs": [],
   "source": [
    "df.loc[df['Tenure'].isna(), 'Tenure'] = df['Tenure'].median()"
   ]
  },
  {
   "cell_type": "markdown",
   "metadata": {},
   "source": [
    "**Проверим на дубли**"
   ]
  },
  {
   "cell_type": "code",
   "execution_count": 10,
   "metadata": {},
   "outputs": [
    {
     "data": {
      "text/html": [
       "<div>\n",
       "<style scoped>\n",
       "    .dataframe tbody tr th:only-of-type {\n",
       "        vertical-align: middle;\n",
       "    }\n",
       "\n",
       "    .dataframe tbody tr th {\n",
       "        vertical-align: top;\n",
       "    }\n",
       "\n",
       "    .dataframe thead th {\n",
       "        text-align: right;\n",
       "    }\n",
       "</style>\n",
       "<table border=\"1\" class=\"dataframe\">\n",
       "  <thead>\n",
       "    <tr style=\"text-align: right;\">\n",
       "      <th></th>\n",
       "      <th>RowNumber</th>\n",
       "      <th>CustomerId</th>\n",
       "      <th>Surname</th>\n",
       "      <th>CreditScore</th>\n",
       "      <th>Geography</th>\n",
       "      <th>Gender</th>\n",
       "      <th>Age</th>\n",
       "      <th>Tenure</th>\n",
       "      <th>Balance</th>\n",
       "      <th>NumOfProducts</th>\n",
       "      <th>HasCrCard</th>\n",
       "      <th>IsActiveMember</th>\n",
       "      <th>EstimatedSalary</th>\n",
       "      <th>Exited</th>\n",
       "    </tr>\n",
       "  </thead>\n",
       "  <tbody>\n",
       "  </tbody>\n",
       "</table>\n",
       "</div>"
      ],
      "text/plain": [
       "Empty DataFrame\n",
       "Columns: [RowNumber, CustomerId, Surname, CreditScore, Geography, Gender, Age, Tenure, Balance, NumOfProducts, HasCrCard, IsActiveMember, EstimatedSalary, Exited]\n",
       "Index: []"
      ]
     },
     "execution_count": 10,
     "metadata": {},
     "output_type": "execute_result"
    }
   ],
   "source": [
    "df[df.duplicated()]"
   ]
  },
  {
   "cell_type": "code",
   "execution_count": 11,
   "metadata": {},
   "outputs": [
    {
     "data": {
      "text/html": [
       "<div>\n",
       "<style scoped>\n",
       "    .dataframe tbody tr th:only-of-type {\n",
       "        vertical-align: middle;\n",
       "    }\n",
       "\n",
       "    .dataframe tbody tr th {\n",
       "        vertical-align: top;\n",
       "    }\n",
       "\n",
       "    .dataframe thead th {\n",
       "        text-align: right;\n",
       "    }\n",
       "</style>\n",
       "<table border=\"1\" class=\"dataframe\">\n",
       "  <thead>\n",
       "    <tr style=\"text-align: right;\">\n",
       "      <th></th>\n",
       "      <th>RowNumber</th>\n",
       "      <th>CustomerId</th>\n",
       "      <th>Surname</th>\n",
       "      <th>CreditScore</th>\n",
       "      <th>Geography</th>\n",
       "      <th>Gender</th>\n",
       "      <th>Age</th>\n",
       "      <th>Tenure</th>\n",
       "      <th>Balance</th>\n",
       "      <th>NumOfProducts</th>\n",
       "      <th>HasCrCard</th>\n",
       "      <th>IsActiveMember</th>\n",
       "      <th>EstimatedSalary</th>\n",
       "      <th>Exited</th>\n",
       "    </tr>\n",
       "  </thead>\n",
       "  <tbody>\n",
       "  </tbody>\n",
       "</table>\n",
       "</div>"
      ],
      "text/plain": [
       "Empty DataFrame\n",
       "Columns: [RowNumber, CustomerId, Surname, CreditScore, Geography, Gender, Age, Tenure, Balance, NumOfProducts, HasCrCard, IsActiveMember, EstimatedSalary, Exited]\n",
       "Index: []"
      ]
     },
     "execution_count": 11,
     "metadata": {},
     "output_type": "execute_result"
    }
   ],
   "source": [
    "df[df.RowNumber.duplicated()]"
   ]
  },
  {
   "cell_type": "code",
   "execution_count": 12,
   "metadata": {},
   "outputs": [
    {
     "data": {
      "text/html": [
       "<div>\n",
       "<style scoped>\n",
       "    .dataframe tbody tr th:only-of-type {\n",
       "        vertical-align: middle;\n",
       "    }\n",
       "\n",
       "    .dataframe tbody tr th {\n",
       "        vertical-align: top;\n",
       "    }\n",
       "\n",
       "    .dataframe thead th {\n",
       "        text-align: right;\n",
       "    }\n",
       "</style>\n",
       "<table border=\"1\" class=\"dataframe\">\n",
       "  <thead>\n",
       "    <tr style=\"text-align: right;\">\n",
       "      <th></th>\n",
       "      <th>RowNumber</th>\n",
       "      <th>CustomerId</th>\n",
       "      <th>Surname</th>\n",
       "      <th>CreditScore</th>\n",
       "      <th>Geography</th>\n",
       "      <th>Gender</th>\n",
       "      <th>Age</th>\n",
       "      <th>Tenure</th>\n",
       "      <th>Balance</th>\n",
       "      <th>NumOfProducts</th>\n",
       "      <th>HasCrCard</th>\n",
       "      <th>IsActiveMember</th>\n",
       "      <th>EstimatedSalary</th>\n",
       "      <th>Exited</th>\n",
       "    </tr>\n",
       "  </thead>\n",
       "  <tbody>\n",
       "  </tbody>\n",
       "</table>\n",
       "</div>"
      ],
      "text/plain": [
       "Empty DataFrame\n",
       "Columns: [RowNumber, CustomerId, Surname, CreditScore, Geography, Gender, Age, Tenure, Balance, NumOfProducts, HasCrCard, IsActiveMember, EstimatedSalary, Exited]\n",
       "Index: []"
      ]
     },
     "execution_count": 12,
     "metadata": {},
     "output_type": "execute_result"
    }
   ],
   "source": [
    "df[df.CustomerId.duplicated()]"
   ]
  },
  {
   "cell_type": "markdown",
   "metadata": {},
   "source": [
    "**Вывод:**\n",
    "- Дублей не обнаружено\n",
    "- типы столбцов корректные\n",
    "- заполнены пропуски\n",
    "- данные можно использовать"
   ]
  },
  {
   "cell_type": "markdown",
   "metadata": {},
   "source": [
    "### Подготовка выборок для моделей"
   ]
  },
  {
   "cell_type": "markdown",
   "metadata": {},
   "source": [
    "Такие данные, как фамилия клиента, номер строки, ID клиента, моделям ни о чем не скажут."
   ]
  },
  {
   "cell_type": "code",
   "execution_count": 13,
   "metadata": {},
   "outputs": [],
   "source": [
    "df.drop(columns=['RowNumber', 'CustomerId', 'Surname'], inplace=True)"
   ]
  },
  {
   "cell_type": "markdown",
   "metadata": {},
   "source": [
    "Категориальные текстовые данные кодируем методом OHE"
   ]
  },
  {
   "cell_type": "code",
   "execution_count": 14,
   "metadata": {},
   "outputs": [],
   "source": [
    "df = pd.get_dummies(df, drop_first=True)"
   ]
  },
  {
   "cell_type": "markdown",
   "metadata": {},
   "source": [
    "Разделяем наши данные на 3 выборки"
   ]
  },
  {
   "cell_type": "code",
   "execution_count": 15,
   "metadata": {},
   "outputs": [
    {
     "name": "stdout",
     "output_type": "stream",
     "text": [
      "train: (7000, 11)\n",
      "valid: (1500, 11)\n",
      "test: (1500, 11)\n"
     ]
    }
   ],
   "source": [
    "features_train, target_train, features_valid, target_valid, features_test, target_test = train_valid_test_split(\n",
    "    df, target = 'Exited', train_size=0.7, valid_size=0.15, test_size=0.15, random_state=999)\n",
    "\n",
    "print('train:', features_train.shape)\n",
    "print('valid:', features_valid.shape)\n",
    "print('test:', features_test.shape)"
   ]
  },
  {
   "cell_type": "code",
   "execution_count": 16,
   "metadata": {},
   "outputs": [
    {
     "data": {
      "text/plain": [
       "['CreditScore',\n",
       " 'Age',\n",
       " 'Tenure',\n",
       " 'Balance',\n",
       " 'NumOfProducts',\n",
       " 'HasCrCard',\n",
       " 'IsActiveMember',\n",
       " 'EstimatedSalary',\n",
       " 'Geography_Germany',\n",
       " 'Geography_Spain',\n",
       " 'Gender_Male']"
      ]
     },
     "execution_count": 16,
     "metadata": {},
     "output_type": "execute_result"
    }
   ],
   "source": [
    "# колонки для масштабирования\n",
    "numerics = ['int64', 'float64', 'uint8']\n",
    "numeric_cols = df.select_dtypes(include=numerics).columns.tolist()\n",
    "numeric_cols.remove('Exited')\n",
    "numeric_cols"
   ]
  },
  {
   "cell_type": "code",
   "execution_count": 17,
   "metadata": {},
   "outputs": [],
   "source": [
    "# # объявляем scaler\n",
    "scaler = StandardScaler()\n",
    "# обучаем\n",
    "scaler.fit(features_train[numeric_cols])\n",
    "# Масштабируем\n",
    "features_train[numeric_cols] = scaler.transform(features_train[numeric_cols])\n",
    "features_valid[numeric_cols] = scaler.transform(features_valid[numeric_cols])\n",
    "features_test[numeric_cols] = scaler.transform(features_test[numeric_cols])"
   ]
  },
  {
   "cell_type": "code",
   "execution_count": 18,
   "metadata": {},
   "outputs": [
    {
     "data": {
      "text/html": [
       "<div>\n",
       "<style scoped>\n",
       "    .dataframe tbody tr th:only-of-type {\n",
       "        vertical-align: middle;\n",
       "    }\n",
       "\n",
       "    .dataframe tbody tr th {\n",
       "        vertical-align: top;\n",
       "    }\n",
       "\n",
       "    .dataframe thead th {\n",
       "        text-align: right;\n",
       "    }\n",
       "</style>\n",
       "<table border=\"1\" class=\"dataframe\">\n",
       "  <thead>\n",
       "    <tr style=\"text-align: right;\">\n",
       "      <th></th>\n",
       "      <th>CreditScore</th>\n",
       "      <th>Age</th>\n",
       "      <th>Tenure</th>\n",
       "      <th>Balance</th>\n",
       "      <th>NumOfProducts</th>\n",
       "      <th>HasCrCard</th>\n",
       "      <th>IsActiveMember</th>\n",
       "      <th>EstimatedSalary</th>\n",
       "      <th>Geography_Germany</th>\n",
       "      <th>Geography_Spain</th>\n",
       "      <th>Gender_Male</th>\n",
       "    </tr>\n",
       "  </thead>\n",
       "  <tbody>\n",
       "    <tr>\n",
       "      <th>2572</th>\n",
       "      <td>0.620491</td>\n",
       "      <td>1.853015</td>\n",
       "      <td>1.381546</td>\n",
       "      <td>0.227444</td>\n",
       "      <td>0.801800</td>\n",
       "      <td>0.648202</td>\n",
       "      <td>0.969882</td>\n",
       "      <td>-1.285115</td>\n",
       "      <td>-0.578230</td>\n",
       "      <td>-0.570532</td>\n",
       "      <td>0.918720</td>\n",
       "    </tr>\n",
       "    <tr>\n",
       "      <th>4540</th>\n",
       "      <td>-0.676503</td>\n",
       "      <td>-0.655623</td>\n",
       "      <td>-1.378391</td>\n",
       "      <td>1.168705</td>\n",
       "      <td>-0.911448</td>\n",
       "      <td>0.648202</td>\n",
       "      <td>-1.031053</td>\n",
       "      <td>-1.196694</td>\n",
       "      <td>1.729416</td>\n",
       "      <td>-0.570532</td>\n",
       "      <td>0.918720</td>\n",
       "    </tr>\n",
       "    <tr>\n",
       "      <th>8384</th>\n",
       "      <td>1.077033</td>\n",
       "      <td>-0.462651</td>\n",
       "      <td>-0.688407</td>\n",
       "      <td>-1.240591</td>\n",
       "      <td>0.801800</td>\n",
       "      <td>0.648202</td>\n",
       "      <td>0.969882</td>\n",
       "      <td>1.021341</td>\n",
       "      <td>-0.578230</td>\n",
       "      <td>-0.570532</td>\n",
       "      <td>0.918720</td>\n",
       "    </tr>\n",
       "    <tr>\n",
       "      <th>3149</th>\n",
       "      <td>-0.085074</td>\n",
       "      <td>-0.462651</td>\n",
       "      <td>1.036554</td>\n",
       "      <td>0.648247</td>\n",
       "      <td>-0.911448</td>\n",
       "      <td>0.648202</td>\n",
       "      <td>-1.031053</td>\n",
       "      <td>-0.610775</td>\n",
       "      <td>-0.578230</td>\n",
       "      <td>1.752751</td>\n",
       "      <td>-1.088471</td>\n",
       "    </tr>\n",
       "    <tr>\n",
       "      <th>5479</th>\n",
       "      <td>-0.852895</td>\n",
       "      <td>-0.366165</td>\n",
       "      <td>-0.688407</td>\n",
       "      <td>0.640494</td>\n",
       "      <td>-0.911448</td>\n",
       "      <td>-1.542728</td>\n",
       "      <td>-1.031053</td>\n",
       "      <td>-0.102248</td>\n",
       "      <td>-0.578230</td>\n",
       "      <td>1.752751</td>\n",
       "      <td>0.918720</td>\n",
       "    </tr>\n",
       "  </tbody>\n",
       "</table>\n",
       "</div>"
      ],
      "text/plain": [
       "      CreditScore       Age    Tenure   Balance  NumOfProducts  HasCrCard  \\\n",
       "2572     0.620491  1.853015  1.381546  0.227444       0.801800   0.648202   \n",
       "4540    -0.676503 -0.655623 -1.378391  1.168705      -0.911448   0.648202   \n",
       "8384     1.077033 -0.462651 -0.688407 -1.240591       0.801800   0.648202   \n",
       "3149    -0.085074 -0.462651  1.036554  0.648247      -0.911448   0.648202   \n",
       "5479    -0.852895 -0.366165 -0.688407  0.640494      -0.911448  -1.542728   \n",
       "\n",
       "      IsActiveMember  EstimatedSalary  Geography_Germany  Geography_Spain  \\\n",
       "2572        0.969882        -1.285115          -0.578230        -0.570532   \n",
       "4540       -1.031053        -1.196694           1.729416        -0.570532   \n",
       "8384        0.969882         1.021341          -0.578230        -0.570532   \n",
       "3149       -1.031053        -0.610775          -0.578230         1.752751   \n",
       "5479       -1.031053        -0.102248          -0.578230         1.752751   \n",
       "\n",
       "      Gender_Male  \n",
       "2572     0.918720  \n",
       "4540     0.918720  \n",
       "8384     0.918720  \n",
       "3149    -1.088471  \n",
       "5479     0.918720  "
      ]
     },
     "execution_count": 18,
     "metadata": {},
     "output_type": "execute_result"
    }
   ],
   "source": [
    "features_train.head()"
   ]
  },
  {
   "cell_type": "markdown",
   "metadata": {},
   "source": [
    "## Исследование задачи"
   ]
  },
  {
   "cell_type": "markdown",
   "metadata": {},
   "source": [
    "Посмотрим на наличие дисбаланса классов"
   ]
  },
  {
   "cell_type": "code",
   "execution_count": 19,
   "metadata": {
    "scrolled": true
   },
   "outputs": [
    {
     "data": {
      "text/plain": [
       "0    7963\n",
       "1    2037\n",
       "Name: Exited, dtype: int64"
      ]
     },
     "execution_count": 19,
     "metadata": {},
     "output_type": "execute_result"
    }
   ],
   "source": [
    "df.Exited.value_counts()"
   ]
  },
  {
   "cell_type": "markdown",
   "metadata": {},
   "source": [
    "**Вывод**: Дисбаланс определенно присутствует"
   ]
  },
  {
   "cell_type": "markdown",
   "metadata": {},
   "source": [
    "Попробуем обучить модели с без учета дисбаланса классов и посчитать метрику F1"
   ]
  },
  {
   "cell_type": "code",
   "execution_count": 20,
   "metadata": {},
   "outputs": [
    {
     "name": "stdout",
     "output_type": "stream",
     "text": [
      "Best depth: 5 F1: 0.5962264150943397\n"
     ]
    }
   ],
   "source": [
    "# DecisionTreeClassifier\n",
    "best_f1 = 0\n",
    "best_depth = 0\n",
    "for depth in range(2, 17):\n",
    "    model = DecisionTreeClassifier(random_state=999, max_depth=depth)\n",
    "    model.fit(features_train, target_train)\n",
    "    predictions = model.predict(features_valid)\n",
    "    f1 = f1_score(target_valid, predictions)\n",
    "    if f1 > best_f1:\n",
    "        best_f1 = f1\n",
    "        best_depth = depth\n",
    "\n",
    "print('Best depth:', best_depth, 'F1:', best_f1)"
   ]
  },
  {
   "cell_type": "code",
   "execution_count": 21,
   "metadata": {},
   "outputs": [
    {
     "name": "stdout",
     "output_type": "stream",
     "text": [
      "Best depth: 14 Best estims 100 F1: 0.6012024048096192\n"
     ]
    }
   ],
   "source": [
    "# RandomForestClassifier\n",
    "# сначала подбираем лучшую глубину\n",
    "best_f1 = 0\n",
    "best_depth = 0\n",
    "for depth in range(2, 17):\n",
    "    model = RandomForestClassifier(random_state=999, max_depth=depth)\n",
    "    model.fit(features_train, target_train)\n",
    "    predictions = model.predict(features_valid)\n",
    "    f1 = f1_score(target_valid, predictions)\n",
    "    if f1 > best_f1:\n",
    "        best_f1 = f1\n",
    "        best_depth = depth\n",
    "\n",
    "# по лучшей глубине подберем лучшее число деревьев\n",
    "best_estims = 100 #by default\n",
    "for estims in range(20, 121, 10):\n",
    "    model = RandomForestClassifier(random_state=999, max_depth=best_depth, n_estimators=estims)\n",
    "    model.fit(features_train, target_train)\n",
    "    predictions = model.predict(features_valid)\n",
    "    f1 = f1_score(target_valid, predictions)\n",
    "    if f1 > best_f1:\n",
    "        best_f1 = f1\n",
    "        best_estims = estims\n",
    "        \n",
    "print('Best depth:', best_depth, 'Best estims', best_estims, 'F1:', best_f1)"
   ]
  },
  {
   "cell_type": "code",
   "execution_count": 22,
   "metadata": {},
   "outputs": [
    {
     "name": "stdout",
     "output_type": "stream",
     "text": [
      "Best iters 3 F1: 0.33185840707964603\n"
     ]
    }
   ],
   "source": [
    "# LogisticRegression\n",
    "# подберем лучшее число итераций обучения\n",
    "best_iters = 0 \n",
    "best_f1 = 0\n",
    "for iters in range(1, 15, 1):\n",
    "    model = LogisticRegression(max_iter=iters, random_state=999, solver='lbfgs')\n",
    "    model.fit(features_train, target_train)\n",
    "    predictions = model.predict(features_valid)\n",
    "    f1 = f1_score(target_valid, predictions)\n",
    "    if f1 > best_f1:\n",
    "        best_f1 = f1\n",
    "        best_iters = iters\n",
    "        \n",
    "print('Best iters', best_iters, 'F1:', best_f1)"
   ]
  },
  {
   "cell_type": "markdown",
   "metadata": {},
   "source": [
    "**Вывод:**  \n",
    "Лучшая модель без учета дибаланса классов - RandomForestClassifier с лучшим найденным `F1 = 0.6`"
   ]
  },
  {
   "cell_type": "markdown",
   "metadata": {},
   "source": [
    "## Борьба с дисбалансом"
   ]
  },
  {
   "cell_type": "markdown",
   "metadata": {},
   "source": [
    "Попробуем использовать гиперпараметр `class_weight='balanced'`"
   ]
  },
  {
   "cell_type": "code",
   "execution_count": 26,
   "metadata": {},
   "outputs": [
    {
     "name": "stdout",
     "output_type": "stream",
     "text": [
      "Best depth: 7 F1: 0.5794621026894865\n"
     ]
    }
   ],
   "source": [
    "# DecisionTreeClassifier\n",
    "best_f1 = 0\n",
    "best_depth = 0\n",
    "for depth in range(1, 16):\n",
    "    model = DecisionTreeClassifier(random_state=999, max_depth=depth, class_weight='balanced')\n",
    "    model.fit(features_train, target_train)\n",
    "    predictions = model.predict(features_valid)\n",
    "    f1 = f1_score(target_valid, predictions)\n",
    "    if f1 > best_f1:\n",
    "        best_f1 = f1\n",
    "        best_depth = depth\n",
    "\n",
    "print('Best depth:', best_depth, 'F1:', best_f1)"
   ]
  },
  {
   "cell_type": "markdown",
   "metadata": {},
   "source": [
    "Для решающего дерева результат почему-то стал хуже, чем был"
   ]
  },
  {
   "cell_type": "code",
   "execution_count": 27,
   "metadata": {},
   "outputs": [
    {
     "name": "stdout",
     "output_type": "stream",
     "text": [
      "Best depth: 9 Best estims 120 F1: 0.6505295007564296\n"
     ]
    }
   ],
   "source": [
    "# RandomForestClassifier\n",
    "# сначала подбираем лучшую глубину\n",
    "best_f1 = 0\n",
    "best_depth = 0\n",
    "for depth in range(1, 16):\n",
    "    model = RandomForestClassifier(random_state=999, max_depth=depth, class_weight='balanced')\n",
    "    model.fit(features_train, target_train)\n",
    "    predictions = model.predict(features_valid)\n",
    "    f1 = f1_score(target_valid, predictions)\n",
    "    if f1 > best_f1:\n",
    "        best_f1 = f1\n",
    "        best_depth = depth\n",
    "\n",
    "# по лучшей глубине подберем лучшее число деревьев\n",
    "best_estims = 100 #by default\n",
    "for estims in range(10, 161, 10):\n",
    "    model = RandomForestClassifier(random_state=999, max_depth=best_depth, n_estimators=estims, class_weight='balanced')\n",
    "    model.fit(features_train, target_train)\n",
    "    predictions = model.predict(features_valid)\n",
    "    f1 = f1_score(target_valid, predictions)\n",
    "    if f1 > best_f1:\n",
    "        best_f1 = f1\n",
    "        best_estims = estims\n",
    "        \n",
    "print('Best depth:', best_depth, 'Best estims', best_estims, 'F1:', best_f1)"
   ]
  },
  {
   "cell_type": "markdown",
   "metadata": {},
   "source": [
    "RandomForestClassifier: F1 составил 0.65, что уже лучше против 0.6 для модели без учета несбалансированности классов"
   ]
  },
  {
   "cell_type": "code",
   "execution_count": 22,
   "metadata": {},
   "outputs": [
    {
     "name": "stdout",
     "output_type": "stream",
     "text": [
      "Best iters 4 F1: 0.5147392290249434\n"
     ]
    }
   ],
   "source": [
    "# LogisticRegression\n",
    "# подберем лучшее число итераций обучения\n",
    "best_iters = 0 \n",
    "best_f1 = 0\n",
    "for iters in range(1, 20, 1):\n",
    "    model = LogisticRegression(max_iter=iters, random_state=999, solver='lbfgs', class_weight='balanced')\n",
    "    model.fit(features_train, target_train)\n",
    "    predictions = model.predict(features_valid)\n",
    "    f1 = f1_score(target_valid, predictions)\n",
    "    if f1 > best_f1:\n",
    "        best_f1 = f1\n",
    "        best_iters = iters\n",
    "        \n",
    "print('Best iters', best_iters, 'F1:', best_f1)"
   ]
  },
  {
   "cell_type": "markdown",
   "metadata": {},
   "source": [
    "LogisticRegression: результат стал значительно лучше."
   ]
  },
  {
   "cell_type": "markdown",
   "metadata": {},
   "source": [
    "Теперь сравним применение гиперпараметра `class_weight='balanced'` с **upsampling**'ом"
   ]
  },
  {
   "cell_type": "code",
   "execution_count": 23,
   "metadata": {},
   "outputs": [],
   "source": [
    "def upsample(features, target):\n",
    "    features_zeros = features[target == 0]\n",
    "    features_ones = features[target == 1]\n",
    "    target_zeros = target[target == 0]\n",
    "    target_ones = target[target == 1]\n",
    "    \n",
    "    # рассчитаем соотношение классов\n",
    "    repeat = round(len(target_zeros) / len(target_ones))\n",
    "        \n",
    "    features_upsampled = pd.concat([features_zeros] + [features_ones] * repeat)\n",
    "    target_upsampled = pd.concat([target_zeros] + [target_ones] * repeat)\n",
    "    features_upsampled, target_upsampled = shuffle(features_upsampled, target_upsampled, random_state=999)\n",
    "    \n",
    "    return features_upsampled, target_upsampled"
   ]
  },
  {
   "cell_type": "code",
   "execution_count": 24,
   "metadata": {},
   "outputs": [],
   "source": [
    "features_train_upsampld, features_target_upsampld = upsample(features_train, target_train)"
   ]
  },
  {
   "cell_type": "code",
   "execution_count": 25,
   "metadata": {},
   "outputs": [
    {
     "data": {
      "text/plain": [
       "1    5788\n",
       "0    5553\n",
       "Name: Exited, dtype: int64"
      ]
     },
     "execution_count": 25,
     "metadata": {},
     "output_type": "execute_result"
    }
   ],
   "source": [
    "# проверяем баланс классов\n",
    "features_target_upsampld.value_counts()"
   ]
  },
  {
   "cell_type": "markdown",
   "metadata": {},
   "source": [
    "Теперь мы имеем примерно поровну значений в каждом классе. Обучим модель:"
   ]
  },
  {
   "cell_type": "code",
   "execution_count": 26,
   "metadata": {},
   "outputs": [
    {
     "name": "stdout",
     "output_type": "stream",
     "text": [
      "Best depth: 11 Best estims 70 F1: 0.6397608370702541\n"
     ]
    }
   ],
   "source": [
    "# RandomForestClassifier\n",
    "# сначала подбираем лучшую глубину\n",
    "best_f1 = 0\n",
    "best_depth = 0\n",
    "for depth in range(1, 16):\n",
    "    model = RandomForestClassifier(random_state=999, max_depth=depth)\n",
    "    model.fit(features_train_upsampld, features_target_upsampld)\n",
    "    predictions = model.predict(features_valid)\n",
    "    f1 = f1_score(target_valid, predictions)\n",
    "    if f1 > best_f1:\n",
    "        best_f1 = f1\n",
    "        best_depth = depth\n",
    "\n",
    "# по лучшей глубине подберем лучшее число деревьев\n",
    "best_estims = 100 #by default\n",
    "for estims in range(10, 161, 10):\n",
    "    model = RandomForestClassifier(random_state=999, max_depth=best_depth, n_estimators=estims)\n",
    "    model.fit(features_train_upsampld, features_target_upsampld)\n",
    "    predictions = model.predict(features_valid)\n",
    "    f1 = f1_score(target_valid, predictions)\n",
    "    if f1 > best_f1:\n",
    "        best_f1 = f1\n",
    "        best_estims = estims\n",
    "        \n",
    "print('Best depth:', best_depth, 'Best estims', best_estims, 'F1:', best_f1)"
   ]
  },
  {
   "cell_type": "markdown",
   "metadata": {},
   "source": [
    "Upsampling показал худшие результаты (0.64) против class_weight='balanced' (0.652)"
   ]
  },
  {
   "cell_type": "markdown",
   "metadata": {},
   "source": [
    "**Вывод:**\n",
    "- Лучший F1 показала модель `RandomForestClassifier`\n",
    "- Были подобраны следующие лучшие гиперпараметры: `depth: 9`, `n_estimators: 120`, `class_weight='balanced'`\n",
    "- Метрика **F1: 0.652** (на валидационной выборке)\n",
    "- С несбалансированностью классов лучше помог справиться гиперпараметр `class_weight='balanced'`, нежели `upsampling` обучающих выборок."
   ]
  },
  {
   "cell_type": "markdown",
   "metadata": {},
   "source": [
    "## Тестирование модели"
   ]
  },
  {
   "cell_type": "markdown",
   "metadata": {},
   "source": [
    "Заново обучим нашу лучшую модель, т.к. ранее она \"перезаписалась\""
   ]
  },
  {
   "cell_type": "code",
   "execution_count": 28,
   "metadata": {
    "scrolled": false
   },
   "outputs": [
    {
     "data": {
      "text/plain": [
       "RandomForestClassifier(class_weight='balanced', max_depth=9, n_estimators=120,\n",
       "                       random_state=999)"
      ]
     },
     "execution_count": 28,
     "metadata": {},
     "output_type": "execute_result"
    }
   ],
   "source": [
    "model = RandomForestClassifier(random_state=999, max_depth=9, n_estimators=120, class_weight='balanced')\n",
    "model.fit(features_train, target_train)"
   ]
  },
  {
   "cell_type": "markdown",
   "metadata": {},
   "source": [
    "Проверим предсказания на тестовой выборке"
   ]
  },
  {
   "cell_type": "code",
   "execution_count": 29,
   "metadata": {},
   "outputs": [],
   "source": [
    "predictions = model.predict(features_test)\n",
    "f1 = f1_score(target_test, predictions)"
   ]
  },
  {
   "cell_type": "code",
   "execution_count": 30,
   "metadata": {},
   "outputs": [
    {
     "data": {
      "text/plain": [
       "0.6160990712074303"
      ]
     },
     "execution_count": 30,
     "metadata": {},
     "output_type": "execute_result"
    }
   ],
   "source": [
    "f1"
   ]
  },
  {
   "cell_type": "markdown",
   "metadata": {},
   "source": [
    "Посчитаем **ROC-AUC**"
   ]
  },
  {
   "cell_type": "code",
   "execution_count": 31,
   "metadata": {},
   "outputs": [
    {
     "name": "stdout",
     "output_type": "stream",
     "text": [
      "0.8600880802830121\n"
     ]
    }
   ],
   "source": [
    "prob_test = model.predict_proba(features_test)\n",
    "prob_test = prob_test[:, 1]\n",
    "\n",
    "auc_roc = roc_auc_score(target_test, prob_test)\n",
    "print(auc_roc)"
   ]
  },
  {
   "cell_type": "markdown",
   "metadata": {},
   "source": [
    "**Финальный вывод:**\n",
    "- Данные были открыты, предобработаны, проверены\n",
    "- Подготовлены обучающая, валидационная и тестовая выборки с примененим техник one-hot encoding, переменные отмасштабированы\n",
    "- Исследован баланс классов. Выявлен дисбаланс. Модели были обучены с учетом дисбаланса и без. Проведено сравнение работы гиперпараметра `class_weight='balanced'` и техники `upsampling`. Гиперпараметр оказался эффективнее.\n",
    "- Выяснено, что лучшая модель по метрике F1 score - Это `RandomForestClassifier`. Для неё перебором подобраны наилучшие гиперпараметры.\n",
    "- **F1** модели на **тестовой** выборке составил `0.618`. **ROC-AUC** score = `0.86`, что говорит о том, что модель предсказывает лучше, чем случайные числа."
   ]
  }
 ],
 "metadata": {
  "ExecuteTimeLog": [
   {
    "duration": 476,
    "start_time": "2023-04-19T16:44:33.758Z"
   },
   {
    "duration": 434,
    "start_time": "2023-04-19T16:44:55.324Z"
   },
   {
    "duration": 20,
    "start_time": "2023-04-19T16:44:59.156Z"
   },
   {
    "duration": 38,
    "start_time": "2023-04-19T16:45:31.090Z"
   },
   {
    "duration": 111,
    "start_time": "2023-04-19T16:46:06.189Z"
   },
   {
    "duration": 53,
    "start_time": "2023-04-19T16:46:08.564Z"
   },
   {
    "duration": 10,
    "start_time": "2023-04-19T16:46:13.838Z"
   },
   {
    "duration": 20,
    "start_time": "2023-04-19T16:46:22.612Z"
   },
   {
    "duration": 21,
    "start_time": "2023-04-19T16:46:45.143Z"
   },
   {
    "duration": 7,
    "start_time": "2023-04-19T16:48:53.043Z"
   },
   {
    "duration": 27,
    "start_time": "2023-04-19T16:48:57.010Z"
   },
   {
    "duration": 6,
    "start_time": "2023-04-19T16:49:19.216Z"
   },
   {
    "duration": 38,
    "start_time": "2023-04-19T16:49:21.939Z"
   },
   {
    "duration": 23,
    "start_time": "2023-04-19T16:49:22.112Z"
   },
   {
    "duration": 13,
    "start_time": "2023-04-19T16:49:22.236Z"
   },
   {
    "duration": 6,
    "start_time": "2023-04-19T16:49:23.076Z"
   },
   {
    "duration": 25,
    "start_time": "2023-04-19T16:49:24.342Z"
   },
   {
    "duration": 13,
    "start_time": "2023-04-19T16:49:24.676Z"
   },
   {
    "duration": 17,
    "start_time": "2023-04-19T16:49:24.824Z"
   },
   {
    "duration": 1008,
    "start_time": "2023-04-19T16:51:45.473Z"
   },
   {
    "duration": 52,
    "start_time": "2023-04-19T16:53:37.927Z"
   },
   {
    "duration": 4030,
    "start_time": "2023-04-19T16:53:51.028Z"
   },
   {
    "duration": 710,
    "start_time": "2023-04-19T16:53:57.834Z"
   },
   {
    "duration": 40,
    "start_time": "2023-04-19T16:55:47.479Z"
   },
   {
    "duration": 18,
    "start_time": "2023-04-19T16:56:31.425Z"
   },
   {
    "duration": 40,
    "start_time": "2023-04-19T16:57:30.751Z"
   },
   {
    "duration": 5,
    "start_time": "2023-04-19T16:57:35.478Z"
   },
   {
    "duration": 33,
    "start_time": "2023-04-19T16:58:02.912Z"
   },
   {
    "duration": 51,
    "start_time": "2023-04-19T16:58:52.705Z"
   },
   {
    "duration": 71,
    "start_time": "2023-04-19T16:58:55.968Z"
   },
   {
    "duration": 23,
    "start_time": "2023-04-19T16:58:56.127Z"
   },
   {
    "duration": 20,
    "start_time": "2023-04-19T16:58:56.237Z"
   },
   {
    "duration": 5,
    "start_time": "2023-04-19T16:58:56.770Z"
   },
   {
    "duration": 35,
    "start_time": "2023-04-19T16:58:57.280Z"
   },
   {
    "duration": 14,
    "start_time": "2023-04-19T16:58:57.431Z"
   },
   {
    "duration": 19,
    "start_time": "2023-04-19T16:58:57.599Z"
   },
   {
    "duration": 5,
    "start_time": "2023-04-19T16:59:00.579Z"
   },
   {
    "duration": 63,
    "start_time": "2023-04-19T16:59:52.407Z"
   },
   {
    "duration": 26,
    "start_time": "2023-04-19T17:00:33.978Z"
   },
   {
    "duration": 17,
    "start_time": "2023-04-19T17:01:25.746Z"
   },
   {
    "duration": 12,
    "start_time": "2023-04-19T17:02:17.542Z"
   },
   {
    "duration": 20,
    "start_time": "2023-04-19T17:03:25.529Z"
   },
   {
    "duration": 46,
    "start_time": "2023-04-19T17:04:03.882Z"
   },
   {
    "duration": 17,
    "start_time": "2023-04-19T17:04:23.306Z"
   },
   {
    "duration": 13,
    "start_time": "2023-04-19T17:07:21.527Z"
   },
   {
    "duration": 35,
    "start_time": "2023-04-19T17:07:34.383Z"
   },
   {
    "duration": 18,
    "start_time": "2023-04-19T17:07:36.050Z"
   },
   {
    "duration": 8,
    "start_time": "2023-04-19T17:20:15.469Z"
   },
   {
    "duration": 48,
    "start_time": "2023-04-19T17:20:37.629Z"
   },
   {
    "duration": 42,
    "start_time": "2023-04-19T17:20:37.783Z"
   },
   {
    "duration": 19,
    "start_time": "2023-04-19T17:20:37.923Z"
   },
   {
    "duration": 13,
    "start_time": "2023-04-19T17:20:38.231Z"
   },
   {
    "duration": 24,
    "start_time": "2023-04-19T17:20:38.525Z"
   },
   {
    "duration": 39,
    "start_time": "2023-04-19T17:20:38.681Z"
   },
   {
    "duration": 12,
    "start_time": "2023-04-19T17:20:38.836Z"
   },
   {
    "duration": 6,
    "start_time": "2023-04-19T17:20:39.469Z"
   },
   {
    "duration": 24,
    "start_time": "2023-04-19T17:20:39.979Z"
   },
   {
    "duration": 37,
    "start_time": "2023-04-19T17:20:44.471Z"
   },
   {
    "duration": 21,
    "start_time": "2023-04-19T17:20:45.018Z"
   },
   {
    "duration": 42,
    "start_time": "2023-04-19T17:48:39.021Z"
   },
   {
    "duration": 14,
    "start_time": "2023-04-19T17:48:39.154Z"
   },
   {
    "duration": 22,
    "start_time": "2023-04-19T17:48:39.304Z"
   },
   {
    "duration": 11,
    "start_time": "2023-04-19T17:48:39.580Z"
   },
   {
    "duration": 31,
    "start_time": "2023-04-19T17:48:39.876Z"
   },
   {
    "duration": 12,
    "start_time": "2023-04-19T17:48:40.019Z"
   },
   {
    "duration": 8,
    "start_time": "2023-04-19T17:48:40.164Z"
   },
   {
    "duration": 4,
    "start_time": "2023-04-19T17:48:40.767Z"
   },
   {
    "duration": 13,
    "start_time": "2023-04-19T17:48:41.376Z"
   },
   {
    "duration": 12,
    "start_time": "2023-04-19T17:48:49.169Z"
   },
   {
    "duration": 10,
    "start_time": "2023-04-19T17:48:52.860Z"
   },
   {
    "duration": 9,
    "start_time": "2023-04-19T17:49:15.522Z"
   },
   {
    "duration": 6,
    "start_time": "2023-04-19T17:49:29.372Z"
   },
   {
    "duration": 11,
    "start_time": "2023-04-19T17:49:36.688Z"
   },
   {
    "duration": 4,
    "start_time": "2023-04-19T17:49:39.230Z"
   },
   {
    "duration": 5,
    "start_time": "2023-04-19T17:49:59.859Z"
   },
   {
    "duration": 8,
    "start_time": "2023-04-19T17:50:01.110Z"
   },
   {
    "duration": 7,
    "start_time": "2023-04-19T17:50:03.011Z"
   },
   {
    "duration": 6,
    "start_time": "2023-04-19T17:50:07.117Z"
   },
   {
    "duration": 9,
    "start_time": "2023-04-19T17:50:07.733Z"
   },
   {
    "duration": 5,
    "start_time": "2023-04-19T17:50:08.436Z"
   },
   {
    "duration": 5,
    "start_time": "2023-04-19T17:50:16.406Z"
   },
   {
    "duration": 4,
    "start_time": "2023-04-19T17:50:16.714Z"
   },
   {
    "duration": 3,
    "start_time": "2023-04-19T17:50:26.260Z"
   },
   {
    "duration": 2,
    "start_time": "2023-04-19T17:50:28.671Z"
   },
   {
    "duration": 5,
    "start_time": "2023-04-19T17:50:32.629Z"
   },
   {
    "duration": 14,
    "start_time": "2023-04-19T17:50:32.771Z"
   },
   {
    "duration": 4,
    "start_time": "2023-04-19T17:50:33.137Z"
   },
   {
    "duration": 8,
    "start_time": "2023-04-19T17:50:59.058Z"
   },
   {
    "duration": 34,
    "start_time": "2023-04-19T17:51:20.133Z"
   },
   {
    "duration": 12,
    "start_time": "2023-04-19T17:51:20.264Z"
   },
   {
    "duration": 56,
    "start_time": "2023-04-19T17:51:37.981Z"
   },
   {
    "duration": 23,
    "start_time": "2023-04-19T17:51:39.510Z"
   },
   {
    "duration": 13,
    "start_time": "2023-04-19T17:52:25.218Z"
   },
   {
    "duration": 10,
    "start_time": "2023-04-19T18:01:46.870Z"
   },
   {
    "duration": 6,
    "start_time": "2023-04-19T18:01:53.177Z"
   },
   {
    "duration": 16,
    "start_time": "2023-04-19T18:05:00.328Z"
   },
   {
    "duration": 19,
    "start_time": "2023-04-19T18:08:53.780Z"
   },
   {
    "duration": 4,
    "start_time": "2023-04-19T18:09:18.036Z"
   },
   {
    "duration": 24,
    "start_time": "2023-04-19T18:09:27.215Z"
   },
   {
    "duration": 4,
    "start_time": "2023-04-19T18:09:39.723Z"
   },
   {
    "duration": 21,
    "start_time": "2023-04-19T18:09:44.061Z"
   },
   {
    "duration": 419,
    "start_time": "2023-04-19T18:10:09.723Z"
   },
   {
    "duration": 9333,
    "start_time": "2023-04-19T18:10:53.402Z"
   },
   {
    "duration": 13221,
    "start_time": "2023-04-19T18:12:44.418Z"
   },
   {
    "duration": 5,
    "start_time": "2023-04-19T18:14:14.331Z"
   },
   {
    "duration": 18829,
    "start_time": "2023-04-19T18:14:35.503Z"
   },
   {
    "duration": 17,
    "start_time": "2023-04-19T18:16:39.152Z"
   },
   {
    "duration": 17,
    "start_time": "2023-04-19T18:22:32.109Z"
   },
   {
    "duration": 12,
    "start_time": "2023-04-19T18:22:43.912Z"
   },
   {
    "duration": 4,
    "start_time": "2023-04-19T18:25:16.876Z"
   },
   {
    "duration": 16,
    "start_time": "2023-04-19T18:25:34.649Z"
   },
   {
    "duration": 14,
    "start_time": "2023-04-19T18:28:22.442Z"
   },
   {
    "duration": 3,
    "start_time": "2023-04-19T18:28:28.946Z"
   },
   {
    "duration": 22,
    "start_time": "2023-04-19T18:28:33.788Z"
   },
   {
    "duration": 1770,
    "start_time": "2023-04-19T18:28:53.433Z"
   },
   {
    "duration": 2056,
    "start_time": "2023-04-19T18:29:22.649Z"
   },
   {
    "duration": 1263,
    "start_time": "2023-04-19T18:29:53.844Z"
   },
   {
    "duration": 5536,
    "start_time": "2023-04-19T18:30:10.755Z"
   },
   {
    "duration": 28982,
    "start_time": "2023-04-19T18:37:14.025Z"
   },
   {
    "duration": 1132,
    "start_time": "2023-04-20T09:28:25.004Z"
   },
   {
    "duration": 2866,
    "start_time": "2023-04-20T09:28:28.795Z"
   },
   {
    "duration": 444,
    "start_time": "2023-04-20T09:28:31.663Z"
   },
   {
    "duration": 167,
    "start_time": "2023-04-20T09:28:32.109Z"
   },
   {
    "duration": 17,
    "start_time": "2023-04-20T09:28:32.278Z"
   },
   {
    "duration": 16,
    "start_time": "2023-04-20T09:28:32.297Z"
   },
   {
    "duration": 5,
    "start_time": "2023-04-20T09:28:32.519Z"
   },
   {
    "duration": 15,
    "start_time": "2023-04-20T09:28:33.110Z"
   },
   {
    "duration": 8,
    "start_time": "2023-04-20T09:28:33.265Z"
   },
   {
    "duration": 9,
    "start_time": "2023-04-20T09:28:33.410Z"
   },
   {
    "duration": 6,
    "start_time": "2023-04-20T09:28:34.030Z"
   },
   {
    "duration": 10,
    "start_time": "2023-04-20T09:28:34.333Z"
   },
   {
    "duration": 8,
    "start_time": "2023-04-20T09:28:34.908Z"
   },
   {
    "duration": 25,
    "start_time": "2023-04-20T09:28:35.500Z"
   },
   {
    "duration": 13,
    "start_time": "2023-04-20T09:28:36.669Z"
   },
   {
    "duration": 11,
    "start_time": "2023-04-20T09:28:43.704Z"
   },
   {
    "duration": 6,
    "start_time": "2023-04-20T09:28:46.032Z"
   },
   {
    "duration": 315,
    "start_time": "2023-04-20T09:28:52.195Z"
   },
   {
    "duration": 16781,
    "start_time": "2023-04-20T09:28:52.632Z"
   },
   {
    "duration": 1745,
    "start_time": "2023-04-20T09:29:09.415Z"
   },
   {
    "duration": 5,
    "start_time": "2023-04-20T09:40:01.649Z"
   },
   {
    "duration": 5949,
    "start_time": "2023-04-20T15:42:16.901Z"
   },
   {
    "duration": 2656,
    "start_time": "2023-04-20T15:42:22.853Z"
   },
   {
    "duration": 371,
    "start_time": "2023-04-20T15:42:25.515Z"
   },
   {
    "duration": 36,
    "start_time": "2023-04-20T15:42:25.896Z"
   },
   {
    "duration": 52,
    "start_time": "2023-04-20T15:42:25.936Z"
   },
   {
    "duration": 84,
    "start_time": "2023-04-20T15:42:25.995Z"
   },
   {
    "duration": 141,
    "start_time": "2023-04-20T15:42:26.085Z"
   },
   {
    "duration": 73,
    "start_time": "2023-04-20T15:42:26.227Z"
   },
   {
    "duration": 81,
    "start_time": "2023-04-20T15:42:26.302Z"
   },
   {
    "duration": 105,
    "start_time": "2023-04-20T15:42:26.391Z"
   },
   {
    "duration": 104,
    "start_time": "2023-04-20T15:42:26.506Z"
   },
   {
    "duration": 110,
    "start_time": "2023-04-20T15:42:26.617Z"
   },
   {
    "duration": 156,
    "start_time": "2023-04-20T15:42:26.730Z"
   },
   {
    "duration": 136,
    "start_time": "2023-04-20T15:42:26.889Z"
   },
   {
    "duration": 184,
    "start_time": "2023-04-20T15:42:27.026Z"
   },
   {
    "duration": 100,
    "start_time": "2023-04-20T15:42:27.213Z"
   },
   {
    "duration": 581,
    "start_time": "2023-04-20T15:42:27.314Z"
   },
   {
    "duration": 25852,
    "start_time": "2023-04-20T15:42:27.897Z"
   },
   {
    "duration": 2499,
    "start_time": "2023-04-20T15:42:53.751Z"
   },
   {
    "duration": 21102,
    "start_time": "2023-04-20T15:51:11.889Z"
   },
   {
    "duration": 560,
    "start_time": "2023-04-20T15:52:23.657Z"
   },
   {
    "duration": 1096,
    "start_time": "2023-04-20T15:55:18.476Z"
   },
   {
    "duration": 7080,
    "start_time": "2023-04-20T15:55:28.358Z"
   },
   {
    "duration": 5574,
    "start_time": "2023-04-20T15:56:00.306Z"
   },
   {
    "duration": 5,
    "start_time": "2023-04-20T15:58:28.995Z"
   },
   {
    "duration": 5,
    "start_time": "2023-04-20T16:01:26.423Z"
   },
   {
    "duration": 162,
    "start_time": "2023-04-20T16:01:28.065Z"
   },
   {
    "duration": 6,
    "start_time": "2023-04-20T16:02:23.514Z"
   },
   {
    "duration": 4,
    "start_time": "2023-04-20T16:03:02.899Z"
   },
   {
    "duration": 5,
    "start_time": "2023-04-20T16:03:11.097Z"
   },
   {
    "duration": 17,
    "start_time": "2023-04-20T16:03:11.757Z"
   },
   {
    "duration": 28,
    "start_time": "2023-04-20T16:03:15.055Z"
   },
   {
    "duration": 9,
    "start_time": "2023-04-20T16:03:36.386Z"
   },
   {
    "duration": 7,
    "start_time": "2023-04-20T16:03:42.793Z"
   },
   {
    "duration": 5,
    "start_time": "2023-04-20T16:04:20.723Z"
   },
   {
    "duration": 8,
    "start_time": "2023-04-20T16:04:20.895Z"
   },
   {
    "duration": 5,
    "start_time": "2023-04-20T16:04:21.517Z"
   },
   {
    "duration": 29918,
    "start_time": "2023-04-20T16:06:22.612Z"
   },
   {
    "duration": 1388,
    "start_time": "2023-04-20T16:13:01.181Z"
   },
   {
    "duration": 3,
    "start_time": "2023-04-20T16:13:05.914Z"
   },
   {
    "duration": 838,
    "start_time": "2023-04-20T16:13:14.629Z"
   },
   {
    "duration": 5,
    "start_time": "2023-04-20T16:13:15.477Z"
   },
   {
    "duration": 806,
    "start_time": "2023-04-20T16:13:32.589Z"
   },
   {
    "duration": 64,
    "start_time": "2023-04-20T16:14:47.892Z"
   },
   {
    "duration": 4,
    "start_time": "2023-04-20T16:14:50.608Z"
   },
   {
    "duration": 53,
    "start_time": "2023-04-20T16:15:08.789Z"
   },
   {
    "duration": 3,
    "start_time": "2023-04-20T16:15:09.213Z"
   },
   {
    "duration": 27513,
    "start_time": "2023-04-20T16:15:45.166Z"
   },
   {
    "duration": 5,
    "start_time": "2023-04-20T16:17:47.007Z"
   },
   {
    "duration": 83,
    "start_time": "2023-04-20T16:18:51.697Z"
   },
   {
    "duration": 2683,
    "start_time": "2023-04-20T16:27:46.097Z"
   },
   {
    "duration": 1718,
    "start_time": "2023-04-20T16:27:48.782Z"
   },
   {
    "duration": 60,
    "start_time": "2023-04-20T16:27:50.501Z"
   },
   {
    "duration": 23,
    "start_time": "2023-04-20T16:27:50.565Z"
   },
   {
    "duration": 49,
    "start_time": "2023-04-20T16:27:50.591Z"
   },
   {
    "duration": 61,
    "start_time": "2023-04-20T16:27:50.642Z"
   },
   {
    "duration": 26,
    "start_time": "2023-04-20T16:27:50.705Z"
   },
   {
    "duration": 63,
    "start_time": "2023-04-20T16:27:50.732Z"
   },
   {
    "duration": 14,
    "start_time": "2023-04-20T16:27:50.797Z"
   },
   {
    "duration": 8,
    "start_time": "2023-04-20T16:27:50.813Z"
   },
   {
    "duration": 80,
    "start_time": "2023-04-20T16:27:50.823Z"
   },
   {
    "duration": 14,
    "start_time": "2023-04-20T16:27:50.904Z"
   },
   {
    "duration": 47,
    "start_time": "2023-04-20T16:27:50.920Z"
   },
   {
    "duration": 17,
    "start_time": "2023-04-20T16:27:50.977Z"
   },
   {
    "duration": 10,
    "start_time": "2023-04-20T16:27:50.996Z"
   },
   {
    "duration": 18,
    "start_time": "2023-04-20T16:27:51.008Z"
   },
   {
    "duration": 458,
    "start_time": "2023-04-20T16:27:51.028Z"
   },
   {
    "duration": 23977,
    "start_time": "2023-04-20T16:27:51.493Z"
   },
   {
    "duration": 6170,
    "start_time": "2023-04-20T16:28:15.472Z"
   },
   {
    "duration": 577,
    "start_time": "2023-04-20T16:28:21.650Z"
   },
   {
    "duration": 21358,
    "start_time": "2023-04-20T16:28:22.229Z"
   },
   {
    "duration": 5875,
    "start_time": "2023-04-20T16:28:43.596Z"
   },
   {
    "duration": 69,
    "start_time": "2023-04-20T16:28:49.481Z"
   },
   {
    "duration": 45,
    "start_time": "2023-04-20T16:28:49.558Z"
   },
   {
    "duration": 7,
    "start_time": "2023-04-20T16:28:49.607Z"
   },
   {
    "duration": 28645,
    "start_time": "2023-04-20T16:28:49.615Z"
   },
   {
    "duration": 846,
    "start_time": "2023-04-20T16:29:18.261Z"
   },
   {
    "duration": 66,
    "start_time": "2023-04-20T16:29:19.109Z"
   },
   {
    "duration": 13,
    "start_time": "2023-04-20T16:29:19.179Z"
   },
   {
    "duration": 64,
    "start_time": "2023-04-20T16:29:19.194Z"
   },
   {
    "duration": 152,
    "start_time": "2023-04-20T16:31:22.236Z"
   },
   {
    "duration": 58,
    "start_time": "2023-04-20T16:31:27.616Z"
   },
   {
    "duration": 45,
    "start_time": "2023-04-20T16:31:28.585Z"
   },
   {
    "duration": 45,
    "start_time": "2023-04-20T16:31:29.188Z"
   },
   {
    "duration": 45,
    "start_time": "2023-04-20T16:31:29.684Z"
   },
   {
    "duration": 57,
    "start_time": "2023-04-20T16:31:30.455Z"
   },
   {
    "duration": 70,
    "start_time": "2023-04-20T16:31:31.005Z"
   },
   {
    "duration": 58,
    "start_time": "2023-04-20T16:31:31.585Z"
   },
   {
    "duration": 54,
    "start_time": "2023-04-20T16:31:37.062Z"
   },
   {
    "duration": 774,
    "start_time": "2023-04-20T16:31:44.300Z"
   },
   {
    "duration": 43,
    "start_time": "2023-04-20T16:31:45.286Z"
   },
   {
    "duration": 4,
    "start_time": "2023-04-20T16:31:45.910Z"
   },
   {
    "duration": 60,
    "start_time": "2023-04-20T16:31:46.603Z"
   },
   {
    "duration": 3371,
    "start_time": "2023-04-21T10:23:37.398Z"
   },
   {
    "duration": 2591,
    "start_time": "2023-04-21T10:23:40.772Z"
   },
   {
    "duration": 43,
    "start_time": "2023-04-21T10:23:43.364Z"
   },
   {
    "duration": 16,
    "start_time": "2023-04-21T10:23:43.409Z"
   },
   {
    "duration": 26,
    "start_time": "2023-04-21T10:23:43.427Z"
   },
   {
    "duration": 20,
    "start_time": "2023-04-21T10:23:43.455Z"
   },
   {
    "duration": 47,
    "start_time": "2023-04-21T10:23:43.476Z"
   },
   {
    "duration": 43,
    "start_time": "2023-04-21T10:23:43.525Z"
   },
   {
    "duration": 48,
    "start_time": "2023-04-21T10:23:43.570Z"
   },
   {
    "duration": 101,
    "start_time": "2023-04-21T10:23:43.621Z"
   },
   {
    "duration": 88,
    "start_time": "2023-04-21T10:23:43.724Z"
   },
   {
    "duration": 27,
    "start_time": "2023-04-21T10:23:43.814Z"
   },
   {
    "duration": 43,
    "start_time": "2023-04-21T10:23:43.844Z"
   },
   {
    "duration": 14,
    "start_time": "2023-04-21T10:23:43.889Z"
   },
   {
    "duration": 16,
    "start_time": "2023-04-21T10:23:43.905Z"
   },
   {
    "duration": 6,
    "start_time": "2023-04-21T10:23:43.922Z"
   },
   {
    "duration": 367,
    "start_time": "2023-04-21T10:23:43.929Z"
   },
   {
    "duration": 19046,
    "start_time": "2023-04-21T10:23:44.298Z"
   },
   {
    "duration": 3483,
    "start_time": "2023-04-21T10:24:03.345Z"
   },
   {
    "duration": 473,
    "start_time": "2023-04-21T10:24:06.924Z"
   },
   {
    "duration": 16865,
    "start_time": "2023-04-21T10:24:07.399Z"
   },
   {
    "duration": 4159,
    "start_time": "2023-04-21T10:24:24.266Z"
   },
   {
    "duration": 96,
    "start_time": "2023-04-21T10:24:28.427Z"
   },
   {
    "duration": 119,
    "start_time": "2023-04-21T10:24:28.528Z"
   },
   {
    "duration": 14,
    "start_time": "2023-04-21T10:24:28.648Z"
   },
   {
    "duration": 25976,
    "start_time": "2023-04-21T10:24:28.664Z"
   },
   {
    "duration": 804,
    "start_time": "2023-04-21T10:24:54.642Z"
   },
   {
    "duration": 46,
    "start_time": "2023-04-21T10:24:55.450Z"
   },
   {
    "duration": 4,
    "start_time": "2023-04-21T10:24:55.498Z"
   },
   {
    "duration": 55,
    "start_time": "2023-04-21T10:24:55.518Z"
   },
   {
    "duration": 49,
    "start_time": "2023-04-21T12:42:54.485Z"
   },
   {
    "duration": 3,
    "start_time": "2023-04-21T12:44:43.268Z"
   },
   {
    "duration": 2971,
    "start_time": "2023-04-21T12:44:59.479Z"
   },
   {
    "duration": 1537,
    "start_time": "2023-04-21T12:45:02.452Z"
   },
   {
    "duration": 161,
    "start_time": "2023-04-21T12:45:11.288Z"
   },
   {
    "duration": 18,
    "start_time": "2023-04-21T12:45:12.365Z"
   },
   {
    "duration": 13,
    "start_time": "2023-04-21T12:45:13.343Z"
   },
   {
    "duration": 7,
    "start_time": "2023-04-21T12:45:15.966Z"
   },
   {
    "duration": 13,
    "start_time": "2023-04-21T12:45:16.856Z"
   },
   {
    "duration": 8,
    "start_time": "2023-04-21T12:45:17.372Z"
   },
   {
    "duration": 7,
    "start_time": "2023-04-21T12:45:21.175Z"
   },
   {
    "duration": 4,
    "start_time": "2023-04-21T12:45:23.384Z"
   },
   {
    "duration": 9,
    "start_time": "2023-04-21T12:45:25.238Z"
   },
   {
    "duration": 3,
    "start_time": "2023-04-21T12:45:27.206Z"
   },
   {
    "duration": 2,
    "start_time": "2023-04-21T12:45:27.369Z"
   },
   {
    "duration": 2,
    "start_time": "2023-04-21T12:45:27.521Z"
   },
   {
    "duration": 16,
    "start_time": "2023-04-21T12:45:29.094Z"
   },
   {
    "duration": 9,
    "start_time": "2023-04-21T12:45:31.714Z"
   },
   {
    "duration": 22,
    "start_time": "2023-04-21T12:47:20.452Z"
   },
   {
    "duration": 15,
    "start_time": "2023-04-21T12:47:23.552Z"
   },
   {
    "duration": 14,
    "start_time": "2023-04-21T12:48:33.456Z"
   },
   {
    "duration": 7,
    "start_time": "2023-04-21T12:48:37.228Z"
   },
   {
    "duration": 316,
    "start_time": "2023-04-21T12:49:02.121Z"
   },
   {
    "duration": 17321,
    "start_time": "2023-04-21T12:49:06.991Z"
   },
   {
    "duration": 4341,
    "start_time": "2023-04-21T12:49:33.652Z"
   },
   {
    "duration": 349,
    "start_time": "2023-04-21T12:50:17.879Z"
   },
   {
    "duration": 15346,
    "start_time": "2023-04-21T12:50:22.162Z"
   },
   {
    "duration": 624,
    "start_time": "2023-04-21T12:56:47.255Z"
   },
   {
    "duration": 45,
    "start_time": "2023-04-21T12:56:47.881Z"
   },
   {
    "duration": 4,
    "start_time": "2023-04-21T12:56:48.858Z"
   },
   {
    "duration": 39,
    "start_time": "2023-04-21T12:56:50.612Z"
   },
   {
    "duration": 14,
    "start_time": "2023-04-21T13:11:30.628Z"
   }
  ],
  "kernelspec": {
   "display_name": "Python 3 (ipykernel)",
   "language": "python",
   "name": "python3"
  },
  "language_info": {
   "codemirror_mode": {
    "name": "ipython",
    "version": 3
   },
   "file_extension": ".py",
   "mimetype": "text/x-python",
   "name": "python",
   "nbconvert_exporter": "python",
   "pygments_lexer": "ipython3",
   "version": "3.9.13"
  },
  "toc": {
   "base_numbering": 1,
   "nav_menu": {},
   "number_sections": true,
   "sideBar": true,
   "skip_h1_title": true,
   "title_cell": "Содержание",
   "title_sidebar": "Contents",
   "toc_cell": true,
   "toc_position": {},
   "toc_section_display": true,
   "toc_window_display": true
  }
 },
 "nbformat": 4,
 "nbformat_minor": 2
}
