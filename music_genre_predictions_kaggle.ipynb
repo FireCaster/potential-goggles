{
 "cells": [
  {
   "cell_type": "code",
   "execution_count": 36,
   "id": "a5cb22d8",
   "metadata": {
    "ExecuteTime": {
     "end_time": "2023-07-25T19:28:39.105994Z",
     "start_time": "2023-07-25T19:28:39.102019Z"
    }
   },
   "outputs": [],
   "source": [
    "from sklearn.preprocessing import OrdinalEncoder, OneHotEncoder, FunctionTransformer, StandardScaler, MinMaxScaler\n",
    "from sklearn.tree import DecisionTreeClassifier\n",
    "from sklearn.neighbors import KNeighborsClassifier\n",
    "from sklearn.model_selection import cross_val_score, RandomizedSearchCV, GridSearchCV\n",
    "from sklearn.pipeline import Pipeline, make_pipeline\n",
    "from sklearn.linear_model import LogisticRegression\n",
    "from sklearn.metrics import f1_score\n",
    "from sklearn.compose import make_column_selector, make_column_transformer, ColumnTransformer\n",
    "from sklearn.svm import SVC\n",
    "from sklearn.utils.fixes import loguniform\n",
    "\n",
    "import matplotlib.pyplot as plt\n",
    "import seaborn as sns\n",
    "import numpy as np\n",
    "\n",
    "from sklearn.impute import KNNImputer\n",
    "\n",
    "import phik\n",
    "\n",
    "import os\n",
    "import datetime\n",
    "from datetime import datetime, date, timedelta, time\n",
    "import numpy as np\n",
    "import pandas as pd\n",
    "pd.options.display.max_columns = None\n",
    "pd.options.display.float_format = '{: .3f}'.format"
   ]
  },
  {
   "cell_type": "markdown",
   "id": "431dfe25",
   "metadata": {},
   "source": [
    "# Описание задачи\n",
    "Вы сотрудник Отдела Data Science популярного музыкального стримингового сервиса \"МиФаСоль\". Сервис расширяет работу с новыми артистами и музыкантами, в связи с чем возникла задача -- правильно классифицировать новые музыкальные треки, чтобы улучшить работу рекомендательной системы. Ваши коллеги из отдела работы со звуком подготовили датасет, в котором собраны некоторые характеристики музыкальных произведений и их жанры. Ваша задача -- разработать модель, позволяющую классифицировать музыкальные произведения по жанрам.\n",
    "\n",
    "**Данные**\n",
    "- train.csv - информация (~20000) музыкальных треках, которые будут использоваться в качестве обучающих данных.\n",
    "- test.csv - информация (~5000) музыкальных треках, которые будут использоваться в качестве тестовых данных. Ваша задача - предсказать значение 'music_genre' для каждого трека из этого датасета.\n",
    "- sample_submit.csv - файл предсказаний в правильном формате.\n",
    "\n",
    "**Описание столбцов**\n",
    "- instance_id - идентификатор трека в тестовом наборе.\n",
    "- music_genre - Целевой признак. Для каждого трека предскажите категориальное значение соответствующее музыкальному жанру трека.\n",
    "- Описание полей данных\n",
    "- instance_id - уникальный идентификатор трека\n",
    "- track_name - название трека\n",
    "- acousticness - акустичность\n",
    "- danceability - танцевальность\n",
    "- duration_ms -продолжительность в милисекундах\n",
    "- energy - энергичность\n",
    "- instrumentalness - инструментальность\n",
    "- key - базовый ключ (нота) произведения\n",
    "- liveness - привлекательность\n",
    "- loudness - громкость\n",
    "- mode - указывает на модальность (мажорную или минорную) трека\n",
    "- speechiness - выразительность\n",
    "- tempo - темп\n",
    "- obtained_date - дата загрузки в сервис\n",
    "- valence - привлекательность произведения для пользователей сервиса\n",
    "- music_genre - музыкальный жанр"
   ]
  },
  {
   "cell_type": "markdown",
   "id": "eb97e52f",
   "metadata": {},
   "source": [
    "# Открытие и предобработка данных"
   ]
  },
  {
   "cell_type": "code",
   "execution_count": 63,
   "id": "06979c0a",
   "metadata": {
    "ExecuteTime": {
     "end_time": "2023-07-25T17:20:05.171031Z",
     "start_time": "2023-07-25T17:20:05.079196Z"
    }
   },
   "outputs": [],
   "source": [
    "df = pd.read_csv('kaggle_music_genre_train.csv')"
   ]
  },
  {
   "cell_type": "code",
   "execution_count": 64,
   "id": "3a7ac606",
   "metadata": {
    "ExecuteTime": {
     "end_time": "2023-07-25T17:20:05.249533Z",
     "start_time": "2023-07-25T17:20:05.219644Z"
    }
   },
   "outputs": [
    {
     "data": {
      "text/html": [
       "<div>\n",
       "<style scoped>\n",
       "    .dataframe tbody tr th:only-of-type {\n",
       "        vertical-align: middle;\n",
       "    }\n",
       "\n",
       "    .dataframe tbody tr th {\n",
       "        vertical-align: top;\n",
       "    }\n",
       "\n",
       "    .dataframe thead th {\n",
       "        text-align: right;\n",
       "    }\n",
       "</style>\n",
       "<table border=\"1\" class=\"dataframe\">\n",
       "  <thead>\n",
       "    <tr style=\"text-align: right;\">\n",
       "      <th></th>\n",
       "      <th>instance_id</th>\n",
       "      <th>track_name</th>\n",
       "      <th>acousticness</th>\n",
       "      <th>danceability</th>\n",
       "      <th>duration_ms</th>\n",
       "      <th>energy</th>\n",
       "      <th>instrumentalness</th>\n",
       "      <th>key</th>\n",
       "      <th>liveness</th>\n",
       "      <th>loudness</th>\n",
       "      <th>mode</th>\n",
       "      <th>speechiness</th>\n",
       "      <th>tempo</th>\n",
       "      <th>obtained_date</th>\n",
       "      <th>valence</th>\n",
       "      <th>music_genre</th>\n",
       "    </tr>\n",
       "  </thead>\n",
       "  <tbody>\n",
       "    <tr>\n",
       "      <th>0</th>\n",
       "      <td>25143.000</td>\n",
       "      <td>Highwayman</td>\n",
       "      <td>0.480</td>\n",
       "      <td>0.670</td>\n",
       "      <td>182653.000</td>\n",
       "      <td>0.351</td>\n",
       "      <td>0.018</td>\n",
       "      <td>D</td>\n",
       "      <td>0.115</td>\n",
       "      <td>-16.842</td>\n",
       "      <td>Major</td>\n",
       "      <td>0.046</td>\n",
       "      <td>101.384</td>\n",
       "      <td>4-Apr</td>\n",
       "      <td>0.450</td>\n",
       "      <td>Country</td>\n",
       "    </tr>\n",
       "    <tr>\n",
       "      <th>1</th>\n",
       "      <td>26091.000</td>\n",
       "      <td>Toes Across The Floor</td>\n",
       "      <td>0.243</td>\n",
       "      <td>0.452</td>\n",
       "      <td>187133.000</td>\n",
       "      <td>0.670</td>\n",
       "      <td>0.000</td>\n",
       "      <td>A</td>\n",
       "      <td>0.108</td>\n",
       "      <td>-8.392</td>\n",
       "      <td>Minor</td>\n",
       "      <td>0.035</td>\n",
       "      <td>113.071</td>\n",
       "      <td>4-Apr</td>\n",
       "      <td>0.539</td>\n",
       "      <td>Rock</td>\n",
       "    </tr>\n",
       "    <tr>\n",
       "      <th>2</th>\n",
       "      <td>87888.000</td>\n",
       "      <td>First Person on Earth</td>\n",
       "      <td>0.228</td>\n",
       "      <td>0.454</td>\n",
       "      <td>173448.000</td>\n",
       "      <td>0.804</td>\n",
       "      <td>0.000</td>\n",
       "      <td>E</td>\n",
       "      <td>0.181</td>\n",
       "      <td>-5.225</td>\n",
       "      <td>Minor</td>\n",
       "      <td>0.371</td>\n",
       "      <td>80.980</td>\n",
       "      <td>4-Apr</td>\n",
       "      <td>0.344</td>\n",
       "      <td>Alternative</td>\n",
       "    </tr>\n",
       "    <tr>\n",
       "      <th>3</th>\n",
       "      <td>77021.000</td>\n",
       "      <td>No Te Veo - Digital Single</td>\n",
       "      <td>0.056</td>\n",
       "      <td>0.847</td>\n",
       "      <td>255987.000</td>\n",
       "      <td>0.873</td>\n",
       "      <td>0.000</td>\n",
       "      <td>G#</td>\n",
       "      <td>0.325</td>\n",
       "      <td>-4.805</td>\n",
       "      <td>Minor</td>\n",
       "      <td>0.080</td>\n",
       "      <td>116.007</td>\n",
       "      <td>4-Apr</td>\n",
       "      <td>0.966</td>\n",
       "      <td>Hip-Hop</td>\n",
       "    </tr>\n",
       "    <tr>\n",
       "      <th>4</th>\n",
       "      <td>20852.000</td>\n",
       "      <td>Chasing Shadows</td>\n",
       "      <td>0.227</td>\n",
       "      <td>0.742</td>\n",
       "      <td>195333.000</td>\n",
       "      <td>0.575</td>\n",
       "      <td>0.000</td>\n",
       "      <td>C</td>\n",
       "      <td>0.176</td>\n",
       "      <td>-5.550</td>\n",
       "      <td>Major</td>\n",
       "      <td>0.049</td>\n",
       "      <td>76.494</td>\n",
       "      <td>4-Apr</td>\n",
       "      <td>0.583</td>\n",
       "      <td>Alternative</td>\n",
       "    </tr>\n",
       "  </tbody>\n",
       "</table>\n",
       "</div>"
      ],
      "text/plain": [
       "   instance_id                  track_name  acousticness  danceability  \\\n",
       "0    25143.000                  Highwayman         0.480         0.670   \n",
       "1    26091.000       Toes Across The Floor         0.243         0.452   \n",
       "2    87888.000       First Person on Earth         0.228         0.454   \n",
       "3    77021.000  No Te Veo - Digital Single         0.056         0.847   \n",
       "4    20852.000             Chasing Shadows         0.227         0.742   \n",
       "\n",
       "   duration_ms  energy  instrumentalness key  liveness  loudness   mode  \\\n",
       "0   182653.000   0.351             0.018   D     0.115   -16.842  Major   \n",
       "1   187133.000   0.670             0.000   A     0.108    -8.392  Minor   \n",
       "2   173448.000   0.804             0.000   E     0.181    -5.225  Minor   \n",
       "3   255987.000   0.873             0.000  G#     0.325    -4.805  Minor   \n",
       "4   195333.000   0.575             0.000   C     0.176    -5.550  Major   \n",
       "\n",
       "   speechiness    tempo obtained_date  valence  music_genre  \n",
       "0        0.046  101.384         4-Apr    0.450      Country  \n",
       "1        0.035  113.071         4-Apr    0.539         Rock  \n",
       "2        0.371   80.980         4-Apr    0.344  Alternative  \n",
       "3        0.080  116.007         4-Apr    0.966      Hip-Hop  \n",
       "4        0.049   76.494         4-Apr    0.583  Alternative  "
      ]
     },
     "execution_count": 64,
     "metadata": {},
     "output_type": "execute_result"
    }
   ],
   "source": [
    "df.head()"
   ]
  },
  {
   "cell_type": "code",
   "execution_count": 65,
   "id": "b7f4366a",
   "metadata": {
    "ExecuteTime": {
     "end_time": "2023-07-25T17:20:05.297230Z",
     "start_time": "2023-07-25T17:20:05.267271Z"
    }
   },
   "outputs": [],
   "source": [
    "# приводим id в числовой тип\n",
    "df.instance_id = df.instance_id.astype('int')\n",
    "# устанавливаем колонку с id трека как индекс. так будет удобнее в дальнейшем\n",
    "df = df.set_index(df.instance_id).drop(columns='instance_id')\n",
    "# оптимизируем float колонки, чтобы они быстрее обрабатывались и занимали меньше места\n",
    "fcols = df.select_dtypes('float').columns\n",
    "df[fcols] = df[fcols].apply(pd.to_numeric, downcast='float')"
   ]
  },
  {
   "cell_type": "code",
   "execution_count": 66,
   "id": "8587f88a",
   "metadata": {
    "ExecuteTime": {
     "end_time": "2023-07-25T17:20:08.477675Z",
     "start_time": "2023-07-25T17:20:08.443592Z"
    }
   },
   "outputs": [
    {
     "name": "stdout",
     "output_type": "stream",
     "text": [
      "<class 'pandas.core.frame.DataFrame'>\n",
      "Int64Index: 20394 entries, 25143 to 86375\n",
      "Data columns (total 15 columns):\n",
      " #   Column            Non-Null Count  Dtype  \n",
      "---  ------            --------------  -----  \n",
      " 0   track_name        20394 non-null  object \n",
      " 1   acousticness      20394 non-null  float32\n",
      " 2   danceability      20394 non-null  float32\n",
      " 3   duration_ms       20394 non-null  float32\n",
      " 4   energy            20394 non-null  float32\n",
      " 5   instrumentalness  20394 non-null  float32\n",
      " 6   key               19659 non-null  object \n",
      " 7   liveness          20394 non-null  float32\n",
      " 8   loudness          20394 non-null  float32\n",
      " 9   mode              19888 non-null  object \n",
      " 10  speechiness       20394 non-null  float32\n",
      " 11  tempo             19952 non-null  float32\n",
      " 12  obtained_date     20394 non-null  object \n",
      " 13  valence           20394 non-null  float32\n",
      " 14  music_genre       20394 non-null  object \n",
      "dtypes: float32(10), object(5)\n",
      "memory usage: 1.7+ MB\n"
     ]
    }
   ],
   "source": [
    "df.info()"
   ]
  },
  {
   "cell_type": "markdown",
   "id": "64c629e0",
   "metadata": {
    "ExecuteTime": {
     "end_time": "2023-07-24T15:21:43.771729Z",
     "start_time": "2023-07-24T15:21:43.759972Z"
    }
   },
   "source": [
    "Проверяем на отсутствующие значения."
   ]
  },
  {
   "cell_type": "code",
   "execution_count": 67,
   "id": "440a7bfa",
   "metadata": {
    "ExecuteTime": {
     "end_time": "2023-07-25T17:20:09.512173Z",
     "start_time": "2023-07-25T17:20:09.491707Z"
    }
   },
   "outputs": [
    {
     "data": {
      "text/plain": [
       "track_name            0\n",
       "acousticness          0\n",
       "danceability          0\n",
       "duration_ms           0\n",
       "energy                0\n",
       "instrumentalness      0\n",
       "key                 735\n",
       "liveness              0\n",
       "loudness              0\n",
       "mode                506\n",
       "speechiness           0\n",
       "tempo               442\n",
       "obtained_date         0\n",
       "valence               0\n",
       "music_genre           0\n",
       "dtype: int64"
      ]
     },
     "execution_count": 67,
     "metadata": {},
     "output_type": "execute_result"
    }
   ],
   "source": [
    "df.isna().sum()"
   ]
  },
  {
   "cell_type": "markdown",
   "id": "ca010b58",
   "metadata": {},
   "source": [
    "Забегая вперед, я знаю, что в тестовом датасете также будут встречаться отсутствующие значения, поэтому нужно научить модель с ними справляться. Делать я это буду с помощью `KNN imputer` из sklearn"
   ]
  },
  {
   "cell_type": "code",
   "execution_count": 17,
   "id": "55b80de8",
   "metadata": {
    "ExecuteTime": {
     "end_time": "2023-07-25T17:20:14.434494Z",
     "start_time": "2023-07-25T17:20:12.384585Z"
    },
    "scrolled": true
   },
   "outputs": [
    {
     "name": "stdout",
     "output_type": "stream",
     "text": [
      "track_name\n",
      "Values (first 5 unique): ['\"99\"', '\"Christen, ätzet diesen Tag\", BWV 63: I. Choral \"Christen, ätzet diesen Tag\"', '\"Concerto Funebre\" con hautbois sordini e salmoè, violino principale e viole da gamba (Si Bem. Maggiore, RV 579): II. Allegro poco poco', '\"DEVILS NEVER CRY\"(スタッフロール)', '\"F\"']\n",
      "----------\n",
      "acousticness\n",
      "Values (first 5 unique): [0.0, 1.02e-06, 1.27e-06, 1.37e-06, 1.38e-06]\n",
      "max: 0.996 min: 0.0\n",
      "median: 0.12099999934434891\n"
     ]
    },
    {
     "data": {
      "image/png": "[encoded data removed]",
      "text/plain": [
       "<Figure size 640x480 with 1 Axes>"
      ]
     },
     "metadata": {},
     "output_type": "display_data"
    },
    {
     "name": "stdout",
     "output_type": "stream",
     "text": [
      "----------\n",
      "danceability\n",
      "Values (first 5 unique): [0.06, 0.0602, 0.0606, 0.061, 0.0614]\n",
      "max: 0.978 min: 0.06\n",
      "median: 0.5699999928474426\n"
     ]
    },
    {
     "data": {
      "image/png": "[encoded data removed]",
      "text/plain": [
       "<Figure size 640x480 with 1 Axes>"
      ]
     },
     "metadata": {},
     "output_type": "display_data"
    },
    {
     "name": "stdout",
     "output_type": "stream",
     "text": [
      "----------\n",
      "duration_ms\n",
      "Values (first 5 unique): [-1.0, 15509.0, 16316.0, 27179.0, 29040.0]\n",
      "max: 4497994.0 min: -1.0\n",
      "median: 219709.5\n"
     ]
    },
    {
     "data": {
      "image/png": "[encoded data removed]",
      "text/plain": [
       "<Figure size 640x480 with 1 Axes>"
      ]
     },
     "metadata": {},
     "output_type": "display_data"
    },
    {
     "name": "stdout",
     "output_type": "stream",
     "text": [
      "----------\n",
      "energy\n",
      "Values (first 5 unique): [0.00101, 0.00104, 0.0011, 0.00135, 0.00158]\n",
      "max: 0.999 min: 0.00101\n",
      "median: 0.6660000085830688\n"
     ]
    },
    {
     "data": {
      "image/png": "[encoded data removed]",
      "text/plain": [
       "<Figure size 640x480 with 1 Axes>"
      ]
     },
     "metadata": {},
     "output_type": "display_data"
    },
    {
     "name": "stdout",
     "output_type": "stream",
     "text": [
      "----------\n",
      "instrumentalness\n",
      "Values (first 5 unique): [0.0, 1e-06, 1.01e-06, 1.02e-06, 1.03e-06]\n",
      "max: 0.996 min: 0.0\n",
      "median: 0.00014600000577047467\n"
     ]
    },
    {
     "data": {
      "image/png": "[encoded data removed]",
      "text/plain": [
       "<Figure size 640x480 with 1 Axes>"
      ]
     },
     "metadata": {},
     "output_type": "display_data"
    },
    {
     "name": "stdout",
     "output_type": "stream",
     "text": [
      "----------\n",
      "key\n",
      "Values (first 5 unique): ['A', 'A#', 'B', 'C', 'C#']\n"
     ]
    },
    {
     "data": {
      "image/png": "[encoded data removed]",
      "text/plain": [
       "<Figure size 640x480 with 1 Axes>"
      ]
     },
     "metadata": {},
     "output_type": "display_data"
    },
    {
     "name": "stdout",
     "output_type": "stream",
     "text": [
      "----------\n",
      "liveness\n",
      "Values (first 5 unique): [0.0136, 0.0169, 0.0194, 0.0209, 0.0212]\n",
      "max: 1.0 min: 0.0136\n",
      "median: 0.12999999523162842\n"
     ]
    },
    {
     "data": {
      "image/png": "[encoded data removed]",
      "text/plain": [
       "<Figure size 640x480 with 1 Axes>"
      ]
     },
     "metadata": {},
     "output_type": "display_data"
    },
    {
     "name": "stdout",
     "output_type": "stream",
     "text": [
      "----------\n",
      "loudness\n",
      "Values (first 5 unique): [-44.406, -44.108, -43.407, -42.512, -42.175]\n",
      "max: 3.744 min: -44.406\n",
      "median: -7.044000148773193\n"
     ]
    },
    {
     "data": {
      "image/png": "[encoded data removed]",
      "text/plain": [
       "<Figure size 640x480 with 1 Axes>"
      ]
     },
     "metadata": {},
     "output_type": "display_data"
    },
    {
     "name": "stdout",
     "output_type": "stream",
     "text": [
      "----------\n",
      "mode\n",
      "Values (first 5 unique): ['Major', 'Minor']\n"
     ]
    },
    {
     "data": {
      "image/png": "[encoded data removed]",
      "text/plain": [
       "<Figure size 640x480 with 1 Axes>"
      ]
     },
     "metadata": {},
     "output_type": "display_data"
    },
    {
     "name": "stdout",
     "output_type": "stream",
     "text": [
      "----------\n",
      "speechiness\n",
      "Values (first 5 unique): [0.0223, 0.0224, 0.0225, 0.0226, 0.0227]\n",
      "max: 0.932 min: 0.0223\n",
      "median: 0.04894999973475933\n"
     ]
    },
    {
     "data": {
      "image/png": "[encoded data removed]",
      "text/plain": [
       "<Figure size 640x480 with 1 Axes>"
      ]
     },
     "metadata": {},
     "output_type": "display_data"
    },
    {
     "name": "stdout",
     "output_type": "stream",
     "text": [
      "----------\n",
      "tempo\n",
      "Values (first 5 unique): [34.765, 34.856, 46.591, 46.718, 47.587]\n",
      "max: 220.041 min: 34.765\n",
      "median: 120.01100158691406\n"
     ]
    },
    {
     "data": {
      "image/png": "[encoded data removed]",
      "text/plain": [
       "<Figure size 640x480 with 1 Axes>"
      ]
     },
     "metadata": {},
     "output_type": "display_data"
    },
    {
     "name": "stdout",
     "output_type": "stream",
     "text": [
      "----------\n",
      "obtained_date\n",
      "Values (first 5 unique): ['1-Apr', '3-Apr', '4-Apr', '5-Apr']\n"
     ]
    },
    {
     "data": {
      "image/png": "[encoded data removed]",
      "text/plain": [
       "<Figure size 640x480 with 1 Axes>"
      ]
     },
     "metadata": {},
     "output_type": "display_data"
    },
    {
     "name": "stdout",
     "output_type": "stream",
     "text": [
      "----------\n",
      "valence\n",
      "Values (first 5 unique): [0.0, 0.0193, 0.0234, 0.0241, 0.0251]\n",
      "max: 0.992 min: 0.0\n",
      "median: 0.4569999873638153\n"
     ]
    },
    {
     "data": {
      "image/png": "[encoded data removed]",
      "text/plain": [
       "<Figure size 640x480 with 1 Axes>"
      ]
     },
     "metadata": {},
     "output_type": "display_data"
    },
    {
     "name": "stdout",
     "output_type": "stream",
     "text": [
      "----------\n",
      "music_genre\n",
      "Values (first 5 unique): ['Alternative', 'Anime', 'Blues', 'Classical', 'Country']\n"
     ]
    },
    {
     "data": {
      "image/png": "[encoded data removed]",
      "text/plain": [
       "<Figure size 640x480 with 1 Axes>"
      ]
     },
     "metadata": {},
     "output_type": "display_data"
    },
    {
     "name": "stdout",
     "output_type": "stream",
     "text": [
      "----------\n"
     ]
    }
   ],
   "source": [
    "for col in df.columns:\n",
    "    print(col)\n",
    "    print('Values (first 5 unique):', sorted(df[col].unique())[:5])\n",
    "    if df[col].dtype != 'O':\n",
    "        print('max:', df[col].max(), 'min:', df[col].min())\n",
    "        print('median:', df[col].quantile(0.5))\n",
    "    if col != 'track_name':\n",
    "        df[col].hist(legend=True, bins=20)\n",
    "        plt.show()\n",
    "    print('-'*10)"
   ]
  },
  {
   "cell_type": "code",
   "execution_count": 68,
   "id": "402f8c55",
   "metadata": {
    "ExecuteTime": {
     "end_time": "2023-07-25T17:20:15.444186Z",
     "start_time": "2023-07-25T17:20:15.432096Z"
    },
    "scrolled": true
   },
   "outputs": [
    {
     "data": {
      "text/plain": [
       "Blues          0.140\n",
       "Alternative    0.128\n",
       "Electronic     0.126\n",
       "Rap            0.119\n",
       "Rock           0.106\n",
       "Country        0.104\n",
       "Anime          0.093\n",
       "Classical      0.067\n",
       "Jazz           0.061\n",
       "Hip-Hop        0.056\n",
       "Name: music_genre, dtype: float64"
      ]
     },
     "execution_count": 68,
     "metadata": {},
     "output_type": "execute_result"
    }
   ],
   "source": [
    "# проверка на дисбаланс классов\n",
    "df.music_genre.value_counts(normalize=True)"
   ]
  },
  {
   "cell_type": "markdown",
   "id": "c3ef4830",
   "metadata": {},
   "source": [
    "## Проверка на дубли"
   ]
  },
  {
   "cell_type": "code",
   "execution_count": 186,
   "id": "a794aab9",
   "metadata": {},
   "outputs": [
    {
     "data": {
      "text/html": [
       "<div>\n",
       "<style scoped>\n",
       "    .dataframe tbody tr th:only-of-type {\n",
       "        vertical-align: middle;\n",
       "    }\n",
       "\n",
       "    .dataframe tbody tr th {\n",
       "        vertical-align: top;\n",
       "    }\n",
       "\n",
       "    .dataframe thead th {\n",
       "        text-align: right;\n",
       "    }\n",
       "</style>\n",
       "<table border=\"1\" class=\"dataframe\">\n",
       "  <thead>\n",
       "    <tr style=\"text-align: right;\">\n",
       "      <th></th>\n",
       "      <th>acousticness</th>\n",
       "      <th>danceability</th>\n",
       "      <th>duration_ms</th>\n",
       "      <th>energy</th>\n",
       "      <th>instrumentalness</th>\n",
       "      <th>key</th>\n",
       "      <th>liveness</th>\n",
       "      <th>mode</th>\n",
       "      <th>speechiness</th>\n",
       "      <th>tempo</th>\n",
       "      <th>valence</th>\n",
       "      <th>music_genre</th>\n",
       "    </tr>\n",
       "    <tr>\n",
       "      <th>instance_id</th>\n",
       "      <th></th>\n",
       "      <th></th>\n",
       "      <th></th>\n",
       "      <th></th>\n",
       "      <th></th>\n",
       "      <th></th>\n",
       "      <th></th>\n",
       "      <th></th>\n",
       "      <th></th>\n",
       "      <th></th>\n",
       "      <th></th>\n",
       "      <th></th>\n",
       "    </tr>\n",
       "  </thead>\n",
       "  <tbody>\n",
       "    <tr>\n",
       "      <th>23587</th>\n",
       "      <td>0.228</td>\n",
       "      <td>0.454</td>\n",
       "      <td>173448.000</td>\n",
       "      <td>0.804</td>\n",
       "      <td>0.000</td>\n",
       "      <td>E</td>\n",
       "      <td>0.181</td>\n",
       "      <td>Minor</td>\n",
       "      <td>0.371</td>\n",
       "      <td>80.980</td>\n",
       "      <td>0.344</td>\n",
       "      <td>Rock</td>\n",
       "    </tr>\n",
       "    <tr>\n",
       "      <th>84391</th>\n",
       "      <td>0.038</td>\n",
       "      <td>0.512</td>\n",
       "      <td>94547.000</td>\n",
       "      <td>0.576</td>\n",
       "      <td>0.036</td>\n",
       "      <td>G#</td>\n",
       "      <td>0.198</td>\n",
       "      <td>Minor</td>\n",
       "      <td>0.283</td>\n",
       "      <td>75.978</td>\n",
       "      <td>0.319</td>\n",
       "      <td>Alternative</td>\n",
       "    </tr>\n",
       "    <tr>\n",
       "      <th>79141</th>\n",
       "      <td>0.300</td>\n",
       "      <td>0.617</td>\n",
       "      <td>161827.000</td>\n",
       "      <td>0.686</td>\n",
       "      <td>0.000</td>\n",
       "      <td>D</td>\n",
       "      <td>0.105</td>\n",
       "      <td>Major</td>\n",
       "      <td>0.245</td>\n",
       "      <td>79.252</td>\n",
       "      <td>0.544</td>\n",
       "      <td>Rap</td>\n",
       "    </tr>\n",
       "    <tr>\n",
       "      <th>49551</th>\n",
       "      <td>0.000</td>\n",
       "      <td>0.400</td>\n",
       "      <td>209049.000</td>\n",
       "      <td>0.792</td>\n",
       "      <td>0.085</td>\n",
       "      <td>B</td>\n",
       "      <td>0.185</td>\n",
       "      <td>Major</td>\n",
       "      <td>0.037</td>\n",
       "      <td>117.819</td>\n",
       "      <td>0.338</td>\n",
       "      <td>Blues</td>\n",
       "    </tr>\n",
       "    <tr>\n",
       "      <th>36964</th>\n",
       "      <td>0.070</td>\n",
       "      <td>0.733</td>\n",
       "      <td>226581.000</td>\n",
       "      <td>0.676</td>\n",
       "      <td>0.000</td>\n",
       "      <td>A#</td>\n",
       "      <td>0.208</td>\n",
       "      <td>Minor</td>\n",
       "      <td>0.043</td>\n",
       "      <td>97.448</td>\n",
       "      <td>0.701</td>\n",
       "      <td>Rap</td>\n",
       "    </tr>\n",
       "    <tr>\n",
       "      <th>...</th>\n",
       "      <td>...</td>\n",
       "      <td>...</td>\n",
       "      <td>...</td>\n",
       "      <td>...</td>\n",
       "      <td>...</td>\n",
       "      <td>...</td>\n",
       "      <td>...</td>\n",
       "      <td>...</td>\n",
       "      <td>...</td>\n",
       "      <td>...</td>\n",
       "      <td>...</td>\n",
       "      <td>...</td>\n",
       "    </tr>\n",
       "    <tr>\n",
       "      <th>72215</th>\n",
       "      <td>0.000</td>\n",
       "      <td>0.406</td>\n",
       "      <td>222049.000</td>\n",
       "      <td>0.952</td>\n",
       "      <td>0.025</td>\n",
       "      <td>G#</td>\n",
       "      <td>0.198</td>\n",
       "      <td>Major</td>\n",
       "      <td>0.042</td>\n",
       "      <td>88.563</td>\n",
       "      <td>0.534</td>\n",
       "      <td>Rap</td>\n",
       "    </tr>\n",
       "    <tr>\n",
       "      <th>42562</th>\n",
       "      <td>0.006</td>\n",
       "      <td>0.554</td>\n",
       "      <td>240453.000</td>\n",
       "      <td>0.864</td>\n",
       "      <td>0.000</td>\n",
       "      <td>A</td>\n",
       "      <td>0.132</td>\n",
       "      <td>Major</td>\n",
       "      <td>0.039</td>\n",
       "      <td>112.523</td>\n",
       "      <td>0.299</td>\n",
       "      <td>Alternative</td>\n",
       "    </tr>\n",
       "    <tr>\n",
       "      <th>66420</th>\n",
       "      <td>0.024</td>\n",
       "      <td>0.746</td>\n",
       "      <td>222093.000</td>\n",
       "      <td>0.873</td>\n",
       "      <td>0.000</td>\n",
       "      <td>G</td>\n",
       "      <td>0.354</td>\n",
       "      <td>Major</td>\n",
       "      <td>0.128</td>\n",
       "      <td>148.075</td>\n",
       "      <td>0.817</td>\n",
       "      <td>Rap</td>\n",
       "    </tr>\n",
       "    <tr>\n",
       "      <th>27588</th>\n",
       "      <td>0.975</td>\n",
       "      <td>0.338</td>\n",
       "      <td>273400.000</td>\n",
       "      <td>0.126</td>\n",
       "      <td>0.911</td>\n",
       "      <td>C#</td>\n",
       "      <td>0.107</td>\n",
       "      <td>Major</td>\n",
       "      <td>0.028</td>\n",
       "      <td>79.882</td>\n",
       "      <td>0.065</td>\n",
       "      <td>Classical</td>\n",
       "    </tr>\n",
       "    <tr>\n",
       "      <th>43672</th>\n",
       "      <td>0.001</td>\n",
       "      <td>0.905</td>\n",
       "      <td>192840.000</td>\n",
       "      <td>0.677</td>\n",
       "      <td>0.000</td>\n",
       "      <td>D</td>\n",
       "      <td>0.251</td>\n",
       "      <td>Major</td>\n",
       "      <td>0.345</td>\n",
       "      <td>140.882</td>\n",
       "      <td>0.598</td>\n",
       "      <td>Rap</td>\n",
       "    </tr>\n",
       "  </tbody>\n",
       "</table>\n",
       "<p>482 rows × 12 columns</p>\n",
       "</div>"
      ],
      "text/plain": [
       "             acousticness  danceability  duration_ms  energy  \\\n",
       "instance_id                                                    \n",
       "23587               0.228         0.454   173448.000   0.804   \n",
       "84391               0.038         0.512    94547.000   0.576   \n",
       "79141               0.300         0.617   161827.000   0.686   \n",
       "49551               0.000         0.400   209049.000   0.792   \n",
       "36964               0.070         0.733   226581.000   0.676   \n",
       "...                   ...           ...          ...     ...   \n",
       "72215               0.000         0.406   222049.000   0.952   \n",
       "42562               0.006         0.554   240453.000   0.864   \n",
       "66420               0.024         0.746   222093.000   0.873   \n",
       "27588               0.975         0.338   273400.000   0.126   \n",
       "43672               0.001         0.905   192840.000   0.677   \n",
       "\n",
       "             instrumentalness key  liveness   mode  speechiness    tempo  \\\n",
       "instance_id                                                                \n",
       "23587                   0.000   E     0.181  Minor        0.371   80.980   \n",
       "84391                   0.036  G#     0.198  Minor        0.283   75.978   \n",
       "79141                   0.000   D     0.105  Major        0.245   79.252   \n",
       "49551                   0.085   B     0.185  Major        0.037  117.819   \n",
       "36964                   0.000  A#     0.208  Minor        0.043   97.448   \n",
       "...                       ...  ..       ...    ...          ...      ...   \n",
       "72215                   0.025  G#     0.198  Major        0.042   88.563   \n",
       "42562                   0.000   A     0.132  Major        0.039  112.523   \n",
       "66420                   0.000   G     0.354  Major        0.128  148.075   \n",
       "27588                   0.911  C#     0.107  Major        0.028   79.882   \n",
       "43672                   0.000   D     0.251  Major        0.345  140.882   \n",
       "\n",
       "             valence  music_genre  \n",
       "instance_id                        \n",
       "23587          0.344         Rock  \n",
       "84391          0.319  Alternative  \n",
       "79141          0.544          Rap  \n",
       "49551          0.338        Blues  \n",
       "36964          0.701          Rap  \n",
       "...              ...          ...  \n",
       "72215          0.534          Rap  \n",
       "42562          0.299  Alternative  \n",
       "66420          0.817          Rap  \n",
       "27588          0.065    Classical  \n",
       "43672          0.598          Rap  \n",
       "\n",
       "[482 rows x 12 columns]"
      ]
     },
     "execution_count": 186,
     "metadata": {},
     "output_type": "execute_result"
    }
   ],
   "source": [
    "df[df.duplicated(subset=df.columns[:-1])]"
   ]
  },
  {
   "cell_type": "code",
   "execution_count": 188,
   "id": "7d48773c",
   "metadata": {},
   "outputs": [],
   "source": [
    "# удаляем дубли\n",
    "df = df.drop_duplicates(subset=df.columns[:-1])"
   ]
  },
  {
   "cell_type": "code",
   "execution_count": 69,
   "id": "0c60cfdf",
   "metadata": {
    "ExecuteTime": {
     "end_time": "2023-07-25T17:31:21.958875Z",
     "start_time": "2023-07-25T17:31:21.938524Z"
    }
   },
   "outputs": [],
   "source": [
    "# столбец с названием трека не несет ценности при обучении модели\n",
    "df.drop(columns='track_name', inplace=True)"
   ]
  },
  {
   "cell_type": "markdown",
   "id": "ddc30175",
   "metadata": {},
   "source": [
    "## Проверка столбца duration_ms на выбросы"
   ]
  },
  {
   "cell_type": "markdown",
   "id": "b76c44db",
   "metadata": {},
   "source": [
    "Построим boxplot"
   ]
  },
  {
   "cell_type": "code",
   "execution_count": 70,
   "id": "fe3664fa",
   "metadata": {
    "ExecuteTime": {
     "end_time": "2023-07-25T17:38:12.279253Z",
     "start_time": "2023-07-25T17:38:12.190008Z"
    }
   },
   "outputs": [
    {
     "data": {
      "image/png": "[encoded data removed]",
      "text/plain": [
       "<Figure size 640x480 with 1 Axes>"
      ]
     },
     "metadata": {},
     "output_type": "display_data"
    }
   ],
   "source": [
    "df.duration_ms.plot(kind='box');"
   ]
  },
  {
   "cell_type": "markdown",
   "id": "485d1add",
   "metadata": {},
   "source": [
    "Видим большое кол-во выбивающихся точек. Просмотрим их более детально"
   ]
  },
  {
   "cell_type": "code",
   "execution_count": 71,
   "id": "86076d06",
   "metadata": {
    "ExecuteTime": {
     "end_time": "2023-07-25T17:37:51.668687Z",
     "start_time": "2023-07-25T17:37:51.653055Z"
    }
   },
   "outputs": [
    {
     "data": {
      "text/plain": [
       "instance_id\n",
       "31587    74.967\n",
       "33452    71.267\n",
       "68269    46.082\n",
       "44557    33.655\n",
       "33672    29.641\n",
       "46356    26.956\n",
       "30590    25.702\n",
       "21079    25.160\n",
       "68767    24.092\n",
       "68942    23.859\n",
       "Name: duration_ms, dtype: float32"
      ]
     },
     "execution_count": 71,
     "metadata": {},
     "output_type": "execute_result"
    }
   ],
   "source": [
    "df.duration_ms.sort_values(ascending=False).head(10) / (1000*60)"
   ]
  },
  {
   "cell_type": "code",
   "execution_count": 72,
   "id": "e363916d",
   "metadata": {
    "ExecuteTime": {
     "end_time": "2023-07-25T17:39:04.018377Z",
     "start_time": "2023-07-25T17:39:03.834721Z"
    }
   },
   "outputs": [
    {
     "data": {
      "image/png": "[encoded data removed]",
      "text/plain": [
       "<Figure size 640x480 with 1 Axes>"
      ]
     },
     "metadata": {},
     "output_type": "display_data"
    }
   ],
   "source": [
    "duration = df.pivot_table(index='music_genre', values='duration_ms', aggfunc=['median', 'mean', 'max'])\n",
    "duration = duration / 1000 / 60 # переводим в минуты\n",
    "duration.plot(kind='barh');"
   ]
  },
  {
   "cell_type": "markdown",
   "id": "e9d23697",
   "metadata": {},
   "source": [
    "Видим, что у треков каждого жанра есть аномально длинные композиции.  \n",
    "Путем точеченой ручной проверки я выяснил, что это ошибочно: в действительности длина трека не такая.  \n",
    "Очистим наиболее длинные треки в каждом жанре.  "
   ]
  },
  {
   "cell_type": "code",
   "execution_count": 73,
   "id": "54f147f5",
   "metadata": {
    "ExecuteTime": {
     "end_time": "2023-07-25T17:53:02.824589Z",
     "start_time": "2023-07-25T17:53:02.809609Z"
    }
   },
   "outputs": [],
   "source": [
    "rows = df.shape[0]"
   ]
  },
  {
   "cell_type": "code",
   "execution_count": 74,
   "id": "46188c7a",
   "metadata": {},
   "outputs": [],
   "source": [
    "for j in df.music_genre.unique():\n",
    "    qs = df[df.music_genre == j].duration_ms.quantile([0.25, 0.75])\n",
    "    Q1, Q3 = qs[0.25], qs[0.75]\n",
    "    IQR = Q3 - Q1\n",
    "    ind = df[(df.music_genre == j) & (df.duration_ms > (Q3 + IQR * 1.5))].index\n",
    "    # оставляем только строки без выбросов\n",
    "    df = df[~df.index.isin(ind)]"
   ]
  },
  {
   "cell_type": "code",
   "execution_count": 75,
   "id": "ab40d29f",
   "metadata": {
    "ExecuteTime": {
     "end_time": "2023-07-25T17:53:10.392394Z",
     "start_time": "2023-07-25T17:53:10.379183Z"
    }
   },
   "outputs": [
    {
     "data": {
      "text/plain": [
       "(19762, 14)"
      ]
     },
     "execution_count": 75,
     "metadata": {},
     "output_type": "execute_result"
    }
   ],
   "source": [
    "df.shape"
   ]
  },
  {
   "cell_type": "markdown",
   "id": "f8d7881d",
   "metadata": {},
   "source": [
    "Узнаем, многим ли мы пожертвовали при очистке."
   ]
  },
  {
   "cell_type": "code",
   "execution_count": 76,
   "id": "fe4424f3",
   "metadata": {
    "ExecuteTime": {
     "end_time": "2023-07-25T17:54:31.868410Z",
     "start_time": "2023-07-25T17:54:31.848696Z"
    }
   },
   "outputs": [
    {
     "name": "stdout",
     "output_type": "stream",
     "text": [
      "Очищено 3.1 % строк\n"
     ]
    }
   ],
   "source": [
    "print('Очищено', round((rows - df.shape[0]) / rows, 4) * 100, '% строк')"
   ]
  },
  {
   "cell_type": "markdown",
   "id": "311d6e6e",
   "metadata": {},
   "source": [
    "Значение выглядит приемлемым."
   ]
  },
  {
   "cell_type": "markdown",
   "id": "6417c819",
   "metadata": {},
   "source": [
    "Посмотрим, может ли повлиять obtained_date - дата загрузки в сервис - на жанр трека."
   ]
  },
  {
   "cell_type": "code",
   "execution_count": 77,
   "id": "1b37b12f",
   "metadata": {
    "scrolled": false
   },
   "outputs": [
    {
     "data": {
      "text/html": [
       "<div>\n",
       "<style scoped>\n",
       "    .dataframe tbody tr th:only-of-type {\n",
       "        vertical-align: middle;\n",
       "    }\n",
       "\n",
       "    .dataframe tbody tr th {\n",
       "        vertical-align: top;\n",
       "    }\n",
       "\n",
       "    .dataframe thead th {\n",
       "        text-align: right;\n",
       "    }\n",
       "</style>\n",
       "<table border=\"1\" class=\"dataframe\">\n",
       "  <thead>\n",
       "    <tr style=\"text-align: right;\">\n",
       "      <th>obtained_date</th>\n",
       "      <th>1-Apr</th>\n",
       "      <th>3-Apr</th>\n",
       "      <th>4-Apr</th>\n",
       "      <th>5-Apr</th>\n",
       "    </tr>\n",
       "    <tr>\n",
       "      <th>music_genre</th>\n",
       "      <th></th>\n",
       "      <th></th>\n",
       "      <th></th>\n",
       "      <th></th>\n",
       "    </tr>\n",
       "  </thead>\n",
       "  <tbody>\n",
       "    <tr>\n",
       "      <th>Alternative</th>\n",
       "      <td>9</td>\n",
       "      <td>151</td>\n",
       "      <td>2261</td>\n",
       "      <td>18</td>\n",
       "    </tr>\n",
       "    <tr>\n",
       "      <th>Anime</th>\n",
       "      <td>17</td>\n",
       "      <td>166</td>\n",
       "      <td>1617</td>\n",
       "      <td>30</td>\n",
       "    </tr>\n",
       "    <tr>\n",
       "      <th>Blues</th>\n",
       "      <td>23</td>\n",
       "      <td>303</td>\n",
       "      <td>2278</td>\n",
       "      <td>17</td>\n",
       "    </tr>\n",
       "    <tr>\n",
       "      <th>Classical</th>\n",
       "      <td>38</td>\n",
       "      <td>315</td>\n",
       "      <td>844</td>\n",
       "      <td>69</td>\n",
       "    </tr>\n",
       "    <tr>\n",
       "      <th>Country</th>\n",
       "      <td>1</td>\n",
       "      <td>114</td>\n",
       "      <td>1867</td>\n",
       "      <td>9</td>\n",
       "    </tr>\n",
       "    <tr>\n",
       "      <th>Electronic</th>\n",
       "      <td>8</td>\n",
       "      <td>71</td>\n",
       "      <td>2273</td>\n",
       "      <td>21</td>\n",
       "    </tr>\n",
       "    <tr>\n",
       "      <th>Hip-Hop</th>\n",
       "      <td>3</td>\n",
       "      <td>17</td>\n",
       "      <td>1038</td>\n",
       "      <td>29</td>\n",
       "    </tr>\n",
       "    <tr>\n",
       "      <th>Jazz</th>\n",
       "      <td>14</td>\n",
       "      <td>131</td>\n",
       "      <td>979</td>\n",
       "      <td>24</td>\n",
       "    </tr>\n",
       "    <tr>\n",
       "      <th>Rap</th>\n",
       "      <td>10</td>\n",
       "      <td>56</td>\n",
       "      <td>2173</td>\n",
       "      <td>51</td>\n",
       "    </tr>\n",
       "    <tr>\n",
       "      <th>Rock</th>\n",
       "      <td>8</td>\n",
       "      <td>73</td>\n",
       "      <td>1917</td>\n",
       "      <td>10</td>\n",
       "    </tr>\n",
       "  </tbody>\n",
       "</table>\n",
       "</div>"
      ],
      "text/plain": [
       "obtained_date  1-Apr  3-Apr  4-Apr  5-Apr\n",
       "music_genre                              \n",
       "Alternative        9    151   2261     18\n",
       "Anime             17    166   1617     30\n",
       "Blues             23    303   2278     17\n",
       "Classical         38    315    844     69\n",
       "Country            1    114   1867      9\n",
       "Electronic         8     71   2273     21\n",
       "Hip-Hop            3     17   1038     29\n",
       "Jazz              14    131    979     24\n",
       "Rap               10     56   2173     51\n",
       "Rock               8     73   1917     10"
      ]
     },
     "execution_count": 77,
     "metadata": {},
     "output_type": "execute_result"
    }
   ],
   "source": [
    "df.pivot_table(columns=['obtained_date'], index='music_genre', values='key', aggfunc='count')"
   ]
  },
  {
   "cell_type": "markdown",
   "id": "b69fef2e",
   "metadata": {},
   "source": [
    "Визуальный анализ показал, что связи между загрузкой в сервис и жанром трека нет связи. Колонку можно удалить."
   ]
  },
  {
   "cell_type": "code",
   "execution_count": 78,
   "id": "fb2f8d11",
   "metadata": {},
   "outputs": [],
   "source": [
    "df = df.drop(columns='obtained_date')"
   ]
  },
  {
   "cell_type": "markdown",
   "id": "3f43c281",
   "metadata": {},
   "source": [
    "**Выводы:**\n",
    "- Название трека удаляем, т.к. для обучения моделей он ничего не даст\n",
    "- Очищены выбросы в столбце `duration_ms`\n",
    "- Остальные столбцы выглядят адекватно\n",
    "- Удалены дубли\n",
    "- Таргет - music_genre - содержит дисбаланс классов, т.к., например, hip-hop (~1000) в 2,5 раза реже встречается, чем Blues - ~2500\n",
    "- Отсутствующие значения есть, впоследствии они будут обработаны KNN imputer\n",
    "- Столбец `obtained_date` удален, т.к. не будет иметь ценности для модели"
   ]
  },
  {
   "cell_type": "markdown",
   "id": "ecbc5438",
   "metadata": {},
   "source": [
    "# Подготовка к обучению модели"
   ]
  },
  {
   "cell_type": "markdown",
   "id": "1d27a6f2",
   "metadata": {
    "ExecuteTime": {
     "end_time": "2023-07-25T17:55:54.132893Z",
     "start_time": "2023-07-25T17:55:54.123925Z"
    }
   },
   "source": [
    "Проверим признаки на мультиколлинеарность с помощью библиотеки `phik`.  \n",
    "\n",
    "Суть метода базируется на подсчете **хи-квадрат статистики**, затем ее трансформации в нечто подобное коэффициенту корреляции только на отрезке от 0 (нулевая взаимосвязь) до 1 (максимальная взаимосвязь). С этой целью разработчики считают аналогичную хи-квадрат статистику для различных значений корреляции p случайных величин из двумерного нормального распределения. Опуская нюансы, возвращается p двумерного распределения, соответствующее найденной хи-квадрат статистике между заданными признаками."
   ]
  },
  {
   "cell_type": "code",
   "execution_count": 25,
   "id": "aa5f4d73",
   "metadata": {
    "ExecuteTime": {
     "end_time": "2023-07-25T17:58:10.632151Z",
     "start_time": "2023-07-25T17:58:10.305800Z"
    },
    "collapsed": true
   },
   "outputs": [
    {
     "ename": "AttributeError",
     "evalue": "'DataFrame' object has no attribute 'phik_matrix'",
     "output_type": "error",
     "traceback": [
      "\u001b[0;31m---------------------------------------------------------------------------\u001b[0m",
      "\u001b[0;31mAttributeError\u001b[0m                            Traceback (most recent call last)",
      "\u001b[0;32m/tmp/ipykernel_594/968548792.py\u001b[0m in \u001b[0;36m<module>\u001b[0;34m\u001b[0m\n\u001b[0;32m----> 1\u001b[0;31m \u001b[0mphik_matr\u001b[0m \u001b[0;34m=\u001b[0m \u001b[0mdf_cleared\u001b[0m\u001b[0;34m.\u001b[0m\u001b[0mdrop\u001b[0m\u001b[0;34m(\u001b[0m\u001b[0mcolumns\u001b[0m\u001b[0;34m=\u001b[0m\u001b[0;34m'music_genre'\u001b[0m\u001b[0;34m)\u001b[0m\u001b[0;34m.\u001b[0m\u001b[0mphik_matrix\u001b[0m\u001b[0;34m(\u001b[0m\u001b[0;34m)\u001b[0m\u001b[0;34m\u001b[0m\u001b[0;34m\u001b[0m\u001b[0m\n\u001b[0m",
      "\u001b[0;32m/opt/conda/lib/python3.7/site-packages/pandas/core/generic.py\u001b[0m in \u001b[0;36m__getattr__\u001b[0;34m(self, name)\u001b[0m\n\u001b[1;32m   5485\u001b[0m         ):\n\u001b[1;32m   5486\u001b[0m             \u001b[0;32mreturn\u001b[0m \u001b[0mself\u001b[0m\u001b[0;34m[\u001b[0m\u001b[0mname\u001b[0m\u001b[0;34m]\u001b[0m\u001b[0;34m\u001b[0m\u001b[0;34m\u001b[0m\u001b[0m\n\u001b[0;32m-> 5487\u001b[0;31m         \u001b[0;32mreturn\u001b[0m \u001b[0mobject\u001b[0m\u001b[0;34m.\u001b[0m\u001b[0m__getattribute__\u001b[0m\u001b[0;34m(\u001b[0m\u001b[0mself\u001b[0m\u001b[0;34m,\u001b[0m \u001b[0mname\u001b[0m\u001b[0;34m)\u001b[0m\u001b[0;34m\u001b[0m\u001b[0;34m\u001b[0m\u001b[0m\n\u001b[0m\u001b[1;32m   5488\u001b[0m \u001b[0;34m\u001b[0m\u001b[0m\n\u001b[1;32m   5489\u001b[0m     \u001b[0;32mdef\u001b[0m \u001b[0m__setattr__\u001b[0m\u001b[0;34m(\u001b[0m\u001b[0mself\u001b[0m\u001b[0;34m,\u001b[0m \u001b[0mname\u001b[0m\u001b[0;34m:\u001b[0m \u001b[0mstr\u001b[0m\u001b[0;34m,\u001b[0m \u001b[0mvalue\u001b[0m\u001b[0;34m)\u001b[0m \u001b[0;34m->\u001b[0m \u001b[0;32mNone\u001b[0m\u001b[0;34m:\u001b[0m\u001b[0;34m\u001b[0m\u001b[0;34m\u001b[0m\u001b[0m\n",
      "\u001b[0;31mAttributeError\u001b[0m: 'DataFrame' object has no attribute 'phik_matrix'"
     ]
    }
   ],
   "source": [
    "phik_matr = df_cleared.drop(columns='music_genre').phik_matrix()"
   ]
  },
  {
   "cell_type": "markdown",
   "id": "bf23656f",
   "metadata": {},
   "source": [
    "Визуализируем с помощью seaborn"
   ]
  },
  {
   "cell_type": "code",
   "execution_count": 73,
   "id": "f5668ff2",
   "metadata": {
    "ExecuteTime": {
     "end_time": "2023-07-25T18:05:18.108290Z",
     "start_time": "2023-07-25T18:05:17.882287Z"
    }
   },
   "outputs": [
    {
     "data": {
      "image/png": "[encoded data removed]",
      "text/plain": [
       "<Figure size 432x288 with 2 Axes>"
      ]
     },
     "metadata": {
      "needs_background": "light"
     },
     "output_type": "display_data"
    }
   ],
   "source": [
    "sns.heatmap(phik_matr);"
   ]
  },
  {
   "cell_type": "code",
   "execution_count": 68,
   "id": "fb62a11e",
   "metadata": {
    "ExecuteTime": {
     "end_time": "2023-07-25T18:00:51.550316Z",
     "start_time": "2023-07-25T18:00:51.523246Z"
    }
   },
   "outputs": [
    {
     "data": {
      "text/html": [
       "<div>\n",
       "<style scoped>\n",
       "    .dataframe tbody tr th:only-of-type {\n",
       "        vertical-align: middle;\n",
       "    }\n",
       "\n",
       "    .dataframe tbody tr th {\n",
       "        vertical-align: top;\n",
       "    }\n",
       "\n",
       "    .dataframe thead th {\n",
       "        text-align: right;\n",
       "    }\n",
       "</style>\n",
       "<table border=\"1\" class=\"dataframe\">\n",
       "  <thead>\n",
       "    <tr style=\"text-align: right;\">\n",
       "      <th></th>\n",
       "      <th>acousticness</th>\n",
       "      <th>danceability</th>\n",
       "      <th>duration_ms</th>\n",
       "      <th>energy</th>\n",
       "      <th>instrumentalness</th>\n",
       "      <th>key</th>\n",
       "      <th>liveness</th>\n",
       "      <th>loudness</th>\n",
       "      <th>mode</th>\n",
       "      <th>speechiness</th>\n",
       "      <th>tempo</th>\n",
       "      <th>obtained_date</th>\n",
       "      <th>valence</th>\n",
       "    </tr>\n",
       "  </thead>\n",
       "  <tbody>\n",
       "    <tr>\n",
       "      <th>acousticness</th>\n",
       "      <td>1.000</td>\n",
       "      <td></td>\n",
       "      <td></td>\n",
       "      <td>0.767</td>\n",
       "      <td></td>\n",
       "      <td></td>\n",
       "      <td></td>\n",
       "      <td>0.711</td>\n",
       "      <td></td>\n",
       "      <td></td>\n",
       "      <td></td>\n",
       "      <td></td>\n",
       "      <td></td>\n",
       "    </tr>\n",
       "    <tr>\n",
       "      <th>danceability</th>\n",
       "      <td></td>\n",
       "      <td>1.000</td>\n",
       "      <td></td>\n",
       "      <td></td>\n",
       "      <td></td>\n",
       "      <td></td>\n",
       "      <td></td>\n",
       "      <td></td>\n",
       "      <td></td>\n",
       "      <td></td>\n",
       "      <td></td>\n",
       "      <td></td>\n",
       "      <td></td>\n",
       "    </tr>\n",
       "    <tr>\n",
       "      <th>duration_ms</th>\n",
       "      <td></td>\n",
       "      <td></td>\n",
       "      <td>1.000</td>\n",
       "      <td></td>\n",
       "      <td></td>\n",
       "      <td></td>\n",
       "      <td></td>\n",
       "      <td></td>\n",
       "      <td></td>\n",
       "      <td></td>\n",
       "      <td></td>\n",
       "      <td></td>\n",
       "      <td></td>\n",
       "    </tr>\n",
       "    <tr>\n",
       "      <th>energy</th>\n",
       "      <td>0.767</td>\n",
       "      <td></td>\n",
       "      <td></td>\n",
       "      <td>1.000</td>\n",
       "      <td></td>\n",
       "      <td></td>\n",
       "      <td></td>\n",
       "      <td>0.839</td>\n",
       "      <td></td>\n",
       "      <td></td>\n",
       "      <td></td>\n",
       "      <td></td>\n",
       "      <td></td>\n",
       "    </tr>\n",
       "    <tr>\n",
       "      <th>instrumentalness</th>\n",
       "      <td></td>\n",
       "      <td></td>\n",
       "      <td></td>\n",
       "      <td></td>\n",
       "      <td>1.000</td>\n",
       "      <td></td>\n",
       "      <td></td>\n",
       "      <td></td>\n",
       "      <td></td>\n",
       "      <td></td>\n",
       "      <td></td>\n",
       "      <td></td>\n",
       "      <td></td>\n",
       "    </tr>\n",
       "    <tr>\n",
       "      <th>key</th>\n",
       "      <td></td>\n",
       "      <td></td>\n",
       "      <td></td>\n",
       "      <td></td>\n",
       "      <td></td>\n",
       "      <td>1.000</td>\n",
       "      <td></td>\n",
       "      <td></td>\n",
       "      <td></td>\n",
       "      <td></td>\n",
       "      <td></td>\n",
       "      <td></td>\n",
       "      <td></td>\n",
       "    </tr>\n",
       "    <tr>\n",
       "      <th>liveness</th>\n",
       "      <td></td>\n",
       "      <td></td>\n",
       "      <td></td>\n",
       "      <td></td>\n",
       "      <td></td>\n",
       "      <td></td>\n",
       "      <td>1.000</td>\n",
       "      <td></td>\n",
       "      <td></td>\n",
       "      <td></td>\n",
       "      <td></td>\n",
       "      <td></td>\n",
       "      <td></td>\n",
       "    </tr>\n",
       "    <tr>\n",
       "      <th>loudness</th>\n",
       "      <td>0.711</td>\n",
       "      <td></td>\n",
       "      <td></td>\n",
       "      <td>0.839</td>\n",
       "      <td></td>\n",
       "      <td></td>\n",
       "      <td></td>\n",
       "      <td>1.000</td>\n",
       "      <td></td>\n",
       "      <td></td>\n",
       "      <td></td>\n",
       "      <td></td>\n",
       "      <td></td>\n",
       "    </tr>\n",
       "    <tr>\n",
       "      <th>mode</th>\n",
       "      <td></td>\n",
       "      <td></td>\n",
       "      <td></td>\n",
       "      <td></td>\n",
       "      <td></td>\n",
       "      <td></td>\n",
       "      <td></td>\n",
       "      <td></td>\n",
       "      <td>1.000</td>\n",
       "      <td></td>\n",
       "      <td></td>\n",
       "      <td></td>\n",
       "      <td></td>\n",
       "    </tr>\n",
       "    <tr>\n",
       "      <th>speechiness</th>\n",
       "      <td></td>\n",
       "      <td></td>\n",
       "      <td></td>\n",
       "      <td></td>\n",
       "      <td></td>\n",
       "      <td></td>\n",
       "      <td></td>\n",
       "      <td></td>\n",
       "      <td></td>\n",
       "      <td>1.000</td>\n",
       "      <td></td>\n",
       "      <td></td>\n",
       "      <td></td>\n",
       "    </tr>\n",
       "    <tr>\n",
       "      <th>tempo</th>\n",
       "      <td></td>\n",
       "      <td></td>\n",
       "      <td></td>\n",
       "      <td></td>\n",
       "      <td></td>\n",
       "      <td></td>\n",
       "      <td></td>\n",
       "      <td></td>\n",
       "      <td></td>\n",
       "      <td></td>\n",
       "      <td>1.000</td>\n",
       "      <td></td>\n",
       "      <td></td>\n",
       "    </tr>\n",
       "    <tr>\n",
       "      <th>obtained_date</th>\n",
       "      <td></td>\n",
       "      <td></td>\n",
       "      <td></td>\n",
       "      <td></td>\n",
       "      <td></td>\n",
       "      <td></td>\n",
       "      <td></td>\n",
       "      <td></td>\n",
       "      <td></td>\n",
       "      <td></td>\n",
       "      <td></td>\n",
       "      <td>1.000</td>\n",
       "      <td></td>\n",
       "    </tr>\n",
       "    <tr>\n",
       "      <th>valence</th>\n",
       "      <td></td>\n",
       "      <td></td>\n",
       "      <td></td>\n",
       "      <td></td>\n",
       "      <td></td>\n",
       "      <td></td>\n",
       "      <td></td>\n",
       "      <td></td>\n",
       "      <td></td>\n",
       "      <td></td>\n",
       "      <td></td>\n",
       "      <td></td>\n",
       "      <td>1.000</td>\n",
       "    </tr>\n",
       "  </tbody>\n",
       "</table>\n",
       "</div>"
      ],
      "text/plain": [
       "                 acousticness danceability duration_ms energy  \\\n",
       "acousticness            1.000                           0.767   \n",
       "danceability                         1.000                      \n",
       "duration_ms                                      1.000          \n",
       "energy                  0.767                           1.000   \n",
       "instrumentalness                                                \n",
       "key                                                             \n",
       "liveness                                                        \n",
       "loudness                0.711                           0.839   \n",
       "mode                                                            \n",
       "speechiness                                                     \n",
       "tempo                                                           \n",
       "obtained_date                                                   \n",
       "valence                                                         \n",
       "\n",
       "                 instrumentalness    key liveness loudness   mode speechiness  \\\n",
       "acousticness                                         0.711                      \n",
       "danceability                                                                    \n",
       "duration_ms                                                                     \n",
       "energy                                               0.839                      \n",
       "instrumentalness            1.000                                               \n",
       "key                                1.000                                        \n",
       "liveness                                    1.000                               \n",
       "loudness                                             1.000                      \n",
       "mode                                                        1.000               \n",
       "speechiness                                                             1.000   \n",
       "tempo                                                                           \n",
       "obtained_date                                                                   \n",
       "valence                                                                         \n",
       "\n",
       "                  tempo obtained_date valence  \n",
       "acousticness                                   \n",
       "danceability                                   \n",
       "duration_ms                                    \n",
       "energy                                         \n",
       "instrumentalness                               \n",
       "key                                            \n",
       "liveness                                       \n",
       "loudness                                       \n",
       "mode                                           \n",
       "speechiness                                    \n",
       "tempo             1.000                        \n",
       "obtained_date                   1.000          \n",
       "valence                                 1.000  "
      ]
     },
     "execution_count": 68,
     "metadata": {},
     "output_type": "execute_result"
    }
   ],
   "source": [
    "phik_matr[phik_matr > 0.7].fillna('')"
   ]
  },
  {
   "cell_type": "markdown",
   "id": "03a6cfc4",
   "metadata": {},
   "source": [
    "Видим высокую (более 70%) корреляцию между признаками:\n",
    "- acousticness и loudness\n",
    "- energy и loudness  \n",
    "\n",
    "Таким образом, loudness можно удалить (т.к. именно этот столбец сильно коррелирует с двумя другими), чтобы избежать переобучения модели."
   ]
  },
  {
   "cell_type": "code",
   "execution_count": 79,
   "id": "963206d7",
   "metadata": {
    "ExecuteTime": {
     "end_time": "2023-07-25T18:04:05.330742Z",
     "start_time": "2023-07-25T18:04:05.299102Z"
    }
   },
   "outputs": [],
   "source": [
    "df.drop(columns='loudness', inplace=True)"
   ]
  },
  {
   "cell_type": "markdown",
   "id": "24038e98",
   "metadata": {},
   "source": [
    "Создадим функцию, которая объединит все этапы очистки данных в целях обработки тестовых данных."
   ]
  },
  {
   "cell_type": "code",
   "execution_count": 80,
   "id": "825d7a4e",
   "metadata": {},
   "outputs": [],
   "source": [
    "def prepare_raw(raw):\n",
    "    # приводим id в числовой тип\n",
    "    raw.instance_id = raw.instance_id.astype('int')\n",
    "    # устанавливаем колонку с id трека как индекс. так будет удобнее в дальнейшем\n",
    "    raw = raw.set_index(raw.instance_id).drop(columns='instance_id')\n",
    "    # оптимизируем float колонки, чтобы они быстрее обрабатывались и занимали меньше места\n",
    "    fcols = raw.select_dtypes('float').columns\n",
    "    raw[fcols] = raw[fcols].apply(pd.to_numeric, downcast='float')\n",
    "\n",
    "    # очистка ненужных колонок\n",
    "    raw.drop(columns=['track_name', 'loudness', 'obtained_date'], inplace=True)\n",
    "\n",
    "    return raw"
   ]
  },
  {
   "cell_type": "markdown",
   "id": "743c9a60",
   "metadata": {},
   "source": [
    "# Разработка модели"
   ]
  },
  {
   "cell_type": "markdown",
   "id": "e3a17bee",
   "metadata": {
    "ExecuteTime": {
     "end_time": "2023-07-25T19:06:32.091776Z",
     "start_time": "2023-07-25T19:06:32.079814Z"
    }
   },
   "source": [
    "Создаем features & target"
   ]
  },
  {
   "cell_type": "code",
   "execution_count": 189,
   "id": "920a5538",
   "metadata": {
    "ExecuteTime": {
     "end_time": "2023-07-25T19:07:53.235317Z",
     "start_time": "2023-07-25T19:07:53.214387Z"
    }
   },
   "outputs": [],
   "source": [
    "X = df.drop(columns='music_genre')\n",
    "Y = df['music_genre']"
   ]
  },
  {
   "cell_type": "code",
   "execution_count": 82,
   "id": "a6c323bc",
   "metadata": {
    "ExecuteTime": {
     "end_time": "2023-07-25T18:55:16.554714Z",
     "start_time": "2023-07-25T18:55:16.546346Z"
    }
   },
   "outputs": [],
   "source": [
    "SEED = 777 # for random_state"
   ]
  },
  {
   "cell_type": "markdown",
   "id": "e45565b3",
   "metadata": {},
   "source": [
    "## Линейные модели"
   ]
  },
  {
   "cell_type": "markdown",
   "id": "fcc237d8",
   "metadata": {
    "ExecuteTime": {
     "end_time": "2023-07-25T19:31:22.998770Z",
     "start_time": "2023-07-25T19:31:22.987836Z"
    }
   },
   "source": [
    "Будем максимизировать f1-score как наиболее подходящий для задачи классификации.  \n",
    "Для задач мультиклассовой классификации можно использовать разные виды метрик f-1.  \n",
    "Мой выбор - **f1_micro**, т. к. она отлично подходит для несбалансированных классов."
   ]
  },
  {
   "cell_type": "code",
   "execution_count": 88,
   "id": "caeb1d99",
   "metadata": {},
   "outputs": [],
   "source": [
    "def linear_pipeline(model):\n",
    "    '''\n",
    "    функция создает обыкновенный pipeline с one-hot encoder и StandartScaler для линейных моделей.\n",
    "    на выходе возвращает pipeline\n",
    "    '''\n",
    "    # Объявляем scaler и OneHotEncoder() для числовых и категориальных переменных соответственно\n",
    "    scaler = StandardScaler() \n",
    "    ohe = OneHotEncoder(handle_unknown='ignore', drop='first')\n",
    "\n",
    "    # делаем кодировку колонок (ohe), скалирование и обработку пустых значений\n",
    "    column_transformer = make_column_transformer(\n",
    "        (scaler, make_column_selector(dtype_include='number')),\n",
    "        (ohe, make_column_selector(dtype_include='object')),\n",
    "        remainder='passthrough')\n",
    "\n",
    "    # итоговый pipeline\n",
    "    pipeline = Pipeline([(\"preprocessing\", column_transformer),\n",
    "                         (\"imputer\", KNNImputer()),\n",
    "                         (\"model\", model)])\n",
    "    return pipeline"
   ]
  },
  {
   "cell_type": "markdown",
   "id": "4877fd5d",
   "metadata": {},
   "source": [
    "### LogisticRegression"
   ]
  },
  {
   "cell_type": "code",
   "execution_count": 89,
   "id": "09f138bd",
   "metadata": {},
   "outputs": [],
   "source": [
    "pipeline = linear_pipeline(LogisticRegression(random_state=SEED))"
   ]
  },
  {
   "cell_type": "markdown",
   "id": "804ef1d1",
   "metadata": {},
   "source": [
    "Я воспользуюсь RandomizedSearchCV для более быстрой оценки тех или иных гиперпараметров, затем визуализирую результаты работы (score) каждого параметра, чтобы понять, какие из них подходят лучше. Если модель будет покажет хорошие результаты, уточню поиск параметров с помощью GridSearchCV."
   ]
  },
  {
   "cell_type": "code",
   "execution_count": 90,
   "id": "abf461e8",
   "metadata": {
    "ExecuteTime": {
     "end_time": "2023-07-25T20:04:48.615221Z",
     "start_time": "2023-07-25T19:59:51.368680Z"
    },
    "scrolled": true
   },
   "outputs": [
    {
     "name": "stdout",
     "output_type": "stream",
     "text": [
      "Fitting 5 folds for each of 100 candidates, totalling 500 fits\n"
     ]
    },
    {
     "name": "stderr",
     "output_type": "stream",
     "text": [
      "/opt/conda/lib/python3.7/site-packages/sklearn/model_selection/_validation.py:372: FitFailedWarning: \n",
      "100 fits failed out of a total of 500.\n",
      "The score on these train-test partitions for these parameters will be set to nan.\n",
      "If these failures are not expected, you can try to debug them by setting error_score='raise'.\n",
      "\n",
      "Below are more details about the failures:\n",
      "--------------------------------------------------------------------------------\n",
      "35 fits failed with the following error:\n",
      "Traceback (most recent call last):\n",
      "  File \"/opt/conda/lib/python3.7/site-packages/sklearn/model_selection/_validation.py\", line 680, in _fit_and_score\n",
      "    estimator.fit(X_train, y_train, **fit_params)\n",
      "  File \"/opt/conda/lib/python3.7/site-packages/sklearn/pipeline.py\", line 394, in fit\n",
      "    self._final_estimator.fit(Xt, y, **fit_params_last_step)\n",
      "  File \"/opt/conda/lib/python3.7/site-packages/sklearn/linear_model/_logistic.py\", line 1461, in fit\n",
      "    solver = _check_solver(self.solver, self.penalty, self.dual)\n",
      "  File \"/opt/conda/lib/python3.7/site-packages/sklearn/linear_model/_logistic.py\", line 449, in _check_solver\n",
      "    % (solver, penalty)\n",
      "ValueError: Solver newton-cg supports only 'l2' or 'none' penalties, got l1 penalty.\n",
      "\n",
      "--------------------------------------------------------------------------------\n",
      "45 fits failed with the following error:\n",
      "Traceback (most recent call last):\n",
      "  File \"/opt/conda/lib/python3.7/site-packages/sklearn/model_selection/_validation.py\", line 680, in _fit_and_score\n",
      "    estimator.fit(X_train, y_train, **fit_params)\n",
      "  File \"/opt/conda/lib/python3.7/site-packages/sklearn/pipeline.py\", line 394, in fit\n",
      "    self._final_estimator.fit(Xt, y, **fit_params_last_step)\n",
      "  File \"/opt/conda/lib/python3.7/site-packages/sklearn/linear_model/_logistic.py\", line 1461, in fit\n",
      "    solver = _check_solver(self.solver, self.penalty, self.dual)\n",
      "  File \"/opt/conda/lib/python3.7/site-packages/sklearn/linear_model/_logistic.py\", line 449, in _check_solver\n",
      "    % (solver, penalty)\n",
      "ValueError: Solver sag supports only 'l2' or 'none' penalties, got l1 penalty.\n",
      "\n",
      "--------------------------------------------------------------------------------\n",
      "20 fits failed with the following error:\n",
      "Traceback (most recent call last):\n",
      "  File \"/opt/conda/lib/python3.7/site-packages/sklearn/model_selection/_validation.py\", line 680, in _fit_and_score\n",
      "    estimator.fit(X_train, y_train, **fit_params)\n",
      "  File \"/opt/conda/lib/python3.7/site-packages/sklearn/pipeline.py\", line 394, in fit\n",
      "    self._final_estimator.fit(Xt, y, **fit_params_last_step)\n",
      "  File \"/opt/conda/lib/python3.7/site-packages/sklearn/linear_model/_logistic.py\", line 1461, in fit\n",
      "    solver = _check_solver(self.solver, self.penalty, self.dual)\n",
      "  File \"/opt/conda/lib/python3.7/site-packages/sklearn/linear_model/_logistic.py\", line 449, in _check_solver\n",
      "    % (solver, penalty)\n",
      "ValueError: Solver lbfgs supports only 'l2' or 'none' penalties, got l1 penalty.\n",
      "\n",
      "  warnings.warn(some_fits_failed_message, FitFailedWarning)\n",
      "/opt/conda/lib/python3.7/site-packages/sklearn/model_selection/_search.py:972: UserWarning: One or more of the test scores are non-finite: [0.35684663        nan 0.39414068 0.39419127 0.35674538 0.39419129\n",
      " 0.35694783 0.39424188 0.39414068 0.35704902        nan        nan\n",
      " 0.39414068 0.39414068 0.39429248        nan 0.35679602        nan\n",
      " 0.39424188        nan 0.39414068 0.35689725 0.35689726 0.39414068\n",
      "        nan        nan 0.39414068 0.39398887 0.39409           nan\n",
      " 0.39419127 0.35674538 0.35709964 0.35679602 0.39409009 0.35674538\n",
      " 0.35664419 0.39409007 0.39414068 0.39414068 0.39530435        nan\n",
      " 0.35664419 0.35694783 0.35684663 0.39414068 0.39419127 0.35669478\n",
      " 0.35709963 0.39424188 0.35664419 0.35709963        nan 0.39414068\n",
      " 0.39419127 0.39419129 0.39429241 0.35709963 0.39424187 0.35639123\n",
      " 0.35699844        nan 0.35674538 0.39414068 0.35704902 0.35679605\n",
      " 0.35709963 0.35699844 0.35709963 0.39409009        nan        nan\n",
      "        nan 0.39419127 0.35694783 0.39414068 0.39550674 0.35674538\n",
      " 0.39550676 0.39414068 0.39550674 0.35709963 0.39414068 0.39424188\n",
      " 0.3563911  0.35679602        nan        nan 0.35689724 0.35709963\n",
      " 0.35694783 0.39419127 0.39414068 0.35679602        nan 0.39414069\n",
      " 0.39434303        nan        nan 0.39414068]\n",
      "  category=UserWarning,\n"
     ]
    },
    {
     "name": "stdout",
     "output_type": "stream",
     "text": [
      "Best params: {'model__solver': 'lbfgs', 'model__penalty': 'l2', 'model__max_iter': 400, 'model__class_weight': None, 'model__C': 0.1, 'imputer__n_neighbors': 5}\n",
      "Best score: 0.39550675651455214\n",
      "CPU times: user 16.7 s, sys: 1min 2s, total: 1min 19s\n",
      "Wall time: 1min 28s\n"
     ]
    }
   ],
   "source": [
    "%%time\n",
    "\n",
    "param_grid = {'model__solver': ['newton-cg', 'lbfgs', 'saga', 'sag'],\n",
    "              'model__max_iter': np.linspace(100, 2000, 20).astype('int'),\n",
    "              'model__class_weight': ['balanced', None],\n",
    "              'model__C': [0.1, 1, 10, 100, 1000], #np.logspace(-4, 3, 20),\n",
    "              'model__penalty': ['none', 'l1', 'l2'],\n",
    "              'imputer__n_neighbors': [3,5,7,10]\n",
    "             }\n",
    "\n",
    "loggs = RandomizedSearchCV(pipeline, \n",
    "                  param_distributions=param_grid, \n",
    "                  n_iter = 100,\n",
    "                  cv = 5, \n",
    "                  n_jobs=-1, \n",
    "                  verbose=1,\n",
    "                  scoring='f1_micro',\n",
    "                  random_state=SEED,\n",
    "#                   error_score='raise'\n",
    "                  )\n",
    "\n",
    "loggs.fit(X, Y)\n",
    "print('Best params:', loggs.best_params_)\n",
    "print('Best score:', loggs.best_score_)"
   ]
  },
  {
   "cell_type": "code",
   "execution_count": 91,
   "id": "8f68c1f9",
   "metadata": {
    "ExecuteTime": {
     "end_time": "2023-07-25T20:05:04.738140Z",
     "start_time": "2023-07-25T20:05:04.728136Z"
    }
   },
   "outputs": [
    {
     "data": {
      "text/html": [
       "<div>\n",
       "<style scoped>\n",
       "    .dataframe tbody tr th:only-of-type {\n",
       "        vertical-align: middle;\n",
       "    }\n",
       "\n",
       "    .dataframe tbody tr th {\n",
       "        vertical-align: top;\n",
       "    }\n",
       "\n",
       "    .dataframe thead th {\n",
       "        text-align: right;\n",
       "    }\n",
       "</style>\n",
       "<table border=\"1\" class=\"dataframe\">\n",
       "  <thead>\n",
       "    <tr style=\"text-align: right;\">\n",
       "      <th></th>\n",
       "      <th>param_model__solver</th>\n",
       "      <th>param_model__max_iter</th>\n",
       "      <th>param_model__class_weight</th>\n",
       "      <th>param_model__C</th>\n",
       "      <th>param_model__penalty</th>\n",
       "      <th>param_imputer__n_neighbors</th>\n",
       "      <th>mean_test_score</th>\n",
       "      <th>rank_test_score</th>\n",
       "    </tr>\n",
       "  </thead>\n",
       "  <tbody>\n",
       "    <tr>\n",
       "      <th>0</th>\n",
       "      <td>lbfgs</td>\n",
       "      <td>400</td>\n",
       "      <td>None</td>\n",
       "      <td>0.100</td>\n",
       "      <td>l2</td>\n",
       "      <td>5</td>\n",
       "      <td>0.396</td>\n",
       "      <td>1</td>\n",
       "    </tr>\n",
       "    <tr>\n",
       "      <th>1</th>\n",
       "      <td>saga</td>\n",
       "      <td>800</td>\n",
       "      <td>None</td>\n",
       "      <td>0.100</td>\n",
       "      <td>l2</td>\n",
       "      <td>3</td>\n",
       "      <td>0.396</td>\n",
       "      <td>2</td>\n",
       "    </tr>\n",
       "    <tr>\n",
       "      <th>2</th>\n",
       "      <td>newton-cg</td>\n",
       "      <td>1900</td>\n",
       "      <td>None</td>\n",
       "      <td>0.100</td>\n",
       "      <td>l2</td>\n",
       "      <td>3</td>\n",
       "      <td>0.396</td>\n",
       "      <td>2</td>\n",
       "    </tr>\n",
       "    <tr>\n",
       "      <th>3</th>\n",
       "      <td>sag</td>\n",
       "      <td>1000</td>\n",
       "      <td>None</td>\n",
       "      <td>0.100</td>\n",
       "      <td>l2</td>\n",
       "      <td>7</td>\n",
       "      <td>0.395</td>\n",
       "      <td>4</td>\n",
       "    </tr>\n",
       "    <tr>\n",
       "      <th>4</th>\n",
       "      <td>saga</td>\n",
       "      <td>300</td>\n",
       "      <td>None</td>\n",
       "      <td>1.000</td>\n",
       "      <td>l2</td>\n",
       "      <td>7</td>\n",
       "      <td>0.394</td>\n",
       "      <td>5</td>\n",
       "    </tr>\n",
       "    <tr>\n",
       "      <th>5</th>\n",
       "      <td>saga</td>\n",
       "      <td>700</td>\n",
       "      <td>None</td>\n",
       "      <td>1.000</td>\n",
       "      <td>l1</td>\n",
       "      <td>10</td>\n",
       "      <td>0.394</td>\n",
       "      <td>6</td>\n",
       "    </tr>\n",
       "    <tr>\n",
       "      <th>6</th>\n",
       "      <td>lbfgs</td>\n",
       "      <td>1100</td>\n",
       "      <td>None</td>\n",
       "      <td>1.000</td>\n",
       "      <td>l2</td>\n",
       "      <td>10</td>\n",
       "      <td>0.394</td>\n",
       "      <td>7</td>\n",
       "    </tr>\n",
       "    <tr>\n",
       "      <th>7</th>\n",
       "      <td>lbfgs</td>\n",
       "      <td>800</td>\n",
       "      <td>None</td>\n",
       "      <td>1000.000</td>\n",
       "      <td>l2</td>\n",
       "      <td>3</td>\n",
       "      <td>0.394</td>\n",
       "      <td>8</td>\n",
       "    </tr>\n",
       "    <tr>\n",
       "      <th>8</th>\n",
       "      <td>newton-cg</td>\n",
       "      <td>300</td>\n",
       "      <td>None</td>\n",
       "      <td>100.000</td>\n",
       "      <td>none</td>\n",
       "      <td>3</td>\n",
       "      <td>0.394</td>\n",
       "      <td>8</td>\n",
       "    </tr>\n",
       "    <tr>\n",
       "      <th>9</th>\n",
       "      <td>newton-cg</td>\n",
       "      <td>200</td>\n",
       "      <td>None</td>\n",
       "      <td>10.000</td>\n",
       "      <td>none</td>\n",
       "      <td>3</td>\n",
       "      <td>0.394</td>\n",
       "      <td>8</td>\n",
       "    </tr>\n",
       "  </tbody>\n",
       "</table>\n",
       "</div>"
      ],
      "text/plain": [
       "  param_model__solver  param_model__max_iter param_model__class_weight  \\\n",
       "0               lbfgs                    400                      None   \n",
       "1                saga                    800                      None   \n",
       "2           newton-cg                   1900                      None   \n",
       "3                 sag                   1000                      None   \n",
       "4                saga                    300                      None   \n",
       "5                saga                    700                      None   \n",
       "6               lbfgs                   1100                      None   \n",
       "7               lbfgs                    800                      None   \n",
       "8           newton-cg                    300                      None   \n",
       "9           newton-cg                    200                      None   \n",
       "\n",
       "   param_model__C param_model__penalty  param_imputer__n_neighbors  \\\n",
       "0           0.100                   l2                           5   \n",
       "1           0.100                   l2                           3   \n",
       "2           0.100                   l2                           3   \n",
       "3           0.100                   l2                           7   \n",
       "4           1.000                   l2                           7   \n",
       "5           1.000                   l1                          10   \n",
       "6           1.000                   l2                          10   \n",
       "7        1000.000                   l2                           3   \n",
       "8         100.000                 none                           3   \n",
       "9          10.000                 none                           3   \n",
       "\n",
       "   mean_test_score  rank_test_score  \n",
       "0            0.396                1  \n",
       "1            0.396                2  \n",
       "2            0.396                2  \n",
       "3            0.395                4  \n",
       "4            0.394                5  \n",
       "5            0.394                6  \n",
       "6            0.394                7  \n",
       "7            0.394                8  \n",
       "8            0.394                8  \n",
       "9            0.394                8  "
      ]
     },
     "execution_count": 91,
     "metadata": {},
     "output_type": "execute_result"
    }
   ],
   "source": [
    "# обрабатываем результаты работы\n",
    "rs_df = pd.DataFrame(loggs.cv_results_).sort_values('rank_test_score').reset_index(drop=True)\n",
    "\n",
    "rs_df = rs_df[rs_df.mean_test_score.notna()]\n",
    "\n",
    "columns_to_show = ['param_' + x for x in param_grid.keys()] + ['mean_test_score', 'rank_test_score']\n",
    "rs_df = rs_df[columns_to_show]\n",
    "rs_df = rs_df.fillna('None')\n",
    "\n",
    "# rs_df['param_model__C'] = rs_df['param_model__C'].astype('float64').round(5)\n",
    "params_to_show = list(rs_df.columns[:-2])\n",
    "\n",
    "rs_df.head(10)"
   ]
  },
  {
   "cell_type": "code",
   "execution_count": 92,
   "id": "56081b95",
   "metadata": {
    "ExecuteTime": {
     "end_time": "2023-07-25T20:05:29.698331Z",
     "start_time": "2023-07-25T20:05:28.153492Z"
    },
    "scrolled": false
   },
   "outputs": [
    {
     "data": {
      "image/png": "[encoded data removed]",
      "text/plain": [
       "<Figure size 1500x700 with 6 Axes>"
      ]
     },
     "metadata": {},
     "output_type": "display_data"
    }
   ],
   "source": [
    "# графики, показывающие средний скор в зависимости от значения параметра\n",
    "params_to_show = columns_to_show[:-2]\n",
    "fig, axs = plt.subplots(ncols=len(params_to_show), nrows=1, sharey=True)\n",
    "fig.set_size_inches(15,7)\n",
    "for i in range(len(params_to_show)):\n",
    "    sns.barplot(x=params_to_show[i], y='mean_test_score', data=rs_df, ax=axs[i])\n",
    "    axs[i].set_title(label = params_to_show[i][13:], size=20)\n",
    "    axs[i].tick_params(rotation=90)"
   ]
  },
  {
   "cell_type": "markdown",
   "id": "2148b00f",
   "metadata": {},
   "source": [
    "Логистическая регрессия не показывает впечатляющих результатов. Попробуем другую модель - **SVC** - метод опорных векторов."
   ]
  },
  {
   "cell_type": "markdown",
   "id": "35e53e08",
   "metadata": {},
   "source": [
    "### SVM"
   ]
  },
  {
   "cell_type": "code",
   "execution_count": 174,
   "id": "bb98aead",
   "metadata": {},
   "outputs": [],
   "source": [
    "# создаем пайплайн для svc\n",
    "svc_pipeline = linear_pipeline(SVC(random_state=SEED))"
   ]
  },
  {
   "cell_type": "code",
   "execution_count": 94,
   "id": "0043f04c",
   "metadata": {},
   "outputs": [],
   "source": [
    "import warnings\n",
    "from sklearn.exceptions import ConvergenceWarning\n",
    "warnings.filterwarnings('ignore', category=ConvergenceWarning)"
   ]
  },
  {
   "cell_type": "code",
   "execution_count": 95,
   "id": "95fc6f27",
   "metadata": {
    "ExecuteTime": {
     "end_time": "2023-07-25T20:04:48.615221Z",
     "start_time": "2023-07-25T19:59:51.368680Z"
    },
    "scrolled": true
   },
   "outputs": [
    {
     "name": "stdout",
     "output_type": "stream",
     "text": [
      "Fitting 5 folds for each of 50 candidates, totalling 250 fits\n",
      "Best params: {'preprocessing__standardscaler': StandardScaler(), 'model__max_iter': 5947, 'model__kernel': 'rbf', 'model__gamma': 0.1, 'model__class_weight': None, 'model__C': 1, 'imputer__n_neighbors': 3}\n",
      "Best score: 0.445400536260576\n",
      "CPU times: user 29.2 s, sys: 6.64 s, total: 35.9 s\n",
      "Wall time: 8min 26s\n"
     ]
    },
    {
     "name": "stderr",
     "output_type": "stream",
     "text": [
      "/opt/conda/lib/python3.7/site-packages/sklearn/linear_model/_logistic.py:1484: UserWarning: Setting penalty='none' will ignore the C and l1_ratio parameters\n",
      "  \"Setting penalty='none' will ignore the C and l1_ratio parameters\"\n",
      "/opt/conda/lib/python3.7/site-packages/sklearn/linear_model/_logistic.py:1484: UserWarning: Setting penalty='none' will ignore the C and l1_ratio parameters\n",
      "  \"Setting penalty='none' will ignore the C and l1_ratio parameters\"\n",
      "/opt/conda/lib/python3.7/site-packages/sklearn/linear_model/_logistic.py:1484: UserWarning: Setting penalty='none' will ignore the C and l1_ratio parameters\n",
      "  \"Setting penalty='none' will ignore the C and l1_ratio parameters\"\n",
      "/opt/conda/lib/python3.7/site-packages/sklearn/linear_model/_logistic.py:1484: UserWarning: Setting penalty='none' will ignore the C and l1_ratio parameters\n",
      "  \"Setting penalty='none' will ignore the C and l1_ratio parameters\"\n",
      "/opt/conda/lib/python3.7/site-packages/sklearn/linear_model/_logistic.py:1484: UserWarning: Setting penalty='none' will ignore the C and l1_ratio parameters\n",
      "  \"Setting penalty='none' will ignore the C and l1_ratio parameters\"\n",
      "/opt/conda/lib/python3.7/site-packages/sklearn/linear_model/_sag.py:354: ConvergenceWarning: The max_iter was reached which means the coef_ did not converge\n",
      "  ConvergenceWarning,\n",
      "/opt/conda/lib/python3.7/site-packages/sklearn/linear_model/_logistic.py:1484: UserWarning: Setting penalty='none' will ignore the C and l1_ratio parameters\n",
      "  \"Setting penalty='none' will ignore the C and l1_ratio parameters\"\n",
      "/opt/conda/lib/python3.7/site-packages/sklearn/linear_model/_logistic.py:1484: UserWarning: Setting penalty='none' will ignore the C and l1_ratio parameters\n",
      "  \"Setting penalty='none' will ignore the C and l1_ratio parameters\"\n",
      "/opt/conda/lib/python3.7/site-packages/sklearn/linear_model/_logistic.py:1484: UserWarning: Setting penalty='none' will ignore the C and l1_ratio parameters\n",
      "  \"Setting penalty='none' will ignore the C and l1_ratio parameters\"\n",
      "/opt/conda/lib/python3.7/site-packages/sklearn/linear_model/_logistic.py:1484: UserWarning: Setting penalty='none' will ignore the C and l1_ratio parameters\n",
      "  \"Setting penalty='none' will ignore the C and l1_ratio parameters\"\n",
      "/opt/conda/lib/python3.7/site-packages/sklearn/linear_model/_logistic.py:1484: UserWarning: Setting penalty='none' will ignore the C and l1_ratio parameters\n",
      "  \"Setting penalty='none' will ignore the C and l1_ratio parameters\"\n",
      "/opt/conda/lib/python3.7/site-packages/sklearn/linear_model/_logistic.py:1484: UserWarning: Setting penalty='none' will ignore the C and l1_ratio parameters\n",
      "  \"Setting penalty='none' will ignore the C and l1_ratio parameters\"\n",
      "/opt/conda/lib/python3.7/site-packages/sklearn/linear_model/_logistic.py:1484: UserWarning: Setting penalty='none' will ignore the C and l1_ratio parameters\n",
      "  \"Setting penalty='none' will ignore the C and l1_ratio parameters\"\n",
      "/opt/conda/lib/python3.7/site-packages/sklearn/linear_model/_logistic.py:1484: UserWarning: Setting penalty='none' will ignore the C and l1_ratio parameters\n",
      "  \"Setting penalty='none' will ignore the C and l1_ratio parameters\"\n",
      "/opt/conda/lib/python3.7/site-packages/sklearn/svm/_base.py:289: ConvergenceWarning: Solver terminated early (max_iter=8894).  Consider pre-processing your data with StandardScaler or MinMaxScaler.\n",
      "  ConvergenceWarning,\n",
      "/opt/conda/lib/python3.7/site-packages/sklearn/svm/_base.py:289: ConvergenceWarning: Solver terminated early (max_iter=10000).  Consider pre-processing your data with StandardScaler or MinMaxScaler.\n",
      "  ConvergenceWarning,\n",
      "/opt/conda/lib/python3.7/site-packages/sklearn/svm/_base.py:289: ConvergenceWarning: Solver terminated early (max_iter=5947).  Consider pre-processing your data with StandardScaler or MinMaxScaler.\n",
      "  ConvergenceWarning,\n",
      "/opt/conda/lib/python3.7/site-packages/sklearn/svm/_base.py:289: ConvergenceWarning: Solver terminated early (max_iter=7052).  Consider pre-processing your data with StandardScaler or MinMaxScaler.\n",
      "  ConvergenceWarning,\n",
      "/opt/conda/lib/python3.7/site-packages/sklearn/svm/_base.py:289: ConvergenceWarning: Solver terminated early (max_iter=4842).  Consider pre-processing your data with StandardScaler or MinMaxScaler.\n",
      "  ConvergenceWarning,\n",
      "/opt/conda/lib/python3.7/site-packages/sklearn/svm/_base.py:289: ConvergenceWarning: Solver terminated early (max_iter=7789).  Consider pre-processing your data with StandardScaler or MinMaxScaler.\n",
      "  ConvergenceWarning,\n",
      "/opt/conda/lib/python3.7/site-packages/sklearn/svm/_base.py:289: ConvergenceWarning: Solver terminated early (max_iter=5210).  Consider pre-processing your data with StandardScaler or MinMaxScaler.\n",
      "  ConvergenceWarning,\n",
      "/opt/conda/lib/python3.7/site-packages/sklearn/svm/_base.py:289: ConvergenceWarning: Solver terminated early (max_iter=5210).  Consider pre-processing your data with StandardScaler or MinMaxScaler.\n",
      "  ConvergenceWarning,\n",
      "/opt/conda/lib/python3.7/site-packages/sklearn/svm/_base.py:289: ConvergenceWarning: Solver terminated early (max_iter=3736).  Consider pre-processing your data with StandardScaler or MinMaxScaler.\n",
      "  ConvergenceWarning,\n",
      "/opt/conda/lib/python3.7/site-packages/sklearn/linear_model/_logistic.py:1484: UserWarning: Setting penalty='none' will ignore the C and l1_ratio parameters\n",
      "  \"Setting penalty='none' will ignore the C and l1_ratio parameters\"\n",
      "/opt/conda/lib/python3.7/site-packages/sklearn/linear_model/_logistic.py:1484: UserWarning: Setting penalty='none' will ignore the C and l1_ratio parameters\n",
      "  \"Setting penalty='none' will ignore the C and l1_ratio parameters\"\n",
      "/opt/conda/lib/python3.7/site-packages/sklearn/linear_model/_logistic.py:1484: UserWarning: Setting penalty='none' will ignore the C and l1_ratio parameters\n",
      "  \"Setting penalty='none' will ignore the C and l1_ratio parameters\"\n",
      "/opt/conda/lib/python3.7/site-packages/sklearn/linear_model/_logistic.py:1484: UserWarning: Setting penalty='none' will ignore the C and l1_ratio parameters\n",
      "  \"Setting penalty='none' will ignore the C and l1_ratio parameters\"\n",
      "/opt/conda/lib/python3.7/site-packages/sklearn/linear_model/_logistic.py:1484: UserWarning: Setting penalty='none' will ignore the C and l1_ratio parameters\n",
      "  \"Setting penalty='none' will ignore the C and l1_ratio parameters\"\n",
      "/opt/conda/lib/python3.7/site-packages/sklearn/linear_model/_logistic.py:1484: UserWarning: Setting penalty='none' will ignore the C and l1_ratio parameters\n",
      "  \"Setting penalty='none' will ignore the C and l1_ratio parameters\"\n",
      "/opt/conda/lib/python3.7/site-packages/sklearn/linear_model/_logistic.py:1484: UserWarning: Setting penalty='none' will ignore the C and l1_ratio parameters\n",
      "  \"Setting penalty='none' will ignore the C and l1_ratio parameters\"\n",
      "/opt/conda/lib/python3.7/site-packages/sklearn/linear_model/_sag.py:354: ConvergenceWarning: The max_iter was reached which means the coef_ did not converge\n",
      "  ConvergenceWarning,\n",
      "/opt/conda/lib/python3.7/site-packages/sklearn/linear_model/_logistic.py:1484: UserWarning: Setting penalty='none' will ignore the C and l1_ratio parameters\n",
      "  \"Setting penalty='none' will ignore the C and l1_ratio parameters\"\n",
      "/opt/conda/lib/python3.7/site-packages/sklearn/linear_model/_logistic.py:1484: UserWarning: Setting penalty='none' will ignore the C and l1_ratio parameters\n",
      "  \"Setting penalty='none' will ignore the C and l1_ratio parameters\"\n",
      "/opt/conda/lib/python3.7/site-packages/sklearn/linear_model/_logistic.py:1484: UserWarning: Setting penalty='none' will ignore the C and l1_ratio parameters\n",
      "  \"Setting penalty='none' will ignore the C and l1_ratio parameters\"\n",
      "/opt/conda/lib/python3.7/site-packages/sklearn/linear_model/_logistic.py:1484: UserWarning: Setting penalty='none' will ignore the C and l1_ratio parameters\n",
      "  \"Setting penalty='none' will ignore the C and l1_ratio parameters\"\n",
      "/opt/conda/lib/python3.7/site-packages/sklearn/linear_model/_logistic.py:1484: UserWarning: Setting penalty='none' will ignore the C and l1_ratio parameters\n",
      "  \"Setting penalty='none' will ignore the C and l1_ratio parameters\"\n",
      "/opt/conda/lib/python3.7/site-packages/sklearn/linear_model/_logistic.py:1484: UserWarning: Setting penalty='none' will ignore the C and l1_ratio parameters\n",
      "  \"Setting penalty='none' will ignore the C and l1_ratio parameters\"\n",
      "/opt/conda/lib/python3.7/site-packages/sklearn/linear_model/_logistic.py:1484: UserWarning: Setting penalty='none' will ignore the C and l1_ratio parameters\n",
      "  \"Setting penalty='none' will ignore the C and l1_ratio parameters\"\n",
      "/opt/conda/lib/python3.7/site-packages/sklearn/svm/_base.py:289: ConvergenceWarning: Solver terminated early (max_iter=8894).  Consider pre-processing your data with StandardScaler or MinMaxScaler.\n",
      "  ConvergenceWarning,\n",
      "/opt/conda/lib/python3.7/site-packages/sklearn/svm/_base.py:289: ConvergenceWarning: Solver terminated early (max_iter=10000).  Consider pre-processing your data with StandardScaler or MinMaxScaler.\n",
      "  ConvergenceWarning,\n",
      "/opt/conda/lib/python3.7/site-packages/sklearn/svm/_base.py:289: ConvergenceWarning: Solver terminated early (max_iter=5947).  Consider pre-processing your data with StandardScaler or MinMaxScaler.\n",
      "  ConvergenceWarning,\n",
      "/opt/conda/lib/python3.7/site-packages/sklearn/svm/_base.py:289: ConvergenceWarning: Solver terminated early (max_iter=9631).  Consider pre-processing your data with StandardScaler or MinMaxScaler.\n",
      "  ConvergenceWarning,\n",
      "/opt/conda/lib/python3.7/site-packages/sklearn/svm/_base.py:289: ConvergenceWarning: Solver terminated early (max_iter=3736).  Consider pre-processing your data with StandardScaler or MinMaxScaler.\n",
      "  ConvergenceWarning,\n",
      "/opt/conda/lib/python3.7/site-packages/sklearn/svm/_base.py:289: ConvergenceWarning: Solver terminated early (max_iter=7789).  Consider pre-processing your data with StandardScaler or MinMaxScaler.\n",
      "  ConvergenceWarning,\n",
      "/opt/conda/lib/python3.7/site-packages/sklearn/svm/_base.py:289: ConvergenceWarning: Solver terminated early (max_iter=3736).  Consider pre-processing your data with StandardScaler or MinMaxScaler.\n",
      "  ConvergenceWarning,\n"
     ]
    },
    {
     "name": "stderr",
     "output_type": "stream",
     "text": [
      "/opt/conda/lib/python3.7/site-packages/sklearn/linear_model/_logistic.py:1484: UserWarning: Setting penalty='none' will ignore the C and l1_ratio parameters\n",
      "  \"Setting penalty='none' will ignore the C and l1_ratio parameters\"\n",
      "/opt/conda/lib/python3.7/site-packages/sklearn/linear_model/_logistic.py:1484: UserWarning: Setting penalty='none' will ignore the C and l1_ratio parameters\n",
      "  \"Setting penalty='none' will ignore the C and l1_ratio parameters\"\n",
      "/opt/conda/lib/python3.7/site-packages/sklearn/linear_model/_logistic.py:1484: UserWarning: Setting penalty='none' will ignore the C and l1_ratio parameters\n",
      "  \"Setting penalty='none' will ignore the C and l1_ratio parameters\"\n",
      "/opt/conda/lib/python3.7/site-packages/sklearn/linear_model/_logistic.py:1484: UserWarning: Setting penalty='none' will ignore the C and l1_ratio parameters\n",
      "  \"Setting penalty='none' will ignore the C and l1_ratio parameters\"\n",
      "/opt/conda/lib/python3.7/site-packages/sklearn/linear_model/_logistic.py:1484: UserWarning: Setting penalty='none' will ignore the C and l1_ratio parameters\n",
      "  \"Setting penalty='none' will ignore the C and l1_ratio parameters\"\n",
      "/opt/conda/lib/python3.7/site-packages/sklearn/linear_model/_logistic.py:1484: UserWarning: Setting penalty='none' will ignore the C and l1_ratio parameters\n",
      "  \"Setting penalty='none' will ignore the C and l1_ratio parameters\"\n",
      "/opt/conda/lib/python3.7/site-packages/sklearn/linear_model/_logistic.py:1484: UserWarning: Setting penalty='none' will ignore the C and l1_ratio parameters\n",
      "  \"Setting penalty='none' will ignore the C and l1_ratio parameters\"\n",
      "/opt/conda/lib/python3.7/site-packages/sklearn/linear_model/_sag.py:354: ConvergenceWarning: The max_iter was reached which means the coef_ did not converge\n",
      "  ConvergenceWarning,\n",
      "/opt/conda/lib/python3.7/site-packages/sklearn/linear_model/_logistic.py:1484: UserWarning: Setting penalty='none' will ignore the C and l1_ratio parameters\n",
      "  \"Setting penalty='none' will ignore the C and l1_ratio parameters\"\n",
      "/opt/conda/lib/python3.7/site-packages/sklearn/linear_model/_logistic.py:1484: UserWarning: Setting penalty='none' will ignore the C and l1_ratio parameters\n",
      "  \"Setting penalty='none' will ignore the C and l1_ratio parameters\"\n",
      "/opt/conda/lib/python3.7/site-packages/sklearn/linear_model/_logistic.py:1484: UserWarning: Setting penalty='none' will ignore the C and l1_ratio parameters\n",
      "  \"Setting penalty='none' will ignore the C and l1_ratio parameters\"\n",
      "/opt/conda/lib/python3.7/site-packages/sklearn/linear_model/_logistic.py:1484: UserWarning: Setting penalty='none' will ignore the C and l1_ratio parameters\n",
      "  \"Setting penalty='none' will ignore the C and l1_ratio parameters\"\n",
      "/opt/conda/lib/python3.7/site-packages/sklearn/linear_model/_logistic.py:1484: UserWarning: Setting penalty='none' will ignore the C and l1_ratio parameters\n",
      "  \"Setting penalty='none' will ignore the C and l1_ratio parameters\"\n",
      "/opt/conda/lib/python3.7/site-packages/sklearn/svm/_base.py:289: ConvergenceWarning: Solver terminated early (max_iter=5947).  Consider pre-processing your data with StandardScaler or MinMaxScaler.\n",
      "  ConvergenceWarning,\n",
      "/opt/conda/lib/python3.7/site-packages/sklearn/svm/_base.py:289: ConvergenceWarning: Solver terminated early (max_iter=3736).  Consider pre-processing your data with StandardScaler or MinMaxScaler.\n",
      "  ConvergenceWarning,\n",
      "/opt/conda/lib/python3.7/site-packages/sklearn/svm/_base.py:289: ConvergenceWarning: Solver terminated early (max_iter=7052).  Consider pre-processing your data with StandardScaler or MinMaxScaler.\n",
      "  ConvergenceWarning,\n",
      "/opt/conda/lib/python3.7/site-packages/sklearn/svm/_base.py:289: ConvergenceWarning: Solver terminated early (max_iter=7052).  Consider pre-processing your data with StandardScaler or MinMaxScaler.\n",
      "  ConvergenceWarning,\n",
      "/opt/conda/lib/python3.7/site-packages/sklearn/svm/_base.py:289: ConvergenceWarning: Solver terminated early (max_iter=5947).  Consider pre-processing your data with StandardScaler or MinMaxScaler.\n",
      "  ConvergenceWarning,\n",
      "/opt/conda/lib/python3.7/site-packages/sklearn/svm/_base.py:289: ConvergenceWarning: Solver terminated early (max_iter=5947).  Consider pre-processing your data with StandardScaler or MinMaxScaler.\n",
      "  ConvergenceWarning,\n",
      "/opt/conda/lib/python3.7/site-packages/sklearn/svm/_base.py:289: ConvergenceWarning: Solver terminated early (max_iter=5210).  Consider pre-processing your data with StandardScaler or MinMaxScaler.\n",
      "  ConvergenceWarning,\n",
      "/opt/conda/lib/python3.7/site-packages/sklearn/svm/_base.py:289: ConvergenceWarning: Solver terminated early (max_iter=7052).  Consider pre-processing your data with StandardScaler or MinMaxScaler.\n",
      "  ConvergenceWarning,\n",
      "/opt/conda/lib/python3.7/site-packages/sklearn/svm/_base.py:289: ConvergenceWarning: Solver terminated early (max_iter=8894).  Consider pre-processing your data with StandardScaler or MinMaxScaler.\n",
      "  ConvergenceWarning,\n",
      "/opt/conda/lib/python3.7/site-packages/sklearn/linear_model/_logistic.py:1484: UserWarning: Setting penalty='none' will ignore the C and l1_ratio parameters\n",
      "  \"Setting penalty='none' will ignore the C and l1_ratio parameters\"\n",
      "/opt/conda/lib/python3.7/site-packages/sklearn/linear_model/_logistic.py:1484: UserWarning: Setting penalty='none' will ignore the C and l1_ratio parameters\n",
      "  \"Setting penalty='none' will ignore the C and l1_ratio parameters\"\n",
      "/opt/conda/lib/python3.7/site-packages/sklearn/linear_model/_logistic.py:1484: UserWarning: Setting penalty='none' will ignore the C and l1_ratio parameters\n",
      "  \"Setting penalty='none' will ignore the C and l1_ratio parameters\"\n",
      "/opt/conda/lib/python3.7/site-packages/sklearn/linear_model/_logistic.py:1484: UserWarning: Setting penalty='none' will ignore the C and l1_ratio parameters\n",
      "  \"Setting penalty='none' will ignore the C and l1_ratio parameters\"\n",
      "/opt/conda/lib/python3.7/site-packages/sklearn/linear_model/_logistic.py:1484: UserWarning: Setting penalty='none' will ignore the C and l1_ratio parameters\n",
      "  \"Setting penalty='none' will ignore the C and l1_ratio parameters\"\n",
      "/opt/conda/lib/python3.7/site-packages/sklearn/linear_model/_logistic.py:1484: UserWarning: Setting penalty='none' will ignore the C and l1_ratio parameters\n",
      "  \"Setting penalty='none' will ignore the C and l1_ratio parameters\"\n",
      "/opt/conda/lib/python3.7/site-packages/sklearn/linear_model/_logistic.py:1484: UserWarning: Setting penalty='none' will ignore the C and l1_ratio parameters\n",
      "  \"Setting penalty='none' will ignore the C and l1_ratio parameters\"\n",
      "/opt/conda/lib/python3.7/site-packages/sklearn/linear_model/_logistic.py:1484: UserWarning: Setting penalty='none' will ignore the C and l1_ratio parameters\n",
      "  \"Setting penalty='none' will ignore the C and l1_ratio parameters\"\n",
      "/opt/conda/lib/python3.7/site-packages/sklearn/linear_model/_sag.py:354: ConvergenceWarning: The max_iter was reached which means the coef_ did not converge\n",
      "  ConvergenceWarning,\n",
      "/opt/conda/lib/python3.7/site-packages/sklearn/linear_model/_logistic.py:1484: UserWarning: Setting penalty='none' will ignore the C and l1_ratio parameters\n",
      "  \"Setting penalty='none' will ignore the C and l1_ratio parameters\"\n",
      "/opt/conda/lib/python3.7/site-packages/sklearn/linear_model/_logistic.py:1484: UserWarning: Setting penalty='none' will ignore the C and l1_ratio parameters\n",
      "  \"Setting penalty='none' will ignore the C and l1_ratio parameters\"\n",
      "/opt/conda/lib/python3.7/site-packages/sklearn/linear_model/_logistic.py:1484: UserWarning: Setting penalty='none' will ignore the C and l1_ratio parameters\n",
      "  \"Setting penalty='none' will ignore the C and l1_ratio parameters\"\n",
      "/opt/conda/lib/python3.7/site-packages/sklearn/linear_model/_logistic.py:1484: UserWarning: Setting penalty='none' will ignore the C and l1_ratio parameters\n",
      "  \"Setting penalty='none' will ignore the C and l1_ratio parameters\"\n",
      "/opt/conda/lib/python3.7/site-packages/sklearn/linear_model/_logistic.py:1484: UserWarning: Setting penalty='none' will ignore the C and l1_ratio parameters\n",
      "  \"Setting penalty='none' will ignore the C and l1_ratio parameters\"\n",
      "/opt/conda/lib/python3.7/site-packages/sklearn/linear_model/_logistic.py:1484: UserWarning: Setting penalty='none' will ignore the C and l1_ratio parameters\n",
      "  \"Setting penalty='none' will ignore the C and l1_ratio parameters\"\n",
      "/opt/conda/lib/python3.7/site-packages/sklearn/linear_model/_logistic.py:818: ConvergenceWarning: lbfgs failed to converge (status=1):\n",
      "STOP: TOTAL NO. of ITERATIONS REACHED LIMIT.\n",
      "\n",
      "Increase the number of iterations (max_iter) or scale the data as shown in:\n",
      "    https://scikit-learn.org/stable/modules/preprocessing.html\n",
      "Please also refer to the documentation for alternative solver options:\n",
      "    https://scikit-learn.org/stable/modules/linear_model.html#logistic-regression\n",
      "  extra_warning_msg=_LOGISTIC_SOLVER_CONVERGENCE_MSG,\n",
      "/opt/conda/lib/python3.7/site-packages/sklearn/linear_model/_logistic.py:1484: UserWarning: Setting penalty='none' will ignore the C and l1_ratio parameters\n",
      "  \"Setting penalty='none' will ignore the C and l1_ratio parameters\"\n",
      "/opt/conda/lib/python3.7/site-packages/sklearn/svm/_base.py:289: ConvergenceWarning: Solver terminated early (max_iter=8894).  Consider pre-processing your data with StandardScaler or MinMaxScaler.\n",
      "  ConvergenceWarning,\n",
      "/opt/conda/lib/python3.7/site-packages/sklearn/svm/_base.py:289: ConvergenceWarning: Solver terminated early (max_iter=10000).  Consider pre-processing your data with StandardScaler or MinMaxScaler.\n",
      "  ConvergenceWarning,\n",
      "/opt/conda/lib/python3.7/site-packages/sklearn/svm/_base.py:289: ConvergenceWarning: Solver terminated early (max_iter=5947).  Consider pre-processing your data with StandardScaler or MinMaxScaler.\n",
      "  ConvergenceWarning,\n",
      "/opt/conda/lib/python3.7/site-packages/sklearn/svm/_base.py:289: ConvergenceWarning: Solver terminated early (max_iter=5210).  Consider pre-processing your data with StandardScaler or MinMaxScaler.\n",
      "  ConvergenceWarning,\n",
      "/opt/conda/lib/python3.7/site-packages/sklearn/svm/_base.py:289: ConvergenceWarning: Solver terminated early (max_iter=7052).  Consider pre-processing your data with StandardScaler or MinMaxScaler.\n",
      "  ConvergenceWarning,\n",
      "/opt/conda/lib/python3.7/site-packages/sklearn/svm/_base.py:289: ConvergenceWarning: Solver terminated early (max_iter=7789).  Consider pre-processing your data with StandardScaler or MinMaxScaler.\n",
      "  ConvergenceWarning,\n",
      "/opt/conda/lib/python3.7/site-packages/sklearn/svm/_base.py:289: ConvergenceWarning: Solver terminated early (max_iter=5210).  Consider pre-processing your data with StandardScaler or MinMaxScaler.\n",
      "  ConvergenceWarning,\n",
      "/opt/conda/lib/python3.7/site-packages/sklearn/svm/_base.py:289: ConvergenceWarning: Solver terminated early (max_iter=4842).  Consider pre-processing your data with StandardScaler or MinMaxScaler.\n",
      "  ConvergenceWarning,\n",
      "/opt/conda/lib/python3.7/site-packages/sklearn/svm/_base.py:289: ConvergenceWarning: Solver terminated early (max_iter=5947).  Consider pre-processing your data with StandardScaler or MinMaxScaler.\n",
      "  ConvergenceWarning,\n",
      "/opt/conda/lib/python3.7/site-packages/sklearn/svm/_base.py:289: ConvergenceWarning: Solver terminated early (max_iter=5210).  Consider pre-processing your data with StandardScaler or MinMaxScaler.\n",
      "  ConvergenceWarning,\n",
      "/opt/conda/lib/python3.7/site-packages/sklearn/svm/_base.py:289: ConvergenceWarning: Solver terminated early (max_iter=5210).  Consider pre-processing your data with StandardScaler or MinMaxScaler.\n",
      "  ConvergenceWarning,\n",
      "/opt/conda/lib/python3.7/site-packages/sklearn/svm/_base.py:289: ConvergenceWarning: Solver terminated early (max_iter=3736).  Consider pre-processing your data with StandardScaler or MinMaxScaler.\n",
      "  ConvergenceWarning,\n",
      "/opt/conda/lib/python3.7/site-packages/sklearn/svm/_base.py:289: ConvergenceWarning: Solver terminated early (max_iter=8894).  Consider pre-processing your data with StandardScaler or MinMaxScaler.\n",
      "  ConvergenceWarning,\n"
     ]
    },
    {
     "name": "stderr",
     "output_type": "stream",
     "text": [
      "/opt/conda/lib/python3.7/site-packages/sklearn/linear_model/_logistic.py:1484: UserWarning: Setting penalty='none' will ignore the C and l1_ratio parameters\n",
      "  \"Setting penalty='none' will ignore the C and l1_ratio parameters\"\n",
      "/opt/conda/lib/python3.7/site-packages/sklearn/linear_model/_logistic.py:1484: UserWarning: Setting penalty='none' will ignore the C and l1_ratio parameters\n",
      "  \"Setting penalty='none' will ignore the C and l1_ratio parameters\"\n",
      "/opt/conda/lib/python3.7/site-packages/sklearn/linear_model/_logistic.py:1484: UserWarning: Setting penalty='none' will ignore the C and l1_ratio parameters\n",
      "  \"Setting penalty='none' will ignore the C and l1_ratio parameters\"\n",
      "/opt/conda/lib/python3.7/site-packages/sklearn/linear_model/_logistic.py:1484: UserWarning: Setting penalty='none' will ignore the C and l1_ratio parameters\n",
      "  \"Setting penalty='none' will ignore the C and l1_ratio parameters\"\n",
      "/opt/conda/lib/python3.7/site-packages/sklearn/linear_model/_logistic.py:1484: UserWarning: Setting penalty='none' will ignore the C and l1_ratio parameters\n",
      "  \"Setting penalty='none' will ignore the C and l1_ratio parameters\"\n",
      "/opt/conda/lib/python3.7/site-packages/sklearn/linear_model/_logistic.py:1484: UserWarning: Setting penalty='none' will ignore the C and l1_ratio parameters\n",
      "  \"Setting penalty='none' will ignore the C and l1_ratio parameters\"\n",
      "/opt/conda/lib/python3.7/site-packages/sklearn/linear_model/_logistic.py:1484: UserWarning: Setting penalty='none' will ignore the C and l1_ratio parameters\n",
      "  \"Setting penalty='none' will ignore the C and l1_ratio parameters\"\n",
      "/opt/conda/lib/python3.7/site-packages/sklearn/linear_model/_logistic.py:1484: UserWarning: Setting penalty='none' will ignore the C and l1_ratio parameters\n",
      "  \"Setting penalty='none' will ignore the C and l1_ratio parameters\"\n",
      "/opt/conda/lib/python3.7/site-packages/sklearn/linear_model/_logistic.py:1484: UserWarning: Setting penalty='none' will ignore the C and l1_ratio parameters\n",
      "  \"Setting penalty='none' will ignore the C and l1_ratio parameters\"\n",
      "/opt/conda/lib/python3.7/site-packages/sklearn/linear_model/_sag.py:354: ConvergenceWarning: The max_iter was reached which means the coef_ did not converge\n",
      "  ConvergenceWarning,\n",
      "/opt/conda/lib/python3.7/site-packages/sklearn/linear_model/_logistic.py:1484: UserWarning: Setting penalty='none' will ignore the C and l1_ratio parameters\n",
      "  \"Setting penalty='none' will ignore the C and l1_ratio parameters\"\n",
      "/opt/conda/lib/python3.7/site-packages/sklearn/linear_model/_logistic.py:1484: UserWarning: Setting penalty='none' will ignore the C and l1_ratio parameters\n",
      "  \"Setting penalty='none' will ignore the C and l1_ratio parameters\"\n",
      "/opt/conda/lib/python3.7/site-packages/sklearn/linear_model/_logistic.py:1484: UserWarning: Setting penalty='none' will ignore the C and l1_ratio parameters\n",
      "  \"Setting penalty='none' will ignore the C and l1_ratio parameters\"\n",
      "/opt/conda/lib/python3.7/site-packages/sklearn/linear_model/_logistic.py:1484: UserWarning: Setting penalty='none' will ignore the C and l1_ratio parameters\n",
      "  \"Setting penalty='none' will ignore the C and l1_ratio parameters\"\n",
      "/opt/conda/lib/python3.7/site-packages/sklearn/linear_model/_logistic.py:1484: UserWarning: Setting penalty='none' will ignore the C and l1_ratio parameters\n",
      "  \"Setting penalty='none' will ignore the C and l1_ratio parameters\"\n",
      "/opt/conda/lib/python3.7/site-packages/sklearn/linear_model/_logistic.py:1484: UserWarning: Setting penalty='none' will ignore the C and l1_ratio parameters\n",
      "  \"Setting penalty='none' will ignore the C and l1_ratio parameters\"\n",
      "/opt/conda/lib/python3.7/site-packages/sklearn/linear_model/_logistic.py:818: ConvergenceWarning: lbfgs failed to converge (status=1):\n",
      "STOP: TOTAL NO. of ITERATIONS REACHED LIMIT.\n",
      "\n",
      "Increase the number of iterations (max_iter) or scale the data as shown in:\n",
      "    https://scikit-learn.org/stable/modules/preprocessing.html\n",
      "Please also refer to the documentation for alternative solver options:\n",
      "    https://scikit-learn.org/stable/modules/linear_model.html#logistic-regression\n",
      "  extra_warning_msg=_LOGISTIC_SOLVER_CONVERGENCE_MSG,\n",
      "/opt/conda/lib/python3.7/site-packages/sklearn/linear_model/_logistic.py:1484: UserWarning: Setting penalty='none' will ignore the C and l1_ratio parameters\n",
      "  \"Setting penalty='none' will ignore the C and l1_ratio parameters\"\n",
      "/opt/conda/lib/python3.7/site-packages/sklearn/svm/_base.py:289: ConvergenceWarning: Solver terminated early (max_iter=9631).  Consider pre-processing your data with StandardScaler or MinMaxScaler.\n",
      "  ConvergenceWarning,\n",
      "/opt/conda/lib/python3.7/site-packages/sklearn/svm/_base.py:289: ConvergenceWarning: Solver terminated early (max_iter=5947).  Consider pre-processing your data with StandardScaler or MinMaxScaler.\n",
      "  ConvergenceWarning,\n",
      "/opt/conda/lib/python3.7/site-packages/sklearn/svm/_base.py:289: ConvergenceWarning: Solver terminated early (max_iter=8157).  Consider pre-processing your data with StandardScaler or MinMaxScaler.\n",
      "  ConvergenceWarning,\n",
      "/opt/conda/lib/python3.7/site-packages/sklearn/svm/_base.py:289: ConvergenceWarning: Solver terminated early (max_iter=5210).  Consider pre-processing your data with StandardScaler or MinMaxScaler.\n",
      "  ConvergenceWarning,\n",
      "/opt/conda/lib/python3.7/site-packages/sklearn/svm/_base.py:289: ConvergenceWarning: Solver terminated early (max_iter=3736).  Consider pre-processing your data with StandardScaler or MinMaxScaler.\n",
      "  ConvergenceWarning,\n",
      "/opt/conda/lib/python3.7/site-packages/sklearn/svm/_base.py:289: ConvergenceWarning: Solver terminated early (max_iter=7052).  Consider pre-processing your data with StandardScaler or MinMaxScaler.\n",
      "  ConvergenceWarning,\n",
      "/opt/conda/lib/python3.7/site-packages/sklearn/svm/_base.py:289: ConvergenceWarning: Solver terminated early (max_iter=7052).  Consider pre-processing your data with StandardScaler or MinMaxScaler.\n",
      "  ConvergenceWarning,\n",
      "/opt/conda/lib/python3.7/site-packages/sklearn/svm/_base.py:289: ConvergenceWarning: Solver terminated early (max_iter=5947).  Consider pre-processing your data with StandardScaler or MinMaxScaler.\n",
      "  ConvergenceWarning,\n",
      "/opt/conda/lib/python3.7/site-packages/sklearn/svm/_base.py:289: ConvergenceWarning: Solver terminated early (max_iter=5947).  Consider pre-processing your data with StandardScaler or MinMaxScaler.\n",
      "  ConvergenceWarning,\n",
      "/opt/conda/lib/python3.7/site-packages/sklearn/svm/_base.py:289: ConvergenceWarning: Solver terminated early (max_iter=3736).  Consider pre-processing your data with StandardScaler or MinMaxScaler.\n",
      "  ConvergenceWarning,\n",
      "/opt/conda/lib/python3.7/site-packages/sklearn/svm/_base.py:289: ConvergenceWarning: Solver terminated early (max_iter=8894).  Consider pre-processing your data with StandardScaler or MinMaxScaler.\n",
      "  ConvergenceWarning,\n",
      "/opt/conda/lib/python3.7/site-packages/sklearn/linear_model/_logistic.py:1484: UserWarning: Setting penalty='none' will ignore the C and l1_ratio parameters\n",
      "  \"Setting penalty='none' will ignore the C and l1_ratio parameters\"\n",
      "/opt/conda/lib/python3.7/site-packages/sklearn/linear_model/_logistic.py:1484: UserWarning: Setting penalty='none' will ignore the C and l1_ratio parameters\n",
      "  \"Setting penalty='none' will ignore the C and l1_ratio parameters\"\n",
      "/opt/conda/lib/python3.7/site-packages/sklearn/linear_model/_logistic.py:1484: UserWarning: Setting penalty='none' will ignore the C and l1_ratio parameters\n",
      "  \"Setting penalty='none' will ignore the C and l1_ratio parameters\"\n",
      "/opt/conda/lib/python3.7/site-packages/sklearn/linear_model/_logistic.py:1484: UserWarning: Setting penalty='none' will ignore the C and l1_ratio parameters\n",
      "  \"Setting penalty='none' will ignore the C and l1_ratio parameters\"\n",
      "/opt/conda/lib/python3.7/site-packages/sklearn/linear_model/_logistic.py:1484: UserWarning: Setting penalty='none' will ignore the C and l1_ratio parameters\n",
      "  \"Setting penalty='none' will ignore the C and l1_ratio parameters\"\n",
      "/opt/conda/lib/python3.7/site-packages/sklearn/linear_model/_logistic.py:1484: UserWarning: Setting penalty='none' will ignore the C and l1_ratio parameters\n",
      "  \"Setting penalty='none' will ignore the C and l1_ratio parameters\"\n",
      "/opt/conda/lib/python3.7/site-packages/sklearn/linear_model/_logistic.py:1484: UserWarning: Setting penalty='none' will ignore the C and l1_ratio parameters\n",
      "  \"Setting penalty='none' will ignore the C and l1_ratio parameters\"\n",
      "/opt/conda/lib/python3.7/site-packages/sklearn/linear_model/_logistic.py:1484: UserWarning: Setting penalty='none' will ignore the C and l1_ratio parameters\n",
      "  \"Setting penalty='none' will ignore the C and l1_ratio parameters\"\n",
      "/opt/conda/lib/python3.7/site-packages/sklearn/linear_model/_logistic.py:1484: UserWarning: Setting penalty='none' will ignore the C and l1_ratio parameters\n",
      "  \"Setting penalty='none' will ignore the C and l1_ratio parameters\"\n",
      "/opt/conda/lib/python3.7/site-packages/sklearn/linear_model/_sag.py:354: ConvergenceWarning: The max_iter was reached which means the coef_ did not converge\n",
      "  ConvergenceWarning,\n",
      "/opt/conda/lib/python3.7/site-packages/sklearn/linear_model/_logistic.py:1484: UserWarning: Setting penalty='none' will ignore the C and l1_ratio parameters\n",
      "  \"Setting penalty='none' will ignore the C and l1_ratio parameters\"\n",
      "/opt/conda/lib/python3.7/site-packages/sklearn/linear_model/_logistic.py:1484: UserWarning: Setting penalty='none' will ignore the C and l1_ratio parameters\n",
      "  \"Setting penalty='none' will ignore the C and l1_ratio parameters\"\n",
      "/opt/conda/lib/python3.7/site-packages/sklearn/linear_model/_logistic.py:1484: UserWarning: Setting penalty='none' will ignore the C and l1_ratio parameters\n",
      "  \"Setting penalty='none' will ignore the C and l1_ratio parameters\"\n",
      "/opt/conda/lib/python3.7/site-packages/sklearn/linear_model/_logistic.py:1484: UserWarning: Setting penalty='none' will ignore the C and l1_ratio parameters\n",
      "  \"Setting penalty='none' will ignore the C and l1_ratio parameters\"\n",
      "/opt/conda/lib/python3.7/site-packages/sklearn/linear_model/_logistic.py:1484: UserWarning: Setting penalty='none' will ignore the C and l1_ratio parameters\n",
      "  \"Setting penalty='none' will ignore the C and l1_ratio parameters\"\n",
      "/opt/conda/lib/python3.7/site-packages/sklearn/svm/_base.py:289: ConvergenceWarning: Solver terminated early (max_iter=9631).  Consider pre-processing your data with StandardScaler or MinMaxScaler.\n",
      "  ConvergenceWarning,\n",
      "/opt/conda/lib/python3.7/site-packages/sklearn/svm/_base.py:289: ConvergenceWarning: Solver terminated early (max_iter=4473).  Consider pre-processing your data with StandardScaler or MinMaxScaler.\n",
      "  ConvergenceWarning,\n",
      "/opt/conda/lib/python3.7/site-packages/sklearn/svm/_base.py:289: ConvergenceWarning: Solver terminated early (max_iter=5947).  Consider pre-processing your data with StandardScaler or MinMaxScaler.\n",
      "  ConvergenceWarning,\n",
      "/opt/conda/lib/python3.7/site-packages/sklearn/svm/_base.py:289: ConvergenceWarning: Solver terminated early (max_iter=3736).  Consider pre-processing your data with StandardScaler or MinMaxScaler.\n",
      "  ConvergenceWarning,\n",
      "/opt/conda/lib/python3.7/site-packages/sklearn/svm/_base.py:289: ConvergenceWarning: Solver terminated early (max_iter=9631).  Consider pre-processing your data with StandardScaler or MinMaxScaler.\n",
      "  ConvergenceWarning,\n",
      "/opt/conda/lib/python3.7/site-packages/sklearn/svm/_base.py:289: ConvergenceWarning: Solver terminated early (max_iter=7052).  Consider pre-processing your data with StandardScaler or MinMaxScaler.\n",
      "  ConvergenceWarning,\n",
      "/opt/conda/lib/python3.7/site-packages/sklearn/svm/_base.py:289: ConvergenceWarning: Solver terminated early (max_iter=5210).  Consider pre-processing your data with StandardScaler or MinMaxScaler.\n",
      "  ConvergenceWarning,\n",
      "/opt/conda/lib/python3.7/site-packages/sklearn/svm/_base.py:289: ConvergenceWarning: Solver terminated early (max_iter=5210).  Consider pre-processing your data with StandardScaler or MinMaxScaler.\n",
      "  ConvergenceWarning,\n",
      "/opt/conda/lib/python3.7/site-packages/sklearn/svm/_base.py:289: ConvergenceWarning: Solver terminated early (max_iter=4842).  Consider pre-processing your data with StandardScaler or MinMaxScaler.\n",
      "  ConvergenceWarning,\n",
      "/opt/conda/lib/python3.7/site-packages/sklearn/svm/_base.py:289: ConvergenceWarning: Solver terminated early (max_iter=7789).  Consider pre-processing your data with StandardScaler or MinMaxScaler.\n",
      "  ConvergenceWarning,\n",
      "/opt/conda/lib/python3.7/site-packages/sklearn/svm/_base.py:289: ConvergenceWarning: Solver terminated early (max_iter=3736).  Consider pre-processing your data with StandardScaler or MinMaxScaler.\n",
      "  ConvergenceWarning,\n",
      "/opt/conda/lib/python3.7/site-packages/sklearn/svm/_base.py:289: ConvergenceWarning: Solver terminated early (max_iter=8894).  Consider pre-processing your data with StandardScaler or MinMaxScaler.\n",
      "  ConvergenceWarning,\n",
      "/opt/conda/lib/python3.7/site-packages/sklearn/linear_model/_logistic.py:1484: UserWarning: Setting penalty='none' will ignore the C and l1_ratio parameters\n",
      "  \"Setting penalty='none' will ignore the C and l1_ratio parameters\"\n",
      "/opt/conda/lib/python3.7/site-packages/sklearn/linear_model/_logistic.py:1484: UserWarning: Setting penalty='none' will ignore the C and l1_ratio parameters\n",
      "  \"Setting penalty='none' will ignore the C and l1_ratio parameters\"\n",
      "/opt/conda/lib/python3.7/site-packages/sklearn/linear_model/_logistic.py:1484: UserWarning: Setting penalty='none' will ignore the C and l1_ratio parameters\n",
      "  \"Setting penalty='none' will ignore the C and l1_ratio parameters\"\n",
      "/opt/conda/lib/python3.7/site-packages/sklearn/linear_model/_logistic.py:1484: UserWarning: Setting penalty='none' will ignore the C and l1_ratio parameters\n",
      "  \"Setting penalty='none' will ignore the C and l1_ratio parameters\"\n",
      "/opt/conda/lib/python3.7/site-packages/sklearn/linear_model/_logistic.py:1484: UserWarning: Setting penalty='none' will ignore the C and l1_ratio parameters\n",
      "  \"Setting penalty='none' will ignore the C and l1_ratio parameters\"\n",
      "/opt/conda/lib/python3.7/site-packages/sklearn/linear_model/_logistic.py:1484: UserWarning: Setting penalty='none' will ignore the C and l1_ratio parameters\n",
      "  \"Setting penalty='none' will ignore the C and l1_ratio parameters\"\n",
      "/opt/conda/lib/python3.7/site-packages/sklearn/linear_model/_logistic.py:1484: UserWarning: Setting penalty='none' will ignore the C and l1_ratio parameters\n",
      "  \"Setting penalty='none' will ignore the C and l1_ratio parameters\"\n",
      "/opt/conda/lib/python3.7/site-packages/sklearn/linear_model/_logistic.py:1484: UserWarning: Setting penalty='none' will ignore the C and l1_ratio parameters\n",
      "  \"Setting penalty='none' will ignore the C and l1_ratio parameters\"\n",
      "/opt/conda/lib/python3.7/site-packages/sklearn/linear_model/_sag.py:354: ConvergenceWarning: The max_iter was reached which means the coef_ did not converge\n",
      "  ConvergenceWarning,\n",
      "/opt/conda/lib/python3.7/site-packages/sklearn/linear_model/_logistic.py:1484: UserWarning: Setting penalty='none' will ignore the C and l1_ratio parameters\n",
      "  \"Setting penalty='none' will ignore the C and l1_ratio parameters\"\n",
      "/opt/conda/lib/python3.7/site-packages/sklearn/linear_model/_logistic.py:1484: UserWarning: Setting penalty='none' will ignore the C and l1_ratio parameters\n",
      "  \"Setting penalty='none' will ignore the C and l1_ratio parameters\"\n",
      "/opt/conda/lib/python3.7/site-packages/sklearn/linear_model/_logistic.py:1484: UserWarning: Setting penalty='none' will ignore the C and l1_ratio parameters\n",
      "  \"Setting penalty='none' will ignore the C and l1_ratio parameters\"\n",
      "/opt/conda/lib/python3.7/site-packages/sklearn/linear_model/_logistic.py:1484: UserWarning: Setting penalty='none' will ignore the C and l1_ratio parameters\n",
      "  \"Setting penalty='none' will ignore the C and l1_ratio parameters\"\n",
      "/opt/conda/lib/python3.7/site-packages/sklearn/linear_model/_logistic.py:1484: UserWarning: Setting penalty='none' will ignore the C and l1_ratio parameters\n",
      "  \"Setting penalty='none' will ignore the C and l1_ratio parameters\"\n",
      "/opt/conda/lib/python3.7/site-packages/sklearn/linear_model/_logistic.py:1484: UserWarning: Setting penalty='none' will ignore the C and l1_ratio parameters\n",
      "  \"Setting penalty='none' will ignore the C and l1_ratio parameters\"\n",
      "/opt/conda/lib/python3.7/site-packages/sklearn/linear_model/_logistic.py:1484: UserWarning: Setting penalty='none' will ignore the C and l1_ratio parameters\n",
      "  \"Setting penalty='none' will ignore the C and l1_ratio parameters\"\n",
      "/opt/conda/lib/python3.7/site-packages/sklearn/linear_model/_logistic.py:1484: UserWarning: Setting penalty='none' will ignore the C and l1_ratio parameters\n",
      "  \"Setting penalty='none' will ignore the C and l1_ratio parameters\"\n",
      "/opt/conda/lib/python3.7/site-packages/sklearn/linear_model/_logistic.py:1484: UserWarning: Setting penalty='none' will ignore the C and l1_ratio parameters\n",
      "  \"Setting penalty='none' will ignore the C and l1_ratio parameters\"\n",
      "/opt/conda/lib/python3.7/site-packages/sklearn/svm/_base.py:289: ConvergenceWarning: Solver terminated early (max_iter=5947).  Consider pre-processing your data with StandardScaler or MinMaxScaler.\n",
      "  ConvergenceWarning,\n",
      "/opt/conda/lib/python3.7/site-packages/sklearn/svm/_base.py:289: ConvergenceWarning: Solver terminated early (max_iter=7789).  Consider pre-processing your data with StandardScaler or MinMaxScaler.\n",
      "  ConvergenceWarning,\n",
      "/opt/conda/lib/python3.7/site-packages/sklearn/svm/_base.py:289: ConvergenceWarning: Solver terminated early (max_iter=5947).  Consider pre-processing your data with StandardScaler or MinMaxScaler.\n",
      "  ConvergenceWarning,\n",
      "/opt/conda/lib/python3.7/site-packages/sklearn/svm/_base.py:289: ConvergenceWarning: Solver terminated early (max_iter=8157).  Consider pre-processing your data with StandardScaler or MinMaxScaler.\n",
      "  ConvergenceWarning,\n",
      "/opt/conda/lib/python3.7/site-packages/sklearn/svm/_base.py:289: ConvergenceWarning: Solver terminated early (max_iter=5210).  Consider pre-processing your data with StandardScaler or MinMaxScaler.\n",
      "  ConvergenceWarning,\n",
      "/opt/conda/lib/python3.7/site-packages/sklearn/svm/_base.py:289: ConvergenceWarning: Solver terminated early (max_iter=3736).  Consider pre-processing your data with StandardScaler or MinMaxScaler.\n",
      "  ConvergenceWarning,\n",
      "/opt/conda/lib/python3.7/site-packages/sklearn/svm/_base.py:289: ConvergenceWarning: Solver terminated early (max_iter=5210).  Consider pre-processing your data with StandardScaler or MinMaxScaler.\n",
      "  ConvergenceWarning,\n",
      "/opt/conda/lib/python3.7/site-packages/sklearn/svm/_base.py:289: ConvergenceWarning: Solver terminated early (max_iter=3736).  Consider pre-processing your data with StandardScaler or MinMaxScaler.\n",
      "  ConvergenceWarning,\n",
      "/opt/conda/lib/python3.7/site-packages/sklearn/svm/_base.py:289: ConvergenceWarning: Solver terminated early (max_iter=7789).  Consider pre-processing your data with StandardScaler or MinMaxScaler.\n",
      "  ConvergenceWarning,\n",
      "/opt/conda/lib/python3.7/site-packages/sklearn/svm/_base.py:289: ConvergenceWarning: Solver terminated early (max_iter=5210).  Consider pre-processing your data with StandardScaler or MinMaxScaler.\n",
      "  ConvergenceWarning,\n",
      "/opt/conda/lib/python3.7/site-packages/sklearn/svm/_base.py:289: ConvergenceWarning: Solver terminated early (max_iter=7052).  Consider pre-processing your data with StandardScaler or MinMaxScaler.\n",
      "  ConvergenceWarning,\n",
      "/opt/conda/lib/python3.7/site-packages/sklearn/svm/_base.py:289: ConvergenceWarning: Solver terminated early (max_iter=3736).  Consider pre-processing your data with StandardScaler or MinMaxScaler.\n",
      "  ConvergenceWarning,\n",
      "/opt/conda/lib/python3.7/site-packages/sklearn/svm/_base.py:289: ConvergenceWarning: Solver terminated early (max_iter=8894).  Consider pre-processing your data with StandardScaler or MinMaxScaler.\n",
      "  ConvergenceWarning,\n"
     ]
    },
    {
     "name": "stderr",
     "output_type": "stream",
     "text": [
      "/opt/conda/lib/python3.7/site-packages/sklearn/linear_model/_logistic.py:1484: UserWarning: Setting penalty='none' will ignore the C and l1_ratio parameters\n",
      "  \"Setting penalty='none' will ignore the C and l1_ratio parameters\"\n",
      "/opt/conda/lib/python3.7/site-packages/sklearn/linear_model/_logistic.py:1484: UserWarning: Setting penalty='none' will ignore the C and l1_ratio parameters\n",
      "  \"Setting penalty='none' will ignore the C and l1_ratio parameters\"\n",
      "/opt/conda/lib/python3.7/site-packages/sklearn/linear_model/_logistic.py:1484: UserWarning: Setting penalty='none' will ignore the C and l1_ratio parameters\n",
      "  \"Setting penalty='none' will ignore the C and l1_ratio parameters\"\n",
      "/opt/conda/lib/python3.7/site-packages/sklearn/linear_model/_logistic.py:1484: UserWarning: Setting penalty='none' will ignore the C and l1_ratio parameters\n",
      "  \"Setting penalty='none' will ignore the C and l1_ratio parameters\"\n",
      "/opt/conda/lib/python3.7/site-packages/sklearn/linear_model/_logistic.py:1484: UserWarning: Setting penalty='none' will ignore the C and l1_ratio parameters\n",
      "  \"Setting penalty='none' will ignore the C and l1_ratio parameters\"\n",
      "/opt/conda/lib/python3.7/site-packages/sklearn/linear_model/_logistic.py:1484: UserWarning: Setting penalty='none' will ignore the C and l1_ratio parameters\n",
      "  \"Setting penalty='none' will ignore the C and l1_ratio parameters\"\n",
      "/opt/conda/lib/python3.7/site-packages/sklearn/linear_model/_logistic.py:1484: UserWarning: Setting penalty='none' will ignore the C and l1_ratio parameters\n",
      "  \"Setting penalty='none' will ignore the C and l1_ratio parameters\"\n",
      "/opt/conda/lib/python3.7/site-packages/sklearn/linear_model/_logistic.py:1484: UserWarning: Setting penalty='none' will ignore the C and l1_ratio parameters\n",
      "  \"Setting penalty='none' will ignore the C and l1_ratio parameters\"\n",
      "/opt/conda/lib/python3.7/site-packages/sklearn/linear_model/_logistic.py:1484: UserWarning: Setting penalty='none' will ignore the C and l1_ratio parameters\n",
      "  \"Setting penalty='none' will ignore the C and l1_ratio parameters\"\n",
      "/opt/conda/lib/python3.7/site-packages/sklearn/linear_model/_logistic.py:1484: UserWarning: Setting penalty='none' will ignore the C and l1_ratio parameters\n",
      "  \"Setting penalty='none' will ignore the C and l1_ratio parameters\"\n",
      "/opt/conda/lib/python3.7/site-packages/sklearn/linear_model/_logistic.py:1484: UserWarning: Setting penalty='none' will ignore the C and l1_ratio parameters\n",
      "  \"Setting penalty='none' will ignore the C and l1_ratio parameters\"\n",
      "/opt/conda/lib/python3.7/site-packages/sklearn/linear_model/_logistic.py:1484: UserWarning: Setting penalty='none' will ignore the C and l1_ratio parameters\n",
      "  \"Setting penalty='none' will ignore the C and l1_ratio parameters\"\n",
      "/opt/conda/lib/python3.7/site-packages/sklearn/linear_model/_logistic.py:1484: UserWarning: Setting penalty='none' will ignore the C and l1_ratio parameters\n",
      "  \"Setting penalty='none' will ignore the C and l1_ratio parameters\"\n",
      "/opt/conda/lib/python3.7/site-packages/sklearn/linear_model/_logistic.py:1484: UserWarning: Setting penalty='none' will ignore the C and l1_ratio parameters\n",
      "  \"Setting penalty='none' will ignore the C and l1_ratio parameters\"\n",
      "/opt/conda/lib/python3.7/site-packages/sklearn/linear_model/_logistic.py:1484: UserWarning: Setting penalty='none' will ignore the C and l1_ratio parameters\n",
      "  \"Setting penalty='none' will ignore the C and l1_ratio parameters\"\n",
      "/opt/conda/lib/python3.7/site-packages/sklearn/linear_model/_logistic.py:1484: UserWarning: Setting penalty='none' will ignore the C and l1_ratio parameters\n",
      "  \"Setting penalty='none' will ignore the C and l1_ratio parameters\"\n",
      "/opt/conda/lib/python3.7/site-packages/sklearn/linear_model/_logistic.py:818: ConvergenceWarning: lbfgs failed to converge (status=1):\n",
      "STOP: TOTAL NO. of ITERATIONS REACHED LIMIT.\n",
      "\n",
      "Increase the number of iterations (max_iter) or scale the data as shown in:\n",
      "    https://scikit-learn.org/stable/modules/preprocessing.html\n",
      "Please also refer to the documentation for alternative solver options:\n",
      "    https://scikit-learn.org/stable/modules/linear_model.html#logistic-regression\n",
      "  extra_warning_msg=_LOGISTIC_SOLVER_CONVERGENCE_MSG,\n",
      "/opt/conda/lib/python3.7/site-packages/sklearn/linear_model/_logistic.py:1484: UserWarning: Setting penalty='none' will ignore the C and l1_ratio parameters\n",
      "  \"Setting penalty='none' will ignore the C and l1_ratio parameters\"\n",
      "/opt/conda/lib/python3.7/site-packages/sklearn/svm/_base.py:289: ConvergenceWarning: Solver terminated early (max_iter=8894).  Consider pre-processing your data with StandardScaler or MinMaxScaler.\n",
      "  ConvergenceWarning,\n",
      "/opt/conda/lib/python3.7/site-packages/sklearn/svm/_base.py:289: ConvergenceWarning: Solver terminated early (max_iter=10000).  Consider pre-processing your data with StandardScaler or MinMaxScaler.\n",
      "  ConvergenceWarning,\n",
      "/opt/conda/lib/python3.7/site-packages/sklearn/svm/_base.py:289: ConvergenceWarning: Solver terminated early (max_iter=5947).  Consider pre-processing your data with StandardScaler or MinMaxScaler.\n",
      "  ConvergenceWarning,\n",
      "/opt/conda/lib/python3.7/site-packages/sklearn/svm/_base.py:289: ConvergenceWarning: Solver terminated early (max_iter=8157).  Consider pre-processing your data with StandardScaler or MinMaxScaler.\n",
      "  ConvergenceWarning,\n",
      "/opt/conda/lib/python3.7/site-packages/sklearn/svm/_base.py:289: ConvergenceWarning: Solver terminated early (max_iter=5210).  Consider pre-processing your data with StandardScaler or MinMaxScaler.\n",
      "  ConvergenceWarning,\n",
      "/opt/conda/lib/python3.7/site-packages/sklearn/svm/_base.py:289: ConvergenceWarning: Solver terminated early (max_iter=3736).  Consider pre-processing your data with StandardScaler or MinMaxScaler.\n",
      "  ConvergenceWarning,\n",
      "/opt/conda/lib/python3.7/site-packages/sklearn/svm/_base.py:289: ConvergenceWarning: Solver terminated early (max_iter=7789).  Consider pre-processing your data with StandardScaler or MinMaxScaler.\n",
      "  ConvergenceWarning,\n",
      "/opt/conda/lib/python3.7/site-packages/sklearn/svm/_base.py:289: ConvergenceWarning: Solver terminated early (max_iter=3736).  Consider pre-processing your data with StandardScaler or MinMaxScaler.\n",
      "  ConvergenceWarning,\n",
      "/opt/conda/lib/python3.7/site-packages/sklearn/svm/_base.py:289: ConvergenceWarning: Solver terminated early (max_iter=8157).  Consider pre-processing your data with StandardScaler or MinMaxScaler.\n",
      "  ConvergenceWarning,\n",
      "/opt/conda/lib/python3.7/site-packages/sklearn/linear_model/_logistic.py:1484: UserWarning: Setting penalty='none' will ignore the C and l1_ratio parameters\n",
      "  \"Setting penalty='none' will ignore the C and l1_ratio parameters\"\n",
      "/opt/conda/lib/python3.7/site-packages/sklearn/linear_model/_logistic.py:1484: UserWarning: Setting penalty='none' will ignore the C and l1_ratio parameters\n",
      "  \"Setting penalty='none' will ignore the C and l1_ratio parameters\"\n",
      "/opt/conda/lib/python3.7/site-packages/sklearn/linear_model/_logistic.py:1484: UserWarning: Setting penalty='none' will ignore the C and l1_ratio parameters\n",
      "  \"Setting penalty='none' will ignore the C and l1_ratio parameters\"\n",
      "/opt/conda/lib/python3.7/site-packages/sklearn/linear_model/_logistic.py:1484: UserWarning: Setting penalty='none' will ignore the C and l1_ratio parameters\n",
      "  \"Setting penalty='none' will ignore the C and l1_ratio parameters\"\n",
      "/opt/conda/lib/python3.7/site-packages/sklearn/linear_model/_logistic.py:1484: UserWarning: Setting penalty='none' will ignore the C and l1_ratio parameters\n",
      "  \"Setting penalty='none' will ignore the C and l1_ratio parameters\"\n",
      "/opt/conda/lib/python3.7/site-packages/sklearn/linear_model/_logistic.py:1484: UserWarning: Setting penalty='none' will ignore the C and l1_ratio parameters\n",
      "  \"Setting penalty='none' will ignore the C and l1_ratio parameters\"\n",
      "/opt/conda/lib/python3.7/site-packages/sklearn/linear_model/_logistic.py:1484: UserWarning: Setting penalty='none' will ignore the C and l1_ratio parameters\n",
      "  \"Setting penalty='none' will ignore the C and l1_ratio parameters\"\n",
      "/opt/conda/lib/python3.7/site-packages/sklearn/linear_model/_logistic.py:1484: UserWarning: Setting penalty='none' will ignore the C and l1_ratio parameters\n",
      "  \"Setting penalty='none' will ignore the C and l1_ratio parameters\"\n",
      "/opt/conda/lib/python3.7/site-packages/sklearn/linear_model/_logistic.py:1484: UserWarning: Setting penalty='none' will ignore the C and l1_ratio parameters\n",
      "  \"Setting penalty='none' will ignore the C and l1_ratio parameters\"\n",
      "/opt/conda/lib/python3.7/site-packages/sklearn/linear_model/_logistic.py:1484: UserWarning: Setting penalty='none' will ignore the C and l1_ratio parameters\n",
      "  \"Setting penalty='none' will ignore the C and l1_ratio parameters\"\n",
      "/opt/conda/lib/python3.7/site-packages/sklearn/linear_model/_logistic.py:1484: UserWarning: Setting penalty='none' will ignore the C and l1_ratio parameters\n",
      "  \"Setting penalty='none' will ignore the C and l1_ratio parameters\"\n",
      "/opt/conda/lib/python3.7/site-packages/sklearn/linear_model/_logistic.py:1484: UserWarning: Setting penalty='none' will ignore the C and l1_ratio parameters\n",
      "  \"Setting penalty='none' will ignore the C and l1_ratio parameters\"\n",
      "/opt/conda/lib/python3.7/site-packages/sklearn/linear_model/_logistic.py:1484: UserWarning: Setting penalty='none' will ignore the C and l1_ratio parameters\n",
      "  \"Setting penalty='none' will ignore the C and l1_ratio parameters\"\n",
      "/opt/conda/lib/python3.7/site-packages/sklearn/svm/_base.py:289: ConvergenceWarning: Solver terminated early (max_iter=4473).  Consider pre-processing your data with StandardScaler or MinMaxScaler.\n",
      "  ConvergenceWarning,\n",
      "/opt/conda/lib/python3.7/site-packages/sklearn/svm/_base.py:289: ConvergenceWarning: Solver terminated early (max_iter=5947).  Consider pre-processing your data with StandardScaler or MinMaxScaler.\n",
      "  ConvergenceWarning,\n",
      "/opt/conda/lib/python3.7/site-packages/sklearn/svm/_base.py:289: ConvergenceWarning: Solver terminated early (max_iter=8157).  Consider pre-processing your data with StandardScaler or MinMaxScaler.\n",
      "  ConvergenceWarning,\n",
      "/opt/conda/lib/python3.7/site-packages/sklearn/svm/_base.py:289: ConvergenceWarning: Solver terminated early (max_iter=7052).  Consider pre-processing your data with StandardScaler or MinMaxScaler.\n",
      "  ConvergenceWarning,\n",
      "/opt/conda/lib/python3.7/site-packages/sklearn/svm/_base.py:289: ConvergenceWarning: Solver terminated early (max_iter=5210).  Consider pre-processing your data with StandardScaler or MinMaxScaler.\n",
      "  ConvergenceWarning,\n",
      "/opt/conda/lib/python3.7/site-packages/sklearn/svm/_base.py:289: ConvergenceWarning: Solver terminated early (max_iter=3736).  Consider pre-processing your data with StandardScaler or MinMaxScaler.\n",
      "  ConvergenceWarning,\n",
      "/opt/conda/lib/python3.7/site-packages/sklearn/svm/_base.py:289: ConvergenceWarning: Solver terminated early (max_iter=5210).  Consider pre-processing your data with StandardScaler or MinMaxScaler.\n",
      "  ConvergenceWarning,\n",
      "/opt/conda/lib/python3.7/site-packages/sklearn/svm/_base.py:289: ConvergenceWarning: Solver terminated early (max_iter=7052).  Consider pre-processing your data with StandardScaler or MinMaxScaler.\n",
      "  ConvergenceWarning,\n",
      "/opt/conda/lib/python3.7/site-packages/sklearn/svm/_base.py:289: ConvergenceWarning: Solver terminated early (max_iter=3736).  Consider pre-processing your data with StandardScaler or MinMaxScaler.\n",
      "  ConvergenceWarning,\n",
      "/opt/conda/lib/python3.7/site-packages/sklearn/svm/_base.py:289: ConvergenceWarning: Solver terminated early (max_iter=8157).  Consider pre-processing your data with StandardScaler or MinMaxScaler.\n",
      "  ConvergenceWarning,\n"
     ]
    },
    {
     "name": "stderr",
     "output_type": "stream",
     "text": [
      "/opt/conda/lib/python3.7/site-packages/sklearn/linear_model/_logistic.py:1484: UserWarning: Setting penalty='none' will ignore the C and l1_ratio parameters\n",
      "  \"Setting penalty='none' will ignore the C and l1_ratio parameters\"\n",
      "/opt/conda/lib/python3.7/site-packages/sklearn/linear_model/_logistic.py:1484: UserWarning: Setting penalty='none' will ignore the C and l1_ratio parameters\n",
      "  \"Setting penalty='none' will ignore the C and l1_ratio parameters\"\n",
      "/opt/conda/lib/python3.7/site-packages/sklearn/linear_model/_logistic.py:1484: UserWarning: Setting penalty='none' will ignore the C and l1_ratio parameters\n",
      "  \"Setting penalty='none' will ignore the C and l1_ratio parameters\"\n",
      "/opt/conda/lib/python3.7/site-packages/sklearn/linear_model/_logistic.py:1484: UserWarning: Setting penalty='none' will ignore the C and l1_ratio parameters\n",
      "  \"Setting penalty='none' will ignore the C and l1_ratio parameters\"\n",
      "/opt/conda/lib/python3.7/site-packages/sklearn/linear_model/_logistic.py:1484: UserWarning: Setting penalty='none' will ignore the C and l1_ratio parameters\n",
      "  \"Setting penalty='none' will ignore the C and l1_ratio parameters\"\n",
      "/opt/conda/lib/python3.7/site-packages/sklearn/linear_model/_logistic.py:1484: UserWarning: Setting penalty='none' will ignore the C and l1_ratio parameters\n",
      "  \"Setting penalty='none' will ignore the C and l1_ratio parameters\"\n",
      "/opt/conda/lib/python3.7/site-packages/sklearn/linear_model/_logistic.py:1484: UserWarning: Setting penalty='none' will ignore the C and l1_ratio parameters\n",
      "  \"Setting penalty='none' will ignore the C and l1_ratio parameters\"\n",
      "/opt/conda/lib/python3.7/site-packages/sklearn/linear_model/_logistic.py:1484: UserWarning: Setting penalty='none' will ignore the C and l1_ratio parameters\n",
      "  \"Setting penalty='none' will ignore the C and l1_ratio parameters\"\n",
      "/opt/conda/lib/python3.7/site-packages/sklearn/linear_model/_logistic.py:1484: UserWarning: Setting penalty='none' will ignore the C and l1_ratio parameters\n",
      "  \"Setting penalty='none' will ignore the C and l1_ratio parameters\"\n",
      "/opt/conda/lib/python3.7/site-packages/sklearn/linear_model/_logistic.py:1484: UserWarning: Setting penalty='none' will ignore the C and l1_ratio parameters\n",
      "  \"Setting penalty='none' will ignore the C and l1_ratio parameters\"\n",
      "/opt/conda/lib/python3.7/site-packages/sklearn/linear_model/_logistic.py:1484: UserWarning: Setting penalty='none' will ignore the C and l1_ratio parameters\n",
      "  \"Setting penalty='none' will ignore the C and l1_ratio parameters\"\n",
      "/opt/conda/lib/python3.7/site-packages/sklearn/linear_model/_logistic.py:1484: UserWarning: Setting penalty='none' will ignore the C and l1_ratio parameters\n",
      "  \"Setting penalty='none' will ignore the C and l1_ratio parameters\"\n",
      "/opt/conda/lib/python3.7/site-packages/sklearn/linear_model/_logistic.py:818: ConvergenceWarning: lbfgs failed to converge (status=1):\n",
      "STOP: TOTAL NO. of ITERATIONS REACHED LIMIT.\n",
      "\n",
      "Increase the number of iterations (max_iter) or scale the data as shown in:\n",
      "    https://scikit-learn.org/stable/modules/preprocessing.html\n",
      "Please also refer to the documentation for alternative solver options:\n",
      "    https://scikit-learn.org/stable/modules/linear_model.html#logistic-regression\n",
      "  extra_warning_msg=_LOGISTIC_SOLVER_CONVERGENCE_MSG,\n",
      "/opt/conda/lib/python3.7/site-packages/sklearn/linear_model/_logistic.py:1484: UserWarning: Setting penalty='none' will ignore the C and l1_ratio parameters\n",
      "  \"Setting penalty='none' will ignore the C and l1_ratio parameters\"\n",
      "/opt/conda/lib/python3.7/site-packages/sklearn/svm/_base.py:289: ConvergenceWarning: Solver terminated early (max_iter=9631).  Consider pre-processing your data with StandardScaler or MinMaxScaler.\n",
      "  ConvergenceWarning,\n",
      "/opt/conda/lib/python3.7/site-packages/sklearn/svm/_base.py:289: ConvergenceWarning: Solver terminated early (max_iter=8894).  Consider pre-processing your data with StandardScaler or MinMaxScaler.\n",
      "  ConvergenceWarning,\n",
      "/opt/conda/lib/python3.7/site-packages/sklearn/svm/_base.py:289: ConvergenceWarning: Solver terminated early (max_iter=4473).  Consider pre-processing your data with StandardScaler or MinMaxScaler.\n",
      "  ConvergenceWarning,\n",
      "/opt/conda/lib/python3.7/site-packages/sklearn/svm/_base.py:289: ConvergenceWarning: Solver terminated early (max_iter=5947).  Consider pre-processing your data with StandardScaler or MinMaxScaler.\n",
      "  ConvergenceWarning,\n",
      "/opt/conda/lib/python3.7/site-packages/sklearn/svm/_base.py:289: ConvergenceWarning: Solver terminated early (max_iter=5947).  Consider pre-processing your data with StandardScaler or MinMaxScaler.\n",
      "  ConvergenceWarning,\n",
      "/opt/conda/lib/python3.7/site-packages/sklearn/svm/_base.py:289: ConvergenceWarning: Solver terminated early (max_iter=8157).  Consider pre-processing your data with StandardScaler or MinMaxScaler.\n",
      "  ConvergenceWarning,\n",
      "/opt/conda/lib/python3.7/site-packages/sklearn/svm/_base.py:289: ConvergenceWarning: Solver terminated early (max_iter=9631).  Consider pre-processing your data with StandardScaler or MinMaxScaler.\n",
      "  ConvergenceWarning,\n",
      "/opt/conda/lib/python3.7/site-packages/sklearn/svm/_base.py:289: ConvergenceWarning: Solver terminated early (max_iter=5947).  Consider pre-processing your data with StandardScaler or MinMaxScaler.\n",
      "  ConvergenceWarning,\n",
      "/opt/conda/lib/python3.7/site-packages/sklearn/svm/_base.py:289: ConvergenceWarning: Solver terminated early (max_iter=3736).  Consider pre-processing your data with StandardScaler or MinMaxScaler.\n",
      "  ConvergenceWarning,\n",
      "/opt/conda/lib/python3.7/site-packages/sklearn/svm/_base.py:289: ConvergenceWarning: Solver terminated early (max_iter=3736).  Consider pre-processing your data with StandardScaler or MinMaxScaler.\n",
      "  ConvergenceWarning,\n",
      "/opt/conda/lib/python3.7/site-packages/sklearn/svm/_base.py:289: ConvergenceWarning: Solver terminated early (max_iter=8157).  Consider pre-processing your data with StandardScaler or MinMaxScaler.\n",
      "  ConvergenceWarning,\n",
      "/opt/conda/lib/python3.7/site-packages/sklearn/linear_model/_logistic.py:1484: UserWarning: Setting penalty='none' will ignore the C and l1_ratio parameters\n",
      "  \"Setting penalty='none' will ignore the C and l1_ratio parameters\"\n",
      "/opt/conda/lib/python3.7/site-packages/sklearn/linear_model/_logistic.py:1484: UserWarning: Setting penalty='none' will ignore the C and l1_ratio parameters\n",
      "  \"Setting penalty='none' will ignore the C and l1_ratio parameters\"\n",
      "/opt/conda/lib/python3.7/site-packages/sklearn/linear_model/_logistic.py:1484: UserWarning: Setting penalty='none' will ignore the C and l1_ratio parameters\n",
      "  \"Setting penalty='none' will ignore the C and l1_ratio parameters\"\n",
      "/opt/conda/lib/python3.7/site-packages/sklearn/linear_model/_logistic.py:1484: UserWarning: Setting penalty='none' will ignore the C and l1_ratio parameters\n",
      "  \"Setting penalty='none' will ignore the C and l1_ratio parameters\"\n",
      "/opt/conda/lib/python3.7/site-packages/sklearn/linear_model/_logistic.py:1484: UserWarning: Setting penalty='none' will ignore the C and l1_ratio parameters\n",
      "  \"Setting penalty='none' will ignore the C and l1_ratio parameters\"\n",
      "/opt/conda/lib/python3.7/site-packages/sklearn/linear_model/_logistic.py:1484: UserWarning: Setting penalty='none' will ignore the C and l1_ratio parameters\n",
      "  \"Setting penalty='none' will ignore the C and l1_ratio parameters\"\n",
      "/opt/conda/lib/python3.7/site-packages/sklearn/linear_model/_sag.py:354: ConvergenceWarning: The max_iter was reached which means the coef_ did not converge\n",
      "  ConvergenceWarning,\n",
      "/opt/conda/lib/python3.7/site-packages/sklearn/linear_model/_logistic.py:1484: UserWarning: Setting penalty='none' will ignore the C and l1_ratio parameters\n",
      "  \"Setting penalty='none' will ignore the C and l1_ratio parameters\"\n",
      "/opt/conda/lib/python3.7/site-packages/sklearn/linear_model/_logistic.py:1484: UserWarning: Setting penalty='none' will ignore the C and l1_ratio parameters\n",
      "  \"Setting penalty='none' will ignore the C and l1_ratio parameters\"\n",
      "/opt/conda/lib/python3.7/site-packages/sklearn/linear_model/_logistic.py:1484: UserWarning: Setting penalty='none' will ignore the C and l1_ratio parameters\n",
      "  \"Setting penalty='none' will ignore the C and l1_ratio parameters\"\n",
      "/opt/conda/lib/python3.7/site-packages/sklearn/linear_model/_logistic.py:1484: UserWarning: Setting penalty='none' will ignore the C and l1_ratio parameters\n",
      "  \"Setting penalty='none' will ignore the C and l1_ratio parameters\"\n",
      "/opt/conda/lib/python3.7/site-packages/sklearn/linear_model/_logistic.py:1484: UserWarning: Setting penalty='none' will ignore the C and l1_ratio parameters\n",
      "  \"Setting penalty='none' will ignore the C and l1_ratio parameters\"\n",
      "/opt/conda/lib/python3.7/site-packages/sklearn/linear_model/_logistic.py:1484: UserWarning: Setting penalty='none' will ignore the C and l1_ratio parameters\n",
      "  \"Setting penalty='none' will ignore the C and l1_ratio parameters\"\n",
      "/opt/conda/lib/python3.7/site-packages/sklearn/linear_model/_logistic.py:1484: UserWarning: Setting penalty='none' will ignore the C and l1_ratio parameters\n",
      "  \"Setting penalty='none' will ignore the C and l1_ratio parameters\"\n",
      "/opt/conda/lib/python3.7/site-packages/sklearn/linear_model/_logistic.py:1484: UserWarning: Setting penalty='none' will ignore the C and l1_ratio parameters\n",
      "  \"Setting penalty='none' will ignore the C and l1_ratio parameters\"\n",
      "/opt/conda/lib/python3.7/site-packages/sklearn/linear_model/_logistic.py:818: ConvergenceWarning: lbfgs failed to converge (status=1):\n",
      "STOP: TOTAL NO. of ITERATIONS REACHED LIMIT.\n",
      "\n",
      "Increase the number of iterations (max_iter) or scale the data as shown in:\n",
      "    https://scikit-learn.org/stable/modules/preprocessing.html\n",
      "Please also refer to the documentation for alternative solver options:\n",
      "    https://scikit-learn.org/stable/modules/linear_model.html#logistic-regression\n",
      "  extra_warning_msg=_LOGISTIC_SOLVER_CONVERGENCE_MSG,\n",
      "/opt/conda/lib/python3.7/site-packages/sklearn/linear_model/_logistic.py:1484: UserWarning: Setting penalty='none' will ignore the C and l1_ratio parameters\n",
      "  \"Setting penalty='none' will ignore the C and l1_ratio parameters\"\n",
      "/opt/conda/lib/python3.7/site-packages/sklearn/svm/_base.py:289: ConvergenceWarning: Solver terminated early (max_iter=9631).  Consider pre-processing your data with StandardScaler or MinMaxScaler.\n",
      "  ConvergenceWarning,\n",
      "/opt/conda/lib/python3.7/site-packages/sklearn/svm/_base.py:289: ConvergenceWarning: Solver terminated early (max_iter=4473).  Consider pre-processing your data with StandardScaler or MinMaxScaler.\n",
      "  ConvergenceWarning,\n",
      "/opt/conda/lib/python3.7/site-packages/sklearn/svm/_base.py:289: ConvergenceWarning: Solver terminated early (max_iter=10000).  Consider pre-processing your data with StandardScaler or MinMaxScaler.\n",
      "  ConvergenceWarning,\n",
      "/opt/conda/lib/python3.7/site-packages/sklearn/svm/_base.py:289: ConvergenceWarning: Solver terminated early (max_iter=7789).  Consider pre-processing your data with StandardScaler or MinMaxScaler.\n",
      "  ConvergenceWarning,\n",
      "/opt/conda/lib/python3.7/site-packages/sklearn/svm/_base.py:289: ConvergenceWarning: Solver terminated early (max_iter=5210).  Consider pre-processing your data with StandardScaler or MinMaxScaler.\n",
      "  ConvergenceWarning,\n",
      "/opt/conda/lib/python3.7/site-packages/sklearn/svm/_base.py:289: ConvergenceWarning: Solver terminated early (max_iter=3736).  Consider pre-processing your data with StandardScaler or MinMaxScaler.\n",
      "  ConvergenceWarning,\n",
      "/opt/conda/lib/python3.7/site-packages/sklearn/svm/_base.py:289: ConvergenceWarning: Solver terminated early (max_iter=9631).  Consider pre-processing your data with StandardScaler or MinMaxScaler.\n",
      "  ConvergenceWarning,\n",
      "/opt/conda/lib/python3.7/site-packages/sklearn/svm/_base.py:289: ConvergenceWarning: Solver terminated early (max_iter=7052).  Consider pre-processing your data with StandardScaler or MinMaxScaler.\n",
      "  ConvergenceWarning,\n",
      "/opt/conda/lib/python3.7/site-packages/sklearn/svm/_base.py:289: ConvergenceWarning: Solver terminated early (max_iter=5947).  Consider pre-processing your data with StandardScaler or MinMaxScaler.\n",
      "  ConvergenceWarning,\n",
      "/opt/conda/lib/python3.7/site-packages/sklearn/svm/_base.py:289: ConvergenceWarning: Solver terminated early (max_iter=4842).  Consider pre-processing your data with StandardScaler or MinMaxScaler.\n",
      "  ConvergenceWarning,\n",
      "/opt/conda/lib/python3.7/site-packages/sklearn/svm/_base.py:289: ConvergenceWarning: Solver terminated early (max_iter=5947).  Consider pre-processing your data with StandardScaler or MinMaxScaler.\n",
      "  ConvergenceWarning,\n",
      "/opt/conda/lib/python3.7/site-packages/sklearn/svm/_base.py:289: ConvergenceWarning: Solver terminated early (max_iter=5210).  Consider pre-processing your data with StandardScaler or MinMaxScaler.\n",
      "  ConvergenceWarning,\n",
      "/opt/conda/lib/python3.7/site-packages/sklearn/svm/_base.py:289: ConvergenceWarning: Solver terminated early (max_iter=7052).  Consider pre-processing your data with StandardScaler or MinMaxScaler.\n",
      "  ConvergenceWarning,\n",
      "/opt/conda/lib/python3.7/site-packages/sklearn/svm/_base.py:289: ConvergenceWarning: Solver terminated early (max_iter=8157).  Consider pre-processing your data with StandardScaler or MinMaxScaler.\n",
      "  ConvergenceWarning,\n"
     ]
    },
    {
     "name": "stderr",
     "output_type": "stream",
     "text": [
      "/opt/conda/lib/python3.7/site-packages/sklearn/linear_model/_logistic.py:1484: UserWarning: Setting penalty='none' will ignore the C and l1_ratio parameters\n",
      "  \"Setting penalty='none' will ignore the C and l1_ratio parameters\"\n",
      "/opt/conda/lib/python3.7/site-packages/sklearn/linear_model/_logistic.py:1484: UserWarning: Setting penalty='none' will ignore the C and l1_ratio parameters\n",
      "  \"Setting penalty='none' will ignore the C and l1_ratio parameters\"\n",
      "/opt/conda/lib/python3.7/site-packages/sklearn/linear_model/_logistic.py:1484: UserWarning: Setting penalty='none' will ignore the C and l1_ratio parameters\n",
      "  \"Setting penalty='none' will ignore the C and l1_ratio parameters\"\n",
      "/opt/conda/lib/python3.7/site-packages/sklearn/linear_model/_logistic.py:1484: UserWarning: Setting penalty='none' will ignore the C and l1_ratio parameters\n",
      "  \"Setting penalty='none' will ignore the C and l1_ratio parameters\"\n",
      "/opt/conda/lib/python3.7/site-packages/sklearn/linear_model/_logistic.py:1484: UserWarning: Setting penalty='none' will ignore the C and l1_ratio parameters\n",
      "  \"Setting penalty='none' will ignore the C and l1_ratio parameters\"\n",
      "/opt/conda/lib/python3.7/site-packages/sklearn/linear_model/_logistic.py:1484: UserWarning: Setting penalty='none' will ignore the C and l1_ratio parameters\n",
      "  \"Setting penalty='none' will ignore the C and l1_ratio parameters\"\n",
      "/opt/conda/lib/python3.7/site-packages/sklearn/linear_model/_logistic.py:1484: UserWarning: Setting penalty='none' will ignore the C and l1_ratio parameters\n",
      "  \"Setting penalty='none' will ignore the C and l1_ratio parameters\"\n",
      "/opt/conda/lib/python3.7/site-packages/sklearn/linear_model/_sag.py:354: ConvergenceWarning: The max_iter was reached which means the coef_ did not converge\n",
      "  ConvergenceWarning,\n",
      "/opt/conda/lib/python3.7/site-packages/sklearn/linear_model/_logistic.py:1484: UserWarning: Setting penalty='none' will ignore the C and l1_ratio parameters\n",
      "  \"Setting penalty='none' will ignore the C and l1_ratio parameters\"\n",
      "/opt/conda/lib/python3.7/site-packages/sklearn/linear_model/_logistic.py:1484: UserWarning: Setting penalty='none' will ignore the C and l1_ratio parameters\n",
      "  \"Setting penalty='none' will ignore the C and l1_ratio parameters\"\n",
      "/opt/conda/lib/python3.7/site-packages/sklearn/linear_model/_logistic.py:1484: UserWarning: Setting penalty='none' will ignore the C and l1_ratio parameters\n",
      "  \"Setting penalty='none' will ignore the C and l1_ratio parameters\"\n",
      "/opt/conda/lib/python3.7/site-packages/sklearn/linear_model/_logistic.py:1484: UserWarning: Setting penalty='none' will ignore the C and l1_ratio parameters\n",
      "  \"Setting penalty='none' will ignore the C and l1_ratio parameters\"\n",
      "/opt/conda/lib/python3.7/site-packages/sklearn/svm/_base.py:289: ConvergenceWarning: Solver terminated early (max_iter=9631).  Consider pre-processing your data with StandardScaler or MinMaxScaler.\n",
      "  ConvergenceWarning,\n",
      "/opt/conda/lib/python3.7/site-packages/sklearn/svm/_base.py:289: ConvergenceWarning: Solver terminated early (max_iter=4473).  Consider pre-processing your data with StandardScaler or MinMaxScaler.\n",
      "  ConvergenceWarning,\n",
      "/opt/conda/lib/python3.7/site-packages/sklearn/svm/_base.py:289: ConvergenceWarning: Solver terminated early (max_iter=5947).  Consider pre-processing your data with StandardScaler or MinMaxScaler.\n",
      "  ConvergenceWarning,\n",
      "/opt/conda/lib/python3.7/site-packages/sklearn/svm/_base.py:289: ConvergenceWarning: Solver terminated early (max_iter=9631).  Consider pre-processing your data with StandardScaler or MinMaxScaler.\n",
      "  ConvergenceWarning,\n",
      "/opt/conda/lib/python3.7/site-packages/sklearn/svm/_base.py:289: ConvergenceWarning: Solver terminated early (max_iter=7052).  Consider pre-processing your data with StandardScaler or MinMaxScaler.\n",
      "  ConvergenceWarning,\n",
      "/opt/conda/lib/python3.7/site-packages/sklearn/svm/_base.py:289: ConvergenceWarning: Solver terminated early (max_iter=5947).  Consider pre-processing your data with StandardScaler or MinMaxScaler.\n",
      "  ConvergenceWarning,\n",
      "/opt/conda/lib/python3.7/site-packages/sklearn/svm/_base.py:289: ConvergenceWarning: Solver terminated early (max_iter=4842).  Consider pre-processing your data with StandardScaler or MinMaxScaler.\n",
      "  ConvergenceWarning,\n",
      "/opt/conda/lib/python3.7/site-packages/sklearn/svm/_base.py:289: ConvergenceWarning: Solver terminated early (max_iter=5947).  Consider pre-processing your data with StandardScaler or MinMaxScaler.\n",
      "  ConvergenceWarning,\n",
      "/opt/conda/lib/python3.7/site-packages/sklearn/svm/_base.py:289: ConvergenceWarning: Solver terminated early (max_iter=5210).  Consider pre-processing your data with StandardScaler or MinMaxScaler.\n",
      "  ConvergenceWarning,\n",
      "/opt/conda/lib/python3.7/site-packages/sklearn/svm/_base.py:289: ConvergenceWarning: Solver terminated early (max_iter=5210).  Consider pre-processing your data with StandardScaler or MinMaxScaler.\n",
      "  ConvergenceWarning,\n",
      "/opt/conda/lib/python3.7/site-packages/sklearn/svm/_base.py:289: ConvergenceWarning: Solver terminated early (max_iter=7052).  Consider pre-processing your data with StandardScaler or MinMaxScaler.\n",
      "  ConvergenceWarning,\n",
      "/opt/conda/lib/python3.7/site-packages/sklearn/svm/_base.py:289: ConvergenceWarning: Solver terminated early (max_iter=3736).  Consider pre-processing your data with StandardScaler or MinMaxScaler.\n",
      "  ConvergenceWarning,\n",
      "/opt/conda/lib/python3.7/site-packages/sklearn/svm/_base.py:289: ConvergenceWarning: Solver terminated early (max_iter=8157).  Consider pre-processing your data with StandardScaler or MinMaxScaler.\n",
      "  ConvergenceWarning,\n"
     ]
    }
   ],
   "source": [
    "%%time\n",
    "\n",
    "# сетка параметров\n",
    "param_grid = {'model__kernel': ['linear', 'rbf'],\n",
    "              'model__max_iter': [-1] + list(np.linspace(3000, 10000, 20).astype('int')),\n",
    "              'model__class_weight': [None, 'balanced'],\n",
    "              'model__C': [0.1, 1, 10, 100],\n",
    "              'model__gamma': [1, 0.1, 0.01, 'scale', 'auto'],\n",
    "              'preprocessing__standardscaler': [MinMaxScaler(), StandardScaler()],\n",
    "              'imputer__n_neighbors': [3,5,7,10]\n",
    "             }\n",
    "\n",
    "gs = RandomizedSearchCV(svc_pipeline, \n",
    "                  param_distributions=param_grid, \n",
    "                  n_iter = 50,\n",
    "                  cv = 5, \n",
    "                  n_jobs=-1, \n",
    "                  verbose=1,\n",
    "                  scoring='f1_micro',\n",
    "                  random_state=SEED,\n",
    "#                   error_score='raise'\n",
    "                  )\n",
    "\n",
    "gs.fit(X, Y)\n",
    "print('Best params:', gs.best_params_)\n",
    "print('Best score:', gs.best_score_)"
   ]
  },
  {
   "cell_type": "code",
   "execution_count": 103,
   "id": "471363ee",
   "metadata": {},
   "outputs": [
    {
     "data": {
      "text/html": [
       "<div>\n",
       "<style scoped>\n",
       "    .dataframe tbody tr th:only-of-type {\n",
       "        vertical-align: middle;\n",
       "    }\n",
       "\n",
       "    .dataframe tbody tr th {\n",
       "        vertical-align: top;\n",
       "    }\n",
       "\n",
       "    .dataframe thead th {\n",
       "        text-align: right;\n",
       "    }\n",
       "</style>\n",
       "<table border=\"1\" class=\"dataframe\">\n",
       "  <thead>\n",
       "    <tr style=\"text-align: right;\">\n",
       "      <th></th>\n",
       "      <th>param_model__kernel</th>\n",
       "      <th>param_model__max_iter</th>\n",
       "      <th>param_model__class_weight</th>\n",
       "      <th>param_model__C</th>\n",
       "      <th>param_model__gamma</th>\n",
       "      <th>param_preprocessing__standardscaler</th>\n",
       "      <th>param_imputer__n_neighbors</th>\n",
       "      <th>mean_test_score</th>\n",
       "      <th>rank_test_score</th>\n",
       "    </tr>\n",
       "  </thead>\n",
       "  <tbody>\n",
       "    <tr>\n",
       "      <th>0</th>\n",
       "      <td>rbf</td>\n",
       "      <td>5947</td>\n",
       "      <td>None</td>\n",
       "      <td>1.000</td>\n",
       "      <td>0.100</td>\n",
       "      <td>StandardScaler()</td>\n",
       "      <td>3</td>\n",
       "      <td>0.445</td>\n",
       "      <td>1</td>\n",
       "    </tr>\n",
       "    <tr>\n",
       "      <th>1</th>\n",
       "      <td>rbf</td>\n",
       "      <td>7052</td>\n",
       "      <td>None</td>\n",
       "      <td>1.000</td>\n",
       "      <td>0.100</td>\n",
       "      <td>StandardScaler()</td>\n",
       "      <td>7</td>\n",
       "      <td>0.445</td>\n",
       "      <td>2</td>\n",
       "    </tr>\n",
       "    <tr>\n",
       "      <th>2</th>\n",
       "      <td>rbf</td>\n",
       "      <td>4842</td>\n",
       "      <td>None</td>\n",
       "      <td>1.000</td>\n",
       "      <td>auto</td>\n",
       "      <td>StandardScaler()</td>\n",
       "      <td>7</td>\n",
       "      <td>0.439</td>\n",
       "      <td>3</td>\n",
       "    </tr>\n",
       "    <tr>\n",
       "      <th>3</th>\n",
       "      <td>rbf</td>\n",
       "      <td>8157</td>\n",
       "      <td>None</td>\n",
       "      <td>10.000</td>\n",
       "      <td>scale</td>\n",
       "      <td>StandardScaler()</td>\n",
       "      <td>5</td>\n",
       "      <td>0.427</td>\n",
       "      <td>4</td>\n",
       "    </tr>\n",
       "    <tr>\n",
       "      <th>4</th>\n",
       "      <td>rbf</td>\n",
       "      <td>-1</td>\n",
       "      <td>None</td>\n",
       "      <td>100.000</td>\n",
       "      <td>auto</td>\n",
       "      <td>MinMaxScaler()</td>\n",
       "      <td>3</td>\n",
       "      <td>0.422</td>\n",
       "      <td>5</td>\n",
       "    </tr>\n",
       "    <tr>\n",
       "      <th>5</th>\n",
       "      <td>rbf</td>\n",
       "      <td>5947</td>\n",
       "      <td>None</td>\n",
       "      <td>10.000</td>\n",
       "      <td>0.100</td>\n",
       "      <td>MinMaxScaler()</td>\n",
       "      <td>10</td>\n",
       "      <td>0.418</td>\n",
       "      <td>6</td>\n",
       "    </tr>\n",
       "    <tr>\n",
       "      <th>6</th>\n",
       "      <td>rbf</td>\n",
       "      <td>3736</td>\n",
       "      <td>None</td>\n",
       "      <td>10.000</td>\n",
       "      <td>0.100</td>\n",
       "      <td>MinMaxScaler()</td>\n",
       "      <td>7</td>\n",
       "      <td>0.418</td>\n",
       "      <td>7</td>\n",
       "    </tr>\n",
       "    <tr>\n",
       "      <th>7</th>\n",
       "      <td>rbf</td>\n",
       "      <td>7052</td>\n",
       "      <td>balanced</td>\n",
       "      <td>100.000</td>\n",
       "      <td>0.010</td>\n",
       "      <td>StandardScaler()</td>\n",
       "      <td>10</td>\n",
       "      <td>0.410</td>\n",
       "      <td>8</td>\n",
       "    </tr>\n",
       "    <tr>\n",
       "      <th>8</th>\n",
       "      <td>rbf</td>\n",
       "      <td>8894</td>\n",
       "      <td>balanced</td>\n",
       "      <td>10.000</td>\n",
       "      <td>scale</td>\n",
       "      <td>StandardScaler()</td>\n",
       "      <td>5</td>\n",
       "      <td>0.407</td>\n",
       "      <td>9</td>\n",
       "    </tr>\n",
       "    <tr>\n",
       "      <th>9</th>\n",
       "      <td>rbf</td>\n",
       "      <td>8157</td>\n",
       "      <td>balanced</td>\n",
       "      <td>100.000</td>\n",
       "      <td>0.010</td>\n",
       "      <td>StandardScaler()</td>\n",
       "      <td>5</td>\n",
       "      <td>0.407</td>\n",
       "      <td>10</td>\n",
       "    </tr>\n",
       "  </tbody>\n",
       "</table>\n",
       "</div>"
      ],
      "text/plain": [
       "  param_model__kernel  param_model__max_iter param_model__class_weight  \\\n",
       "0                 rbf                   5947                      None   \n",
       "1                 rbf                   7052                      None   \n",
       "2                 rbf                   4842                      None   \n",
       "3                 rbf                   8157                      None   \n",
       "4                 rbf                     -1                      None   \n",
       "5                 rbf                   5947                      None   \n",
       "6                 rbf                   3736                      None   \n",
       "7                 rbf                   7052                  balanced   \n",
       "8                 rbf                   8894                  balanced   \n",
       "9                 rbf                   8157                  balanced   \n",
       "\n",
       "   param_model__C param_model__gamma param_preprocessing__standardscaler  \\\n",
       "0           1.000              0.100                    StandardScaler()   \n",
       "1           1.000              0.100                    StandardScaler()   \n",
       "2           1.000               auto                    StandardScaler()   \n",
       "3          10.000              scale                    StandardScaler()   \n",
       "4         100.000               auto                      MinMaxScaler()   \n",
       "5          10.000              0.100                      MinMaxScaler()   \n",
       "6          10.000              0.100                      MinMaxScaler()   \n",
       "7         100.000              0.010                    StandardScaler()   \n",
       "8          10.000              scale                    StandardScaler()   \n",
       "9         100.000              0.010                    StandardScaler()   \n",
       "\n",
       "   param_imputer__n_neighbors  mean_test_score  rank_test_score  \n",
       "0                           3            0.445                1  \n",
       "1                           7            0.445                2  \n",
       "2                           7            0.439                3  \n",
       "3                           5            0.427                4  \n",
       "4                           3            0.422                5  \n",
       "5                          10            0.418                6  \n",
       "6                           7            0.418                7  \n",
       "7                          10            0.410                8  \n",
       "8                           5            0.407                9  \n",
       "9                           5            0.407               10  "
      ]
     },
     "execution_count": 103,
     "metadata": {},
     "output_type": "execute_result"
    }
   ],
   "source": [
    "# обрабатываем результаты работы модели\n",
    "rs_df = pd.DataFrame(gs.cv_results_).sort_values('rank_test_score').reset_index(drop=True)\n",
    "\n",
    "rs_df = rs_df[rs_df.mean_test_score.notna()]\n",
    "\n",
    "columns_to_show = ['param_' + x for x in param_grid.keys()] + ['mean_test_score', 'rank_test_score']\n",
    "rs_df = rs_df[columns_to_show]\n",
    "rs_df = rs_df.fillna('None')\n",
    "rs_df['param_preprocessing__standardscaler'] = rs_df['param_preprocessing__standardscaler'].astype('str')\n",
    "\n",
    "params_to_show = list(rs_df.columns[:-2])\n",
    "\n",
    "rs_df.head(10)"
   ]
  },
  {
   "cell_type": "code",
   "execution_count": 106,
   "id": "0c9fac1b",
   "metadata": {
    "scrolled": false
   },
   "outputs": [
    {
     "data": {
      "image/png": "[encoded data removed]",
      "text/plain": [
       "<Figure size 1500x600 with 7 Axes>"
      ]
     },
     "metadata": {},
     "output_type": "display_data"
    }
   ],
   "source": [
    "# графики, показывающие средний скор в зависимости от значения параметра\n",
    "params_to_show = columns_to_show[:-2]\n",
    "fig, axs = plt.subplots(ncols=len(params_to_show), nrows=1, sharey=True)\n",
    "fig.set_size_inches(15,6)\n",
    "for i in range(len(params_to_show)):\n",
    "    sns.barplot(x=params_to_show[i], y='mean_test_score', data=rs_df, ax=axs[i])\n",
    "    axs[i].set_title(label = params_to_show[i][params_to_show[i].find('__')+2:], size=20)\n",
    "    axs[i].tick_params(rotation=90)"
   ]
  },
  {
   "cell_type": "markdown",
   "id": "7caf4964",
   "metadata": {},
   "source": [
    "Результат хороший (забегая вперед, лучше, чем у деревянных моделей).\n",
    "\n",
    "Поэтому попробую его максимизировать по найденным пераметрам с помощью уже GridSearch."
   ]
  },
  {
   "cell_type": "code",
   "execution_count": 190,
   "id": "834ad39b",
   "metadata": {},
   "outputs": [
    {
     "name": "stdout",
     "output_type": "stream",
     "text": [
      "Fitting 5 folds for each of 24 candidates, totalling 120 fits\n",
      "Best params: {'model__C': 1, 'model__class_weight': None, 'model__gamma': 0.1, 'model__kernel': 'rbf', 'model__max_iter': -1, 'preprocessing__standardscaler': StandardScaler()}\n",
      "Best score: 0.4491701244813278\n",
      "CPU times: user 26.1 s, sys: 6.5 s, total: 32.6 s\n",
      "Wall time: 4min 2s\n"
     ]
    }
   ],
   "source": [
    "%%time\n",
    "\n",
    "# сетка параметров\n",
    "param_grid = {'model__kernel': ['rbf'],\n",
    "              'model__max_iter': [-1, 6000, 7000],\n",
    "              'model__class_weight': [None],\n",
    "              'model__C': [1, 10],\n",
    "              'model__gamma': [0.1, 'auto'],\n",
    "              'preprocessing__standardscaler': [MinMaxScaler(), StandardScaler()]\n",
    "             }\n",
    "\n",
    "fine_gs = GridSearchCV(svc_pipeline, \n",
    "                  param_grid=param_grid, \n",
    "                  cv = 5, \n",
    "                  n_jobs=-1, \n",
    "                  verbose=1,\n",
    "                  scoring='f1_micro'\n",
    "                  )\n",
    "\n",
    "fine_gs.fit(X, Y)\n",
    "print('Best params:', fine_gs.best_params_)\n",
    "print('Best score:', fine_gs.best_score_)"
   ]
  },
  {
   "cell_type": "markdown",
   "id": "de6f5d07",
   "metadata": {},
   "source": [
    "## KNN"
   ]
  },
  {
   "cell_type": "code",
   "execution_count": 194,
   "id": "38462da2",
   "metadata": {
    "scrolled": true
   },
   "outputs": [],
   "source": [
    "pipeline = linear_pipeline(KNeighborsClassifier())"
   ]
  },
  {
   "cell_type": "code",
   "execution_count": 195,
   "id": "d442a9e9",
   "metadata": {},
   "outputs": [
    {
     "name": "stdout",
     "output_type": "stream",
     "text": [
      "Fitting 5 folds for each of 50 candidates, totalling 250 fits\n",
      "Best params: {'model__weights': 'distance', 'model__n_neighbors': 32, 'model__leaf_size': 47, 'model__algorithm': 'auto'}\n",
      "Best score: 0.4006742738589212\n",
      "CPU times: user 3.34 s, sys: 6.29 s, total: 9.63 s\n",
      "Wall time: 53.8 s\n"
     ]
    }
   ],
   "source": [
    "%%time\n",
    "\n",
    "# сетка параметров\n",
    "param_grid = {'model__n_neighbors': range(20,40),\n",
    "              'model__weights': ['uniform', 'distance'],\n",
    "              'model__algorithm': ['auto', 'ball_tree', 'kd_tree', 'brute'],\n",
    "              'model__leaf_size': np.linspace(10, 50, 15).astype('int')\n",
    "             }\n",
    "\n",
    "knn_gs = RandomizedSearchCV(pipeline, \n",
    "                  param_distributions=param_grid, \n",
    "                  n_iter = 50,\n",
    "                  cv = 5, \n",
    "                  n_jobs=-1, \n",
    "                  verbose=1,\n",
    "                  scoring='f1_micro',\n",
    "                  random_state=SEED,\n",
    "#                   error_score='raise'\n",
    "                  )\n",
    "\n",
    "knn_gs.fit(X, Y)\n",
    "print('Best params:', knn_gs.best_params_)\n",
    "print('Best score:', knn_gs.best_score_)"
   ]
  },
  {
   "cell_type": "code",
   "execution_count": 196,
   "id": "b5c98a3b",
   "metadata": {},
   "outputs": [
    {
     "data": {
      "text/html": [
       "<div>\n",
       "<style scoped>\n",
       "    .dataframe tbody tr th:only-of-type {\n",
       "        vertical-align: middle;\n",
       "    }\n",
       "\n",
       "    .dataframe tbody tr th {\n",
       "        vertical-align: top;\n",
       "    }\n",
       "\n",
       "    .dataframe thead th {\n",
       "        text-align: right;\n",
       "    }\n",
       "</style>\n",
       "<table border=\"1\" class=\"dataframe\">\n",
       "  <thead>\n",
       "    <tr style=\"text-align: right;\">\n",
       "      <th></th>\n",
       "      <th>param_model__n_neighbors</th>\n",
       "      <th>param_model__weights</th>\n",
       "      <th>param_model__algorithm</th>\n",
       "      <th>param_model__leaf_size</th>\n",
       "      <th>mean_test_score</th>\n",
       "      <th>rank_test_score</th>\n",
       "    </tr>\n",
       "  </thead>\n",
       "  <tbody>\n",
       "    <tr>\n",
       "      <th>0</th>\n",
       "      <td>32</td>\n",
       "      <td>distance</td>\n",
       "      <td>auto</td>\n",
       "      <td>47</td>\n",
       "      <td>0.401</td>\n",
       "      <td>1</td>\n",
       "    </tr>\n",
       "    <tr>\n",
       "      <th>1</th>\n",
       "      <td>32</td>\n",
       "      <td>distance</td>\n",
       "      <td>kd_tree</td>\n",
       "      <td>18</td>\n",
       "      <td>0.401</td>\n",
       "      <td>2</td>\n",
       "    </tr>\n",
       "    <tr>\n",
       "      <th>2</th>\n",
       "      <td>32</td>\n",
       "      <td>distance</td>\n",
       "      <td>kd_tree</td>\n",
       "      <td>38</td>\n",
       "      <td>0.401</td>\n",
       "      <td>2</td>\n",
       "    </tr>\n",
       "    <tr>\n",
       "      <th>3</th>\n",
       "      <td>29</td>\n",
       "      <td>distance</td>\n",
       "      <td>brute</td>\n",
       "      <td>35</td>\n",
       "      <td>0.401</td>\n",
       "      <td>4</td>\n",
       "    </tr>\n",
       "    <tr>\n",
       "      <th>4</th>\n",
       "      <td>29</td>\n",
       "      <td>distance</td>\n",
       "      <td>kd_tree</td>\n",
       "      <td>15</td>\n",
       "      <td>0.401</td>\n",
       "      <td>4</td>\n",
       "    </tr>\n",
       "    <tr>\n",
       "      <th>5</th>\n",
       "      <td>33</td>\n",
       "      <td>distance</td>\n",
       "      <td>auto</td>\n",
       "      <td>18</td>\n",
       "      <td>0.400</td>\n",
       "      <td>6</td>\n",
       "    </tr>\n",
       "    <tr>\n",
       "      <th>6</th>\n",
       "      <td>35</td>\n",
       "      <td>uniform</td>\n",
       "      <td>ball_tree</td>\n",
       "      <td>32</td>\n",
       "      <td>0.400</td>\n",
       "      <td>7</td>\n",
       "    </tr>\n",
       "    <tr>\n",
       "      <th>7</th>\n",
       "      <td>34</td>\n",
       "      <td>distance</td>\n",
       "      <td>auto</td>\n",
       "      <td>35</td>\n",
       "      <td>0.400</td>\n",
       "      <td>8</td>\n",
       "    </tr>\n",
       "    <tr>\n",
       "      <th>8</th>\n",
       "      <td>34</td>\n",
       "      <td>distance</td>\n",
       "      <td>brute</td>\n",
       "      <td>32</td>\n",
       "      <td>0.400</td>\n",
       "      <td>8</td>\n",
       "    </tr>\n",
       "    <tr>\n",
       "      <th>9</th>\n",
       "      <td>34</td>\n",
       "      <td>distance</td>\n",
       "      <td>kd_tree</td>\n",
       "      <td>24</td>\n",
       "      <td>0.400</td>\n",
       "      <td>8</td>\n",
       "    </tr>\n",
       "  </tbody>\n",
       "</table>\n",
       "</div>"
      ],
      "text/plain": [
       "   param_model__n_neighbors param_model__weights param_model__algorithm  \\\n",
       "0                        32             distance                   auto   \n",
       "1                        32             distance                kd_tree   \n",
       "2                        32             distance                kd_tree   \n",
       "3                        29             distance                  brute   \n",
       "4                        29             distance                kd_tree   \n",
       "5                        33             distance                   auto   \n",
       "6                        35              uniform              ball_tree   \n",
       "7                        34             distance                   auto   \n",
       "8                        34             distance                  brute   \n",
       "9                        34             distance                kd_tree   \n",
       "\n",
       "   param_model__leaf_size  mean_test_score  rank_test_score  \n",
       "0                      47            0.401                1  \n",
       "1                      18            0.401                2  \n",
       "2                      38            0.401                2  \n",
       "3                      35            0.401                4  \n",
       "4                      15            0.401                4  \n",
       "5                      18            0.400                6  \n",
       "6                      32            0.400                7  \n",
       "7                      35            0.400                8  \n",
       "8                      32            0.400                8  \n",
       "9                      24            0.400                8  "
      ]
     },
     "execution_count": 196,
     "metadata": {},
     "output_type": "execute_result"
    }
   ],
   "source": [
    "# обрабатываем результаты работы модели\n",
    "rs_df = pd.DataFrame(knn_gs.cv_results_).sort_values('rank_test_score').reset_index(drop=True)\n",
    "\n",
    "rs_df = rs_df[rs_df.mean_test_score.notna()]\n",
    "\n",
    "columns_to_show = ['param_' + x for x in param_grid.keys()] + ['mean_test_score', 'rank_test_score']\n",
    "rs_df = rs_df[columns_to_show]\n",
    "rs_df = rs_df.fillna('None')\n",
    "\n",
    "params_to_show = list(rs_df.columns[:-2])\n",
    "\n",
    "rs_df.head(10)"
   ]
  },
  {
   "cell_type": "code",
   "execution_count": 197,
   "id": "00c931cd",
   "metadata": {
    "scrolled": false
   },
   "outputs": [
    {
     "data": {
      "image/png": "[encoded data removed]",
      "text/plain": [
       "<Figure size 1500x600 with 4 Axes>"
      ]
     },
     "metadata": {},
     "output_type": "display_data"
    }
   ],
   "source": [
    "# графики, показывающие средний скор в зависимости от значения параметра\n",
    "params_to_show = columns_to_show[:-2]\n",
    "fig, axs = plt.subplots(ncols=len(params_to_show), nrows=1, sharey=True)\n",
    "fig.set_size_inches(15,6)\n",
    "for i in range(len(params_to_show)):\n",
    "    sns.barplot(x=params_to_show[i], y='mean_test_score', data=rs_df, ax=axs[i])\n",
    "    axs[i].set_title(label = params_to_show[i][params_to_show[i].find('__')+2:], size=20)\n",
    "    axs[i].tick_params(rotation=90)"
   ]
  },
  {
   "cell_type": "markdown",
   "id": "2bdf40f3",
   "metadata": {},
   "source": [
    "Результат у KNN стабильный 0.4 практически независимо от гиперпараметров, вряд ли здесь можно что-то улучшить."
   ]
  },
  {
   "cell_type": "markdown",
   "id": "29a0ed1c",
   "metadata": {},
   "source": [
    "## \"Деревянные\" модели"
   ]
  },
  {
   "cell_type": "code",
   "execution_count": 198,
   "id": "955cf3ae",
   "metadata": {},
   "outputs": [],
   "source": [
    "def wooden_pipeline(model):\n",
    "    '''\n",
    "    создает обыкновенный пайплан с порядковым кодированием текстовых фичей для деревянных моделей\n",
    "    '''\n",
    "    # Порядковое кодирование \n",
    "    encoder = OrdinalEncoder(handle_unknown = 'error')\n",
    "    obj_cols = X.select_dtypes('object').columns\n",
    "    encoder_preprocessor = ColumnTransformer([('ord_encoder', encoder, obj_cols)])\n",
    "    # финальный пайплайн\n",
    "    pipeline = Pipeline([(\"preprocessing\", encoder_preprocessor),\n",
    "                         (\"imputer\", KNNImputer()),\n",
    "                         ('model', model)])\n",
    "    return pipeline"
   ]
  },
  {
   "cell_type": "markdown",
   "id": "a58e0ed1",
   "metadata": {},
   "source": [
    "### DecisionTreeClassifier"
   ]
  },
  {
   "cell_type": "code",
   "execution_count": 199,
   "id": "bda39d00",
   "metadata": {},
   "outputs": [],
   "source": [
    "dt_pipeline = wooden_pipeline(DecisionTreeClassifier(random_state=SEED))"
   ]
  },
  {
   "cell_type": "code",
   "execution_count": 200,
   "id": "9843e8d5",
   "metadata": {},
   "outputs": [
    {
     "name": "stdout",
     "output_type": "stream",
     "text": [
      "Fitting 5 folds for each of 500 candidates, totalling 2500 fits\n",
      "{'model__min_samples_split': 78, 'model__min_samples_leaf': 45, 'model__max_leaf_nodes': 34, 'model__max_features': None, 'model__max_depth': 5, 'model__criterion': 'entropy', 'model__class_weight': None, 'imputer__n_neighbors': 3}\n",
      "0.175\n",
      "CPU times: user 19.1 s, sys: 7.83 s, total: 27 s\n",
      "Wall time: 5min 56s\n"
     ]
    }
   ],
   "source": [
    "%%time\n",
    "\n",
    "param_grid = {'model__max_features': ['auto', 'sqrt', 'log2', None],\n",
    "              'model__max_depth': list(range(5,30)),\n",
    "              'model__min_samples_leaf': [int(x) for x in np.linspace(start = 2, stop = 100, num = 10)],\n",
    "              'model__min_samples_split': [int(x) for x in np.linspace(start = 2, stop = 100, num = 10)],\n",
    "              'model__class_weight': ['balanced', None],\n",
    "              'model__criterion' : [\"gini\", \"entropy\"],\n",
    "              'model__max_leaf_nodes': [int(x) for x in np.linspace(start = 2, stop = 100, num = 10)],\n",
    "              'imputer__n_neighbors': [3,5,7,10]\n",
    "             }\n",
    "\n",
    "gs = RandomizedSearchCV(dt_pipeline, \n",
    "                  param_grid, \n",
    "                  n_iter = 500,\n",
    "                  cv = 5, \n",
    "                  n_jobs=-1, \n",
    "                  verbose = 1,\n",
    "                  scoring='f1_micro',\n",
    "                  random_state=SEED)\n",
    "\n",
    "\n",
    "gs.fit(X, Y)\n",
    "print(gs.best_params_)\n",
    "print(gs.best_score_)"
   ]
  },
  {
   "cell_type": "code",
   "execution_count": 201,
   "id": "4cce9fe0",
   "metadata": {},
   "outputs": [
    {
     "data": {
      "text/html": [
       "<div>\n",
       "<style scoped>\n",
       "    .dataframe tbody tr th:only-of-type {\n",
       "        vertical-align: middle;\n",
       "    }\n",
       "\n",
       "    .dataframe tbody tr th {\n",
       "        vertical-align: top;\n",
       "    }\n",
       "\n",
       "    .dataframe thead th {\n",
       "        text-align: right;\n",
       "    }\n",
       "</style>\n",
       "<table border=\"1\" class=\"dataframe\">\n",
       "  <thead>\n",
       "    <tr style=\"text-align: right;\">\n",
       "      <th></th>\n",
       "      <th>param_model__max_features</th>\n",
       "      <th>param_model__max_depth</th>\n",
       "      <th>param_model__min_samples_leaf</th>\n",
       "      <th>param_model__min_samples_split</th>\n",
       "      <th>param_model__class_weight</th>\n",
       "      <th>param_model__criterion</th>\n",
       "      <th>param_model__max_leaf_nodes</th>\n",
       "      <th>param_imputer__n_neighbors</th>\n",
       "      <th>mean_test_score</th>\n",
       "      <th>rank_test_score</th>\n",
       "    </tr>\n",
       "  </thead>\n",
       "  <tbody>\n",
       "    <tr>\n",
       "      <th>0</th>\n",
       "      <td>None</td>\n",
       "      <td>5</td>\n",
       "      <td>45</td>\n",
       "      <td>78</td>\n",
       "      <td>None</td>\n",
       "      <td>entropy</td>\n",
       "      <td>34</td>\n",
       "      <td>3</td>\n",
       "      <td>0.175</td>\n",
       "      <td>1</td>\n",
       "    </tr>\n",
       "    <tr>\n",
       "      <th>1</th>\n",
       "      <td>None</td>\n",
       "      <td>28</td>\n",
       "      <td>45</td>\n",
       "      <td>100</td>\n",
       "      <td>None</td>\n",
       "      <td>entropy</td>\n",
       "      <td>23</td>\n",
       "      <td>5</td>\n",
       "      <td>0.175</td>\n",
       "      <td>2</td>\n",
       "    </tr>\n",
       "    <tr>\n",
       "      <th>2</th>\n",
       "      <td>auto</td>\n",
       "      <td>7</td>\n",
       "      <td>23</td>\n",
       "      <td>89</td>\n",
       "      <td>None</td>\n",
       "      <td>gini</td>\n",
       "      <td>100</td>\n",
       "      <td>3</td>\n",
       "      <td>0.175</td>\n",
       "      <td>3</td>\n",
       "    </tr>\n",
       "    <tr>\n",
       "      <th>3</th>\n",
       "      <td>log2</td>\n",
       "      <td>7</td>\n",
       "      <td>34</td>\n",
       "      <td>12</td>\n",
       "      <td>None</td>\n",
       "      <td>gini</td>\n",
       "      <td>23</td>\n",
       "      <td>3</td>\n",
       "      <td>0.175</td>\n",
       "      <td>4</td>\n",
       "    </tr>\n",
       "    <tr>\n",
       "      <th>4</th>\n",
       "      <td>log2</td>\n",
       "      <td>7</td>\n",
       "      <td>56</td>\n",
       "      <td>56</td>\n",
       "      <td>None</td>\n",
       "      <td>gini</td>\n",
       "      <td>100</td>\n",
       "      <td>3</td>\n",
       "      <td>0.175</td>\n",
       "      <td>5</td>\n",
       "    </tr>\n",
       "    <tr>\n",
       "      <th>5</th>\n",
       "      <td>sqrt</td>\n",
       "      <td>6</td>\n",
       "      <td>34</td>\n",
       "      <td>89</td>\n",
       "      <td>None</td>\n",
       "      <td>entropy</td>\n",
       "      <td>34</td>\n",
       "      <td>3</td>\n",
       "      <td>0.175</td>\n",
       "      <td>6</td>\n",
       "    </tr>\n",
       "    <tr>\n",
       "      <th>6</th>\n",
       "      <td>None</td>\n",
       "      <td>12</td>\n",
       "      <td>23</td>\n",
       "      <td>23</td>\n",
       "      <td>None</td>\n",
       "      <td>gini</td>\n",
       "      <td>78</td>\n",
       "      <td>7</td>\n",
       "      <td>0.174</td>\n",
       "      <td>7</td>\n",
       "    </tr>\n",
       "    <tr>\n",
       "      <th>7</th>\n",
       "      <td>auto</td>\n",
       "      <td>6</td>\n",
       "      <td>2</td>\n",
       "      <td>100</td>\n",
       "      <td>None</td>\n",
       "      <td>entropy</td>\n",
       "      <td>23</td>\n",
       "      <td>3</td>\n",
       "      <td>0.174</td>\n",
       "      <td>8</td>\n",
       "    </tr>\n",
       "    <tr>\n",
       "      <th>8</th>\n",
       "      <td>auto</td>\n",
       "      <td>24</td>\n",
       "      <td>23</td>\n",
       "      <td>34</td>\n",
       "      <td>None</td>\n",
       "      <td>entropy</td>\n",
       "      <td>34</td>\n",
       "      <td>3</td>\n",
       "      <td>0.174</td>\n",
       "      <td>9</td>\n",
       "    </tr>\n",
       "    <tr>\n",
       "      <th>9</th>\n",
       "      <td>log2</td>\n",
       "      <td>11</td>\n",
       "      <td>45</td>\n",
       "      <td>78</td>\n",
       "      <td>None</td>\n",
       "      <td>entropy</td>\n",
       "      <td>34</td>\n",
       "      <td>3</td>\n",
       "      <td>0.174</td>\n",
       "      <td>10</td>\n",
       "    </tr>\n",
       "  </tbody>\n",
       "</table>\n",
       "</div>"
      ],
      "text/plain": [
       "  param_model__max_features  param_model__max_depth  \\\n",
       "0                      None                       5   \n",
       "1                      None                      28   \n",
       "2                      auto                       7   \n",
       "3                      log2                       7   \n",
       "4                      log2                       7   \n",
       "5                      sqrt                       6   \n",
       "6                      None                      12   \n",
       "7                      auto                       6   \n",
       "8                      auto                      24   \n",
       "9                      log2                      11   \n",
       "\n",
       "   param_model__min_samples_leaf  param_model__min_samples_split  \\\n",
       "0                             45                              78   \n",
       "1                             45                             100   \n",
       "2                             23                              89   \n",
       "3                             34                              12   \n",
       "4                             56                              56   \n",
       "5                             34                              89   \n",
       "6                             23                              23   \n",
       "7                              2                             100   \n",
       "8                             23                              34   \n",
       "9                             45                              78   \n",
       "\n",
       "  param_model__class_weight param_model__criterion  \\\n",
       "0                      None                entropy   \n",
       "1                      None                entropy   \n",
       "2                      None                   gini   \n",
       "3                      None                   gini   \n",
       "4                      None                   gini   \n",
       "5                      None                entropy   \n",
       "6                      None                   gini   \n",
       "7                      None                entropy   \n",
       "8                      None                entropy   \n",
       "9                      None                entropy   \n",
       "\n",
       "   param_model__max_leaf_nodes  param_imputer__n_neighbors  mean_test_score  \\\n",
       "0                           34                           3            0.175   \n",
       "1                           23                           5            0.175   \n",
       "2                          100                           3            0.175   \n",
       "3                           23                           3            0.175   \n",
       "4                          100                           3            0.175   \n",
       "5                           34                           3            0.175   \n",
       "6                           78                           7            0.174   \n",
       "7                           23                           3            0.174   \n",
       "8                           34                           3            0.174   \n",
       "9                           34                           3            0.174   \n",
       "\n",
       "   rank_test_score  \n",
       "0                1  \n",
       "1                2  \n",
       "2                3  \n",
       "3                4  \n",
       "4                5  \n",
       "5                6  \n",
       "6                7  \n",
       "7                8  \n",
       "8                9  \n",
       "9               10  "
      ]
     },
     "execution_count": 201,
     "metadata": {},
     "output_type": "execute_result"
    }
   ],
   "source": [
    "# обрабатываем результаты работы\n",
    "rs_df = pd.DataFrame(gs.cv_results_).sort_values('rank_test_score').reset_index(drop=True)\n",
    "\n",
    "rs_df = rs_df[rs_df.mean_test_score.notna()]\n",
    "\n",
    "columns_to_show = ['param_' + x for x in param_grid.keys()] + ['mean_test_score', 'rank_test_score']\n",
    "rs_df = rs_df[columns_to_show]\n",
    "rs_df = rs_df.fillna('None')\n",
    "\n",
    "params_to_show = list(rs_df.columns[:-2])\n",
    "\n",
    "rs_df.head(10)"
   ]
  },
  {
   "cell_type": "code",
   "execution_count": 202,
   "id": "e5c674fd",
   "metadata": {},
   "outputs": [
    {
     "data": {
      "image/png": "[encoded data removed]",
      "text/plain": [
       "<Figure size 1500x700 with 8 Axes>"
      ]
     },
     "metadata": {},
     "output_type": "display_data"
    }
   ],
   "source": [
    "# графики, показывающие средний скор в зависимости от значения параметра\n",
    "params_to_show = columns_to_show[:-2]\n",
    "fig, axs = plt.subplots(ncols=len(params_to_show), nrows=1, sharey=True)\n",
    "fig.set_size_inches(15,7)\n",
    "for i in range(len(params_to_show)):\n",
    "    sns.barplot(x=params_to_show[i], y='mean_test_score', data=rs_df, ax=axs[i])\n",
    "    axs[i].set_title(label = params_to_show[i][params_to_show[i].find('__')+2:], size=20)\n",
    "    axs[i].tick_params(rotation=90)"
   ]
  },
  {
   "cell_type": "markdown",
   "id": "e801df30",
   "metadata": {},
   "source": [
    "Decision Tree в данной задаче показывает низкую эффективность, независимо от тюнинга гиперпараметров, так что перейдем к следующей модели."
   ]
  },
  {
   "cell_type": "markdown",
   "id": "566c0495",
   "metadata": {},
   "source": [
    "## lightgbm"
   ]
  },
  {
   "cell_type": "code",
   "execution_count": 250,
   "id": "b94c39d2",
   "metadata": {},
   "outputs": [],
   "source": [
    "import lightgbm as lgb"
   ]
  },
  {
   "cell_type": "code",
   "execution_count": 351,
   "id": "7701cce3",
   "metadata": {},
   "outputs": [],
   "source": [
    "gbm_pipeline = wooden_pipeline(lgb.LGBMClassifier(random_state=SEED))"
   ]
  },
  {
   "cell_type": "code",
   "execution_count": 353,
   "id": "5599dc6f",
   "metadata": {
    "scrolled": true
   },
   "outputs": [
    {
     "name": "stdout",
     "output_type": "stream",
     "text": [
      "Fitting 5 folds for each of 200 candidates, totalling 1000 fits\n",
      "{'model__subsample': 0.9, 'model__num_leaves': 3, 'model__n_estimators': 100, 'model__max_depth': 20, 'model__class_weight': None, 'model__boosting_type': 'goss'}\n",
      "0.18529352172753932\n",
      "CPU times: user 1h 34min 9s, sys: 3.51 s, total: 1h 34min 12s\n",
      "Wall time: 17min 53s\n"
     ]
    }
   ],
   "source": [
    "%%time\n",
    "\n",
    "param_grid = {\n",
    "    'model__boosting_type': ['gbdt', 'dart', 'goss'],\n",
    "    'model__num_leaves': [3,5,10,15,20,25,31,40],\n",
    "    'model__max_depth': [-1,2,3,5,8,10,15,20,30],\n",
    "    'model__n_estimators': [50, 100, 150, 200, 300, 500],\n",
    "    'model__subsample': [0.7, 0.8, 0.9, 1],\n",
    "    'model__class_weight': ['balanced', None]\n",
    "}\n",
    "\n",
    "lgb_gs = RandomizedSearchCV(gbm_pipeline, \n",
    "                  param_grid, \n",
    "                  n_iter = 200,\n",
    "                  cv = 5, \n",
    "                  n_jobs=-1, \n",
    "                  verbose = 1,\n",
    "                  scoring='f1_micro',\n",
    "                  random_state=SEED)\n",
    "\n",
    "lgb_gs.fit(X, Y)\n",
    "print(lgb_gs.best_params_)\n",
    "print(lgb_gs.best_score_)"
   ]
  },
  {
   "cell_type": "code",
   "execution_count": 354,
   "id": "10045d3d",
   "metadata": {},
   "outputs": [
    {
     "data": {
      "text/html": [
       "<div>\n",
       "<style scoped>\n",
       "    .dataframe tbody tr th:only-of-type {\n",
       "        vertical-align: middle;\n",
       "    }\n",
       "\n",
       "    .dataframe tbody tr th {\n",
       "        vertical-align: top;\n",
       "    }\n",
       "\n",
       "    .dataframe thead th {\n",
       "        text-align: right;\n",
       "    }\n",
       "</style>\n",
       "<table border=\"1\" class=\"dataframe\">\n",
       "  <thead>\n",
       "    <tr style=\"text-align: right;\">\n",
       "      <th></th>\n",
       "      <th>param_model__boosting_type</th>\n",
       "      <th>param_model__num_leaves</th>\n",
       "      <th>param_model__max_depth</th>\n",
       "      <th>param_model__n_estimators</th>\n",
       "      <th>param_model__subsample</th>\n",
       "      <th>param_model__class_weight</th>\n",
       "      <th>mean_test_score</th>\n",
       "      <th>rank_test_score</th>\n",
       "    </tr>\n",
       "  </thead>\n",
       "  <tbody>\n",
       "    <tr>\n",
       "      <th>0</th>\n",
       "      <td>goss</td>\n",
       "      <td>3</td>\n",
       "      <td>20</td>\n",
       "      <td>100</td>\n",
       "      <td>0.900</td>\n",
       "      <td>None</td>\n",
       "      <td>0.185</td>\n",
       "      <td>1</td>\n",
       "    </tr>\n",
       "    <tr>\n",
       "      <th>1</th>\n",
       "      <td>gbdt</td>\n",
       "      <td>3</td>\n",
       "      <td>10</td>\n",
       "      <td>200</td>\n",
       "      <td>0.900</td>\n",
       "      <td>None</td>\n",
       "      <td>0.185</td>\n",
       "      <td>2</td>\n",
       "    </tr>\n",
       "    <tr>\n",
       "      <th>2</th>\n",
       "      <td>gbdt</td>\n",
       "      <td>3</td>\n",
       "      <td>15</td>\n",
       "      <td>200</td>\n",
       "      <td>0.700</td>\n",
       "      <td>None</td>\n",
       "      <td>0.185</td>\n",
       "      <td>2</td>\n",
       "    </tr>\n",
       "    <tr>\n",
       "      <th>3</th>\n",
       "      <td>gbdt</td>\n",
       "      <td>5</td>\n",
       "      <td>8</td>\n",
       "      <td>100</td>\n",
       "      <td>0.700</td>\n",
       "      <td>None</td>\n",
       "      <td>0.185</td>\n",
       "      <td>4</td>\n",
       "    </tr>\n",
       "    <tr>\n",
       "      <th>4</th>\n",
       "      <td>dart</td>\n",
       "      <td>10</td>\n",
       "      <td>3</td>\n",
       "      <td>500</td>\n",
       "      <td>1.000</td>\n",
       "      <td>None</td>\n",
       "      <td>0.185</td>\n",
       "      <td>5</td>\n",
       "    </tr>\n",
       "    <tr>\n",
       "      <th>5</th>\n",
       "      <td>gbdt</td>\n",
       "      <td>15</td>\n",
       "      <td>2</td>\n",
       "      <td>150</td>\n",
       "      <td>0.900</td>\n",
       "      <td>None</td>\n",
       "      <td>0.185</td>\n",
       "      <td>6</td>\n",
       "    </tr>\n",
       "    <tr>\n",
       "      <th>6</th>\n",
       "      <td>goss</td>\n",
       "      <td>5</td>\n",
       "      <td>3</td>\n",
       "      <td>100</td>\n",
       "      <td>0.900</td>\n",
       "      <td>None</td>\n",
       "      <td>0.184</td>\n",
       "      <td>7</td>\n",
       "    </tr>\n",
       "    <tr>\n",
       "      <th>7</th>\n",
       "      <td>gbdt</td>\n",
       "      <td>5</td>\n",
       "      <td>2</td>\n",
       "      <td>200</td>\n",
       "      <td>0.800</td>\n",
       "      <td>None</td>\n",
       "      <td>0.184</td>\n",
       "      <td>8</td>\n",
       "    </tr>\n",
       "    <tr>\n",
       "      <th>8</th>\n",
       "      <td>gbdt</td>\n",
       "      <td>20</td>\n",
       "      <td>2</td>\n",
       "      <td>200</td>\n",
       "      <td>1.000</td>\n",
       "      <td>None</td>\n",
       "      <td>0.184</td>\n",
       "      <td>8</td>\n",
       "    </tr>\n",
       "    <tr>\n",
       "      <th>9</th>\n",
       "      <td>gbdt</td>\n",
       "      <td>3</td>\n",
       "      <td>-1</td>\n",
       "      <td>150</td>\n",
       "      <td>0.700</td>\n",
       "      <td>None</td>\n",
       "      <td>0.184</td>\n",
       "      <td>10</td>\n",
       "    </tr>\n",
       "  </tbody>\n",
       "</table>\n",
       "</div>"
      ],
      "text/plain": [
       "  param_model__boosting_type  param_model__num_leaves  param_model__max_depth  \\\n",
       "0                       goss                        3                      20   \n",
       "1                       gbdt                        3                      10   \n",
       "2                       gbdt                        3                      15   \n",
       "3                       gbdt                        5                       8   \n",
       "4                       dart                       10                       3   \n",
       "5                       gbdt                       15                       2   \n",
       "6                       goss                        5                       3   \n",
       "7                       gbdt                        5                       2   \n",
       "8                       gbdt                       20                       2   \n",
       "9                       gbdt                        3                      -1   \n",
       "\n",
       "   param_model__n_estimators  param_model__subsample  \\\n",
       "0                        100                   0.900   \n",
       "1                        200                   0.900   \n",
       "2                        200                   0.700   \n",
       "3                        100                   0.700   \n",
       "4                        500                   1.000   \n",
       "5                        150                   0.900   \n",
       "6                        100                   0.900   \n",
       "7                        200                   0.800   \n",
       "8                        200                   1.000   \n",
       "9                        150                   0.700   \n",
       "\n",
       "  param_model__class_weight  mean_test_score  rank_test_score  \n",
       "0                      None            0.185                1  \n",
       "1                      None            0.185                2  \n",
       "2                      None            0.185                2  \n",
       "3                      None            0.185                4  \n",
       "4                      None            0.185                5  \n",
       "5                      None            0.185                6  \n",
       "6                      None            0.184                7  \n",
       "7                      None            0.184                8  \n",
       "8                      None            0.184                8  \n",
       "9                      None            0.184               10  "
      ]
     },
     "execution_count": 354,
     "metadata": {},
     "output_type": "execute_result"
    }
   ],
   "source": [
    "# обрабатываем результаты работы\n",
    "rs_df = pd.DataFrame(lgb_gs.cv_results_).sort_values('rank_test_score').reset_index(drop=True)\n",
    "rs_df = rs_df[rs_df.mean_test_score.notna()]\n",
    "\n",
    "columns_to_show = ['param_' + x for x in param_grid.keys()] + ['mean_test_score', 'rank_test_score']\n",
    "rs_df = rs_df[columns_to_show]\n",
    "rs_df = rs_df.fillna('None')\n",
    "rs_df.head(10)"
   ]
  },
  {
   "cell_type": "code",
   "execution_count": 355,
   "id": "d2f8bd93",
   "metadata": {},
   "outputs": [
    {
     "data": {
      "text/html": [
       "<div>\n",
       "<style scoped>\n",
       "    .dataframe tbody tr th:only-of-type {\n",
       "        vertical-align: middle;\n",
       "    }\n",
       "\n",
       "    .dataframe tbody tr th {\n",
       "        vertical-align: top;\n",
       "    }\n",
       "\n",
       "    .dataframe thead th {\n",
       "        text-align: right;\n",
       "    }\n",
       "</style>\n",
       "<table border=\"1\" class=\"dataframe\">\n",
       "  <thead>\n",
       "    <tr style=\"text-align: right;\">\n",
       "      <th></th>\n",
       "      <th>param_model__boosting_type</th>\n",
       "      <th>param_model__num_leaves</th>\n",
       "      <th>param_model__max_depth</th>\n",
       "      <th>param_model__n_estimators</th>\n",
       "      <th>param_model__subsample</th>\n",
       "      <th>param_model__class_weight</th>\n",
       "      <th>mean_test_score</th>\n",
       "      <th>rank_test_score</th>\n",
       "    </tr>\n",
       "  </thead>\n",
       "  <tbody>\n",
       "    <tr>\n",
       "      <th>0</th>\n",
       "      <td>goss</td>\n",
       "      <td>3</td>\n",
       "      <td>20</td>\n",
       "      <td>100</td>\n",
       "      <td>0.900</td>\n",
       "      <td>None</td>\n",
       "      <td>0.185</td>\n",
       "      <td>1</td>\n",
       "    </tr>\n",
       "    <tr>\n",
       "      <th>1</th>\n",
       "      <td>gbdt</td>\n",
       "      <td>3</td>\n",
       "      <td>10</td>\n",
       "      <td>200</td>\n",
       "      <td>0.900</td>\n",
       "      <td>None</td>\n",
       "      <td>0.185</td>\n",
       "      <td>2</td>\n",
       "    </tr>\n",
       "    <tr>\n",
       "      <th>2</th>\n",
       "      <td>gbdt</td>\n",
       "      <td>3</td>\n",
       "      <td>15</td>\n",
       "      <td>200</td>\n",
       "      <td>0.700</td>\n",
       "      <td>None</td>\n",
       "      <td>0.185</td>\n",
       "      <td>2</td>\n",
       "    </tr>\n",
       "    <tr>\n",
       "      <th>3</th>\n",
       "      <td>gbdt</td>\n",
       "      <td>5</td>\n",
       "      <td>8</td>\n",
       "      <td>100</td>\n",
       "      <td>0.700</td>\n",
       "      <td>None</td>\n",
       "      <td>0.185</td>\n",
       "      <td>4</td>\n",
       "    </tr>\n",
       "    <tr>\n",
       "      <th>4</th>\n",
       "      <td>dart</td>\n",
       "      <td>10</td>\n",
       "      <td>3</td>\n",
       "      <td>500</td>\n",
       "      <td>1.000</td>\n",
       "      <td>None</td>\n",
       "      <td>0.185</td>\n",
       "      <td>5</td>\n",
       "    </tr>\n",
       "  </tbody>\n",
       "</table>\n",
       "</div>"
      ],
      "text/plain": [
       "  param_model__boosting_type  param_model__num_leaves  param_model__max_depth  \\\n",
       "0                       goss                        3                      20   \n",
       "1                       gbdt                        3                      10   \n",
       "2                       gbdt                        3                      15   \n",
       "3                       gbdt                        5                       8   \n",
       "4                       dart                       10                       3   \n",
       "\n",
       "   param_model__n_estimators  param_model__subsample  \\\n",
       "0                        100                   0.900   \n",
       "1                        200                   0.900   \n",
       "2                        200                   0.700   \n",
       "3                        100                   0.700   \n",
       "4                        500                   1.000   \n",
       "\n",
       "  param_model__class_weight  mean_test_score  rank_test_score  \n",
       "0                      None            0.185                1  \n",
       "1                      None            0.185                2  \n",
       "2                      None            0.185                2  \n",
       "3                      None            0.185                4  \n",
       "4                      None            0.185                5  "
      ]
     },
     "metadata": {},
     "output_type": "display_data"
    },
    {
     "data": {
      "image/png": "[encoded data removed]",
      "text/plain": [
       "<Figure size 1500x600 with 6 Axes>"
      ]
     },
     "metadata": {},
     "output_type": "display_data"
    }
   ],
   "source": [
    "# графики, показывающие средний скор в зависимости от значения параметра\n",
    "params_to_show = columns_to_show[:-2]\n",
    "fig, axs = plt.subplots(ncols=len(params_to_show), nrows=1, sharey=True)\n",
    "fig.set_size_inches(15,6)\n",
    "\n",
    "display(rs_df.head())\n",
    "\n",
    "for i in range(len(params_to_show)):\n",
    "    sns.barplot(x=params_to_show[i], y='mean_test_score', data=rs_df, ax=axs[i])\n",
    "    axs[i].set_title(label = params_to_show[i][params_to_show[i].find('__')+2:], size=20)\n",
    "    axs[i].tick_params(rotation=45)"
   ]
  },
  {
   "cell_type": "markdown",
   "id": "dfb19380",
   "metadata": {},
   "source": [
    "LightGBM в данной задаче показывает низкую эффективность, независимо от тюнинга гиперпараметров."
   ]
  },
  {
   "cell_type": "markdown",
   "id": "6cf31218",
   "metadata": {},
   "source": [
    "## Вывод"
   ]
  },
  {
   "cell_type": "markdown",
   "id": "969630fc",
   "metadata": {},
   "source": [
    "- Были обучены модели: LogisticRegression, SVM, KNN, DecisionTree, LightGBM\n",
    "- Разведка наилучших гиперпараметров проводилась с помощью RandomizedSearchCV, затем результаты визуализировались. Цель - найти диапазоны наиболее подходящих значений.Затем, для модели SVM, показавшей лучший результат, проводился GridSearchCV для максимизации скора.\n",
    "- Лучший результат показала модель SVM с f1_micro = 0.446.\n",
    "- На основании этой модели будут делаться дальнейшие предсказания"
   ]
  },
  {
   "cell_type": "markdown",
   "id": "b31e49bd",
   "metadata": {},
   "source": [
    "# Создание предсказаний"
   ]
  },
  {
   "cell_type": "markdown",
   "id": "f60929ab",
   "metadata": {},
   "source": [
    "## Открываем и обрабатываем файл с тестовыми данными"
   ]
  },
  {
   "cell_type": "code",
   "execution_count": 165,
   "id": "bac2b856",
   "metadata": {},
   "outputs": [],
   "source": [
    "test = pd.read_csv('kaggle_music_genre_test.csv')"
   ]
  },
  {
   "cell_type": "code",
   "execution_count": 166,
   "id": "12b4b56b",
   "metadata": {},
   "outputs": [
    {
     "data": {
      "text/plain": [
       "(5099, 15)"
      ]
     },
     "execution_count": 166,
     "metadata": {},
     "output_type": "execute_result"
    }
   ],
   "source": [
    "test.shape"
   ]
  },
  {
   "cell_type": "code",
   "execution_count": 167,
   "id": "ef6571e5",
   "metadata": {},
   "outputs": [],
   "source": [
    "test = prepare_raw(test)"
   ]
  },
  {
   "cell_type": "code",
   "execution_count": 168,
   "id": "e6ec2002",
   "metadata": {},
   "outputs": [
    {
     "data": {
      "text/html": [
       "<div>\n",
       "<style scoped>\n",
       "    .dataframe tbody tr th:only-of-type {\n",
       "        vertical-align: middle;\n",
       "    }\n",
       "\n",
       "    .dataframe tbody tr th {\n",
       "        vertical-align: top;\n",
       "    }\n",
       "\n",
       "    .dataframe thead th {\n",
       "        text-align: right;\n",
       "    }\n",
       "</style>\n",
       "<table border=\"1\" class=\"dataframe\">\n",
       "  <thead>\n",
       "    <tr style=\"text-align: right;\">\n",
       "      <th></th>\n",
       "      <th>acousticness</th>\n",
       "      <th>danceability</th>\n",
       "      <th>duration_ms</th>\n",
       "      <th>energy</th>\n",
       "      <th>instrumentalness</th>\n",
       "      <th>key</th>\n",
       "      <th>liveness</th>\n",
       "      <th>mode</th>\n",
       "      <th>speechiness</th>\n",
       "      <th>tempo</th>\n",
       "      <th>valence</th>\n",
       "    </tr>\n",
       "    <tr>\n",
       "      <th>instance_id</th>\n",
       "      <th></th>\n",
       "      <th></th>\n",
       "      <th></th>\n",
       "      <th></th>\n",
       "      <th></th>\n",
       "      <th></th>\n",
       "      <th></th>\n",
       "      <th></th>\n",
       "      <th></th>\n",
       "      <th></th>\n",
       "      <th></th>\n",
       "    </tr>\n",
       "  </thead>\n",
       "  <tbody>\n",
       "    <tr>\n",
       "      <th>48564</th>\n",
       "      <td>0.301</td>\n",
       "      <td>0.757</td>\n",
       "      <td>146213.000</td>\n",
       "      <td>0.679</td>\n",
       "      <td>0.000</td>\n",
       "      <td>A#</td>\n",
       "      <td>0.303</td>\n",
       "      <td>Minor</td>\n",
       "      <td>0.356</td>\n",
       "      <td>90.361</td>\n",
       "      <td>0.895</td>\n",
       "    </tr>\n",
       "    <tr>\n",
       "      <th>72394</th>\n",
       "      <td>0.538</td>\n",
       "      <td>0.256</td>\n",
       "      <td>240360.000</td>\n",
       "      <td>0.523</td>\n",
       "      <td>0.008</td>\n",
       "      <td>G#</td>\n",
       "      <td>0.085</td>\n",
       "      <td>Major</td>\n",
       "      <td>0.029</td>\n",
       "      <td>78.385</td>\n",
       "      <td>0.318</td>\n",
       "    </tr>\n",
       "    <tr>\n",
       "      <th>88081</th>\n",
       "      <td>0.006</td>\n",
       "      <td>0.678</td>\n",
       "      <td>284000.000</td>\n",
       "      <td>0.770</td>\n",
       "      <td>0.000</td>\n",
       "      <td>A</td>\n",
       "      <td>0.109</td>\n",
       "      <td>Minor</td>\n",
       "      <td>0.222</td>\n",
       "      <td>90.000</td>\n",
       "      <td>0.412</td>\n",
       "    </tr>\n",
       "    <tr>\n",
       "      <th>78331</th>\n",
       "      <td>0.020</td>\n",
       "      <td>0.592</td>\n",
       "      <td>177354.000</td>\n",
       "      <td>0.749</td>\n",
       "      <td>0.000</td>\n",
       "      <td>B</td>\n",
       "      <td>0.122</td>\n",
       "      <td>Major</td>\n",
       "      <td>0.048</td>\n",
       "      <td>160.046</td>\n",
       "      <td>0.614</td>\n",
       "    </tr>\n",
       "    <tr>\n",
       "      <th>72636</th>\n",
       "      <td>0.000</td>\n",
       "      <td>0.421</td>\n",
       "      <td>-1.000</td>\n",
       "      <td>0.447</td>\n",
       "      <td>0.015</td>\n",
       "      <td>D</td>\n",
       "      <td>0.037</td>\n",
       "      <td>Major</td>\n",
       "      <td>0.202</td>\n",
       "      <td>73.830</td>\n",
       "      <td>0.121</td>\n",
       "    </tr>\n",
       "  </tbody>\n",
       "</table>\n",
       "</div>"
      ],
      "text/plain": [
       "             acousticness  danceability  duration_ms  energy  \\\n",
       "instance_id                                                    \n",
       "48564               0.301         0.757   146213.000   0.679   \n",
       "72394               0.538         0.256   240360.000   0.523   \n",
       "88081               0.006         0.678   284000.000   0.770   \n",
       "78331               0.020         0.592   177354.000   0.749   \n",
       "72636               0.000         0.421       -1.000   0.447   \n",
       "\n",
       "             instrumentalness key  liveness   mode  speechiness    tempo  \\\n",
       "instance_id                                                                \n",
       "48564                   0.000  A#     0.303  Minor        0.356   90.361   \n",
       "72394                   0.008  G#     0.085  Major        0.029   78.385   \n",
       "88081                   0.000   A     0.109  Minor        0.222   90.000   \n",
       "78331                   0.000   B     0.122  Major        0.048  160.046   \n",
       "72636                   0.015   D     0.037  Major        0.202   73.830   \n",
       "\n",
       "             valence  \n",
       "instance_id           \n",
       "48564          0.895  \n",
       "72394          0.318  \n",
       "88081          0.412  \n",
       "78331          0.614  \n",
       "72636          0.121  "
      ]
     },
     "execution_count": 168,
     "metadata": {},
     "output_type": "execute_result"
    }
   ],
   "source": [
    "test.head()"
   ]
  },
  {
   "cell_type": "code",
   "execution_count": 169,
   "id": "0eac70a3",
   "metadata": {
    "scrolled": false
   },
   "outputs": [
    {
     "data": {
      "text/plain": [
       "(5099, 11)"
      ]
     },
     "execution_count": 169,
     "metadata": {},
     "output_type": "execute_result"
    }
   ],
   "source": [
    "test.shape"
   ]
  },
  {
   "cell_type": "markdown",
   "id": "dd6d870b",
   "metadata": {},
   "source": [
    "## Создаем csv-файл с предсказанием"
   ]
  },
  {
   "cell_type": "code",
   "execution_count": 176,
   "id": "70c51ea6",
   "metadata": {
    "scrolled": true
   },
   "outputs": [],
   "source": [
    "predictions = fine_gs.predict(test)"
   ]
  },
  {
   "cell_type": "code",
   "execution_count": 177,
   "id": "31f16817",
   "metadata": {},
   "outputs": [],
   "source": [
    "predictions = pd.DataFrame(data={'instance_id': test.index, 'music_genre': predictions} )"
   ]
  },
  {
   "cell_type": "code",
   "execution_count": 178,
   "id": "d7bfba6b",
   "metadata": {
    "scrolled": true
   },
   "outputs": [
    {
     "data": {
      "text/plain": [
       "(5099, 2)"
      ]
     },
     "execution_count": 178,
     "metadata": {},
     "output_type": "execute_result"
    }
   ],
   "source": [
    "predictions.shape"
   ]
  },
  {
   "cell_type": "code",
   "execution_count": 203,
   "id": "ebfa6fe4",
   "metadata": {},
   "outputs": [
    {
     "data": {
      "text/html": [
       "<div>\n",
       "<style scoped>\n",
       "    .dataframe tbody tr th:only-of-type {\n",
       "        vertical-align: middle;\n",
       "    }\n",
       "\n",
       "    .dataframe tbody tr th {\n",
       "        vertical-align: top;\n",
       "    }\n",
       "\n",
       "    .dataframe thead th {\n",
       "        text-align: right;\n",
       "    }\n",
       "</style>\n",
       "<table border=\"1\" class=\"dataframe\">\n",
       "  <thead>\n",
       "    <tr style=\"text-align: right;\">\n",
       "      <th></th>\n",
       "      <th>instance_id</th>\n",
       "      <th>music_genre</th>\n",
       "    </tr>\n",
       "  </thead>\n",
       "  <tbody>\n",
       "    <tr>\n",
       "      <th>0</th>\n",
       "      <td>48564</td>\n",
       "      <td>Rap</td>\n",
       "    </tr>\n",
       "    <tr>\n",
       "      <th>1</th>\n",
       "      <td>72394</td>\n",
       "      <td>Alternative</td>\n",
       "    </tr>\n",
       "    <tr>\n",
       "      <th>2</th>\n",
       "      <td>88081</td>\n",
       "      <td>Rap</td>\n",
       "    </tr>\n",
       "    <tr>\n",
       "      <th>3</th>\n",
       "      <td>78331</td>\n",
       "      <td>Country</td>\n",
       "    </tr>\n",
       "    <tr>\n",
       "      <th>4</th>\n",
       "      <td>72636</td>\n",
       "      <td>Rap</td>\n",
       "    </tr>\n",
       "  </tbody>\n",
       "</table>\n",
       "</div>"
      ],
      "text/plain": [
       "   instance_id  music_genre\n",
       "0        48564          Rap\n",
       "1        72394  Alternative\n",
       "2        88081          Rap\n",
       "3        78331      Country\n",
       "4        72636          Rap"
      ]
     },
     "execution_count": 203,
     "metadata": {},
     "output_type": "execute_result"
    }
   ],
   "source": [
    "predictions.head()"
   ]
  },
  {
   "cell_type": "code",
   "execution_count": 180,
   "id": "06f81833",
   "metadata": {},
   "outputs": [],
   "source": [
    "predictions.to_csv('predictions.csv', index=False)"
   ]
  }
 ],
 "metadata": {
  "kernelspec": {
   "display_name": "Python 3 (ipykernel)",
   "language": "python",
   "name": "python3"
  },
  "language_info": {
   "codemirror_mode": {
    "name": "ipython",
    "version": 3
   },
   "file_extension": ".py",
   "mimetype": "text/x-python",
   "name": "python",
   "nbconvert_exporter": "python",
   "pygments_lexer": "ipython3",
   "version": "3.7.12"
  },
  "toc": {
   "base_numbering": 1,
   "nav_menu": {},
   "number_sections": true,
   "sideBar": true,
   "skip_h1_title": false,
   "title_cell": "Table of Contents",
   "title_sidebar": "Contents",
   "toc_cell": false,
   "toc_position": {},
   "toc_section_display": true,
   "toc_window_display": true
  },
  "varInspector": {
   "cols": {
    "lenName": 16,
    "lenType": 16,
    "lenVar": 40
   },
   "kernels_config": {
    "python": {
     "delete_cmd_postfix": "",
     "delete_cmd_prefix": "del ",
     "library": "var_list.py",
     "varRefreshCmd": "print(var_dic_list())"
    },
    "r": {
     "delete_cmd_postfix": ") ",
     "delete_cmd_prefix": "rm(",
     "library": "var_list.r",
     "varRefreshCmd": "cat(var_dic_list()) "
    }
   },
   "types_to_exclude": [
    "module",
    "function",
    "builtin_function_or_method",
    "instance",
    "_Feature"
   ],
   "window_display": false
  }
 },
 "nbformat": 4,
 "nbformat_minor": 5
}
